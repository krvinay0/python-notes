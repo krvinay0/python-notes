{
 "cells": [
  {
   "cell_type": "markdown",
   "id": "e51d53ed",
   "metadata": {},
   "source": [
    "## You have been given a random integer array/list(ARR) of size N. You have been required to push all the zeros that are present in the array/list to the end of it. Also, make sure to maintain the relative order of the non-zero elements."
   ]
  },
  {
   "cell_type": "code",
   "execution_count": 27,
   "id": "868c20d1",
   "metadata": {},
   "outputs": [
    {
     "name": "stdout",
     "output_type": "stream",
     "text": [
      "[2, 1, 3, 0, 0, 0, 0]\n"
     ]
    }
   ],
   "source": [
    "def Push_Zeros_to_end(arr, n):\n",
    "    \n",
    "    for i in range(n):\n",
    "        for j in range(n-i-1):\n",
    "            if (arr[j] == 0):\n",
    "                arr[j], arr[j+1] = arr[j+1], arr[j]\n",
    "    \n",
    "arr = [2, 0, 0, 1, 3, 0, 0];\n",
    "n = 7;\n",
    "Push_Zeros_to_end(arr, n)\n",
    "print(arr)"
   ]
  },
  {
   "cell_type": "code",
   "execution_count": null,
   "id": "38906c12",
   "metadata": {},
   "outputs": [],
   "source": [
    "def Push_Zeros_to_end(arr, n):\n",
    "    count = 0\n",
    "    for i in range(n):\n",
    "        if arr[i] != 0:\n",
    "            arr[count] = arr[i]\n",
    "            count = count + 1\n",
    "    while count < n:\n",
    "        arr[count] = 0\n",
    "        count = count + 1\n",
    "    \n",
    "arr = [2, 0, 0, 1, 3, 0, 0];\n",
    "n = 7;\n",
    "Push_Zeros_to_end(arr, n)\n",
    "print(arr)"
   ]
  },
  {
   "cell_type": "code",
   "execution_count": 35,
   "id": "ae5f78a9",
   "metadata": {},
   "outputs": [
    {
     "data": {
      "text/plain": [
       "[2, 1, 3, 0, 0, 0, 0]"
      ]
     },
     "execution_count": 35,
     "metadata": {},
     "output_type": "execute_result"
    }
   ],
   "source": [
    "def Push_Zeros_to_end(arr, n):\n",
    "    count = 0\n",
    "    temp = []\n",
    "    for i in range(n):\n",
    "        if arr[i] != 0:\n",
    "            temp.append(arr[i])\n",
    "            count = count + 1\n",
    "            \n",
    "    while count < n:\n",
    "        temp.append(0) \n",
    "        count = count + 1\n",
    "        \n",
    "    return temp\n",
    "    \n",
    "arr = [2, 0, 0, 1, 3, 0, 0];\n",
    "n = 7;\n",
    "Push_Zeros_to_end(arr, n)"
   ]
  },
  {
   "cell_type": "markdown",
   "id": "ac2025fc",
   "metadata": {},
   "source": [
    "# Second Largest in array"
   ]
  },
  {
   "cell_type": "code",
   "execution_count": 39,
   "id": "c9d53404",
   "metadata": {},
   "outputs": [
    {
     "name": "stdout",
     "output_type": "stream",
     "text": [
      "[7, 6, 5, 4, 3, 2, 1]\n"
     ]
    }
   ],
   "source": [
    "def secondLargestElement(arr, n):\n",
    "\n",
    "    temp = 0\n",
    "    for i in range(n):\n",
    "        for j in  range(n):\n",
    "            if arr[i] > arr[j]:\n",
    "                temp = arr[i]\n",
    "                arr[i] = arr[j]\n",
    "#                 print( temp, \"=\", arr[i], arr[i], \"=\", arr[j], arr)\n",
    "                arr[j] = temp\n",
    "    return arr\n",
    "                    \n",
    "\n",
    "arr = [1, 2, 3, 4, 5, 6, 7];\n",
    "n = 7;\n",
    "print(secondLargestElement(arr, n))"
   ]
  },
  {
   "cell_type": "code",
   "execution_count": 46,
   "id": "dde13e27",
   "metadata": {},
   "outputs": [
    {
     "name": "stdout",
     "output_type": "stream",
     "text": [
      "The second largest element is 6\n",
      "None\n"
     ]
    }
   ],
   "source": [
    "def thirdLargestElement(arr, n):\n",
    "    \n",
    "    if n < 2:\n",
    "        print(\"invalid input\")\n",
    "        return\n",
    "    \n",
    "    first = second = -2147483648\n",
    "    for i in range(n):\n",
    "        if arr[i] > first:\n",
    "            second = first\n",
    "            first = arr[i]\n",
    "            \n",
    "        elif arr[i] > second and arr[i] != first:\n",
    "            second = arr[i]\n",
    "\n",
    "    if (second == -2147483648): \n",
    "        print(\"There is no second largest element\") \n",
    "    else: \n",
    "        print(\"The second largest element is\", second) \n",
    "\n",
    "\n",
    "\n",
    "arr = [1, 2, 3, 4, 5, 6, 7];\n",
    "n = len(arr);\n",
    "print(thirdLargestElement(arr, n))"
   ]
  },
  {
   "cell_type": "code",
   "execution_count": 38,
   "id": "fa9d5467",
   "metadata": {},
   "outputs": [
    {
     "name": "stdout",
     "output_type": "stream",
     "text": [
      "62\n"
     ]
    }
   ],
   "source": [
    "def thirdLargestElement(arr, n):\n",
    "    \n",
    "    if n < 2:\n",
    "        print(\"invalid input\")\n",
    "        return\n",
    "    \n",
    "    first = second = -2147483648\n",
    "    for i in range(n):\n",
    "        if arr[i] > first:\n",
    "            second = first\n",
    "            first = arr[i]\n",
    "            \n",
    "        elif arr[i] > second and arr[i] != first:\n",
    "            second = arr[i]\n",
    "\n",
    "    return second\n",
    "\n",
    "\n",
    "\n",
    "arr = [1, 2, 3, 4, 258, 62, 7];\n",
    "n = len(arr);\n",
    "print(thirdLargestElement(arr, n))"
   ]
  },
  {
   "cell_type": "code",
   "execution_count": 36,
   "id": "a34c546e",
   "metadata": {},
   "outputs": [
    {
     "name": "stdout",
     "output_type": "stream",
     "text": [
      "The second largest element is \n",
      " 35\n"
     ]
    }
   ],
   "source": [
    "def print2largest(arr, arr_size):\n",
    "\n",
    "    if (arr_size < 2):\n",
    "        print(\" Invalid Input \");\n",
    "        return;\n",
    " \n",
    "    largest = second = -2454635434;\n",
    " \n",
    "    for i in range(0, arr_size):\n",
    "        largest = max(largest, arr[i]);\n",
    " \n",
    "    for i in range(0, arr_size):\n",
    "        if (arr[i] != largest):\n",
    "            second = max(second, arr[i]);\n",
    " \n",
    "    if (second == -2454635434):\n",
    "        print(\"There is no second \" +\n",
    "              \"largest element\");\n",
    "    else:\n",
    "        print(\"The second largest \" +\n",
    "              \"element is \\n\", second);\n",
    " \n",
    "arr = [12, 35, 1, 10, 130, 1];\n",
    "n = len(arr);\n",
    "print2largest(arr, n);"
   ]
  },
  {
   "cell_type": "markdown",
   "id": "67019dce",
   "metadata": {},
   "source": [
    "## Rotation array?\n",
    "Input:  nums = [8, 9, 10, 2, 5, 6]\n",
    "Output: The array is rotated 3 times"
   ]
  },
  {
   "cell_type": "code",
   "execution_count": 2,
   "id": "cd363765",
   "metadata": {},
   "outputs": [
    {
     "name": "stdout",
     "output_type": "stream",
     "text": [
      "True\n"
     ]
    }
   ],
   "source": [
    "def solve(nums):\n",
    "    min_element = 999999\n",
    "    min_index = -1\n",
    "    min_element = min(nums)\n",
    "    min_index = nums.index(min_element) \n",
    "    before_sorted = True\n",
    "    \n",
    "    for i in range(1, min_index):\n",
    "        if nums[i] < nums[i - 1]:\n",
    "            before_sorted = False\n",
    "            break\n",
    "    after_sorted = True\n",
    "    for i in range(min_index + 1, len(nums)):\n",
    "        if nums[i] < nums[i - 1]:\n",
    "            after_sorted = False\n",
    "            break\n",
    "    if before_sorted and after_sorted and nums[-1] < nums[0]:\n",
    "        return True\n",
    "    else:\n",
    "        return False\n",
    "    \n",
    "nums = [4,5,6,8,1,3]\n",
    "print(solve(nums))"
   ]
  },
  {
   "cell_type": "code",
   "execution_count": 8,
   "id": "e387bb27",
   "metadata": {},
   "outputs": [
    {
     "name": "stdout",
     "output_type": "stream",
     "text": [
      "3\n"
     ]
    }
   ],
   "source": [
    "def countRotations(arr, n): \n",
    "  \n",
    "   for i in range(0, n):\n",
    "        min = arr[0] \n",
    "        if (min > arr[i]):\n",
    "            min = arr[i] \n",
    "            min_index = i \n",
    "            return min_index;\n",
    "    return 0 \n",
    "  \n",
    "  \n",
    "arr = [15, 18, 19, 2, 3, 6, 12] \n",
    "n = len(arr) \n",
    "print(countRotations(arr, n)) "
   ]
  },
  {
   "cell_type": "code",
   "execution_count": 6,
   "id": "91a24053",
   "metadata": {},
   "outputs": [
    {
     "name": "stdout",
     "output_type": "stream",
     "text": [
      "2\n"
     ]
    }
   ],
   "source": [
    "def countRotations(arr,n): \n",
    "  \n",
    "    # This condition is needed to  \n",
    "    # handle the case when array \n",
    "    # is not rotated at all \n",
    "    low = 0\n",
    "    high = n-1\n",
    "    if (high < low): \n",
    "        return 0\n",
    "  \n",
    "    # If there is only one  \n",
    "    # element left \n",
    "    if (high == low): \n",
    "        return low \n",
    "  \n",
    "    # Find mid \n",
    "    # (low + high)/2  \n",
    "    mid = low + (high - low)/2;  \n",
    "    mid = int(mid) \n",
    "  \n",
    "    # Check if element (mid+1) is \n",
    "    # minimum element. Consider  \n",
    "    # the cases like {3, 4, 5, 1, 2} \n",
    "    if (mid < high and arr[mid+1] < arr[mid]): \n",
    "        return (mid+1) \n",
    "  \n",
    "    # Check if mid itself is  \n",
    "    # minimum element \n",
    "    if (mid > low and arr[mid] < arr[mid - 1]): \n",
    "        return mid \n",
    "  \n",
    "    # Decide whether we need to go \n",
    "    # to left half or right half \n",
    "    if (arr[high] > arr[mid]): \n",
    "        return countRotations(arr, low, mid-1); \n",
    "  \n",
    "    return countRotations(arr, mid+1, high) \n",
    "  \n",
    "# Driver code \n",
    "arr = [15, 18, 2, 3, 6, 12] \n",
    "n = len(arr) \n",
    "print(countRotations(arr, n)) "
   ]
  },
  {
   "cell_type": "code",
   "execution_count": 116,
   "id": "464c4e95",
   "metadata": {},
   "outputs": [
    {
     "name": "stdout",
     "output_type": "stream",
     "text": [
      "[0, 0, 0, 1, 1, 2, 2, 2, 2]\n"
     ]
    }
   ],
   "source": [
    "\n",
    "def sort_array_0s_1s_2s(A,n):  \n",
    "    i=0  \n",
    "    countzero = countone = counttwo = 0  \n",
    "#     while(i<n):  \n",
    "#         if (A[i]==0):  \n",
    "#             countzero=countzero+1  \n",
    "#         elif (A[i]==1):  \n",
    "#             countone=countone+1  \n",
    "#         else:  \n",
    "#             counttwo=counttwo+1  \n",
    "#         i=i+1 \n",
    "        \n",
    "    for i in range(n):\n",
    "        if A[i]==0:\n",
    "            countzero += 1\n",
    "        elif A[i]==1:\n",
    "            countone += 1\n",
    "        else:\n",
    "            counttwo += 1\n",
    "        \n",
    "    i=0  \n",
    "    while(i<countzero):  \n",
    "        A[i]=0  \n",
    "        i=i+1  \n",
    "    i=countzero  \n",
    "    \n",
    "    while(i<countzero+countone):  \n",
    "        A[i]=1  \n",
    "        i=i+1  \n",
    "    i=countzero+countone\n",
    "    \n",
    "    while(i<n):  \n",
    "        A[i]=2  \n",
    "        i=i+1  \n",
    "\n",
    "A = [0, 1, 2, 0, 2, 0, 1, 2, 1]  \n",
    "n = len(arr)\n",
    "sort_array_0s_1s_2s(A,n)  \n",
    "print(A)  "
   ]
  },
  {
   "cell_type": "code",
   "execution_count": 39,
   "id": "b758b7af",
   "metadata": {},
   "outputs": [
    {
     "name": "stdout",
     "output_type": "stream",
     "text": [
      "[2, 2, 2, 0, 2, 0, 1, 2, 1]\n"
     ]
    }
   ],
   "source": [
    "\n",
    "def sort_array_0s_1s_2s(arr,n):\n",
    "    countzero = countone = counttwo = 0\n",
    "    \n",
    "    for i in range(n):\n",
    "        if arr[i]==0:\n",
    "            countzero += 1\n",
    "        elif arr[i]==1:\n",
    "            countone += 1\n",
    "        elif arr[i]==2:\n",
    "            counttwo += 1\n",
    "            \n",
    "    for i in range(countzero):\n",
    "        arr[i] = 0\n",
    "        \n",
    "    for i in range(countone):\n",
    "        arr[i] = 1\n",
    "        \n",
    "    for i in range(counttwo):\n",
    "        arr[i] = 2\n",
    "    \n",
    "#     return arr\n",
    "        \n",
    "        \n",
    "        \n",
    "arr= [0, 1, 2, 0, 2, 0, 1, 2, 1]  \n",
    "n = len(arr)\n",
    "sort_array_0s_1s_2s(arr,n)\n",
    "print(arr)\n",
    " \n",
    "  \n",
    "# sort_array_0s_1s_2s(A,n)  \n",
    "# i=0  \n",
    "# for i in A:  \n",
    "#   print(i)  \n",
    " "
   ]
  }
 ],
 "metadata": {
  "kernelspec": {
   "display_name": "Python 3 (ipykernel)",
   "language": "python",
   "name": "python3"
  },
  "language_info": {
   "codemirror_mode": {
    "name": "ipython",
    "version": 3
   },
   "file_extension": ".py",
   "mimetype": "text/x-python",
   "name": "python",
   "nbconvert_exporter": "python",
   "pygments_lexer": "ipython3",
   "version": "3.10.2"
  }
 },
 "nbformat": 4,
 "nbformat_minor": 5
}
