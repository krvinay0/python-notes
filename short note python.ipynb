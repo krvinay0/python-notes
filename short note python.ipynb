{
 "cells": [
  {
   "cell_type": "code",
   "execution_count": 53,
   "id": "7ab43b51",
   "metadata": {},
   "outputs": [],
   "source": [
    "Student = \"Alis\"\n",
    "age = 19\n",
    "mark = 50.5\n",
    "_18plus = True\n",
    "anu = 1 + 8j"
   ]
  },
  {
   "cell_type": "code",
   "execution_count": null,
   "id": "cc18d114",
   "metadata": {},
   "outputs": [],
   "source": []
  },
  {
   "cell_type": "code",
   "execution_count": 52,
   "id": "c5f6da79",
   "metadata": {},
   "outputs": [
    {
     "name": "stdout",
     "output_type": "stream",
     "text": [
      "<class 'str'>\n",
      "<class 'int'>\n",
      "\n",
      "<class 'float'>\n",
      "<class 'bool'>\n",
      "<class 'float'>\n",
      "<class 'bool'>\n",
      "True\n"
     ]
    }
   ],
   "source": [
    "print(type(Student))\n",
    "print(type(age))\n",
    "print()\n",
    "print(type(mark));print(type(_18plus))\n",
    "print(type(mark)),print(type(_18plus))\n",
    "print(isinstance(anu, complex)) ###*************"
   ]
  },
  {
   "cell_type": "code",
   "execution_count": 34,
   "id": "ac6fbc70",
   "metadata": {},
   "outputs": [
    {
     "name": "stdout",
     "output_type": "stream",
     "text": [
      "<class 'int'> age\n",
      "<class 'str'> None <class 'float'>\n"
     ]
    }
   ],
   "source": [
    "print(type(Student), print(type(age), \"age\"), type(mark))"
   ]
  },
  {
   "cell_type": "code",
   "execution_count": null,
   "id": "b92e4a9a",
   "metadata": {},
   "outputs": [],
   "source": []
  },
  {
   "cell_type": "code",
   "execution_count": 45,
   "id": "8fa95ad5",
   "metadata": {},
   "outputs": [
    {
     "name": "stdout",
     "output_type": "stream",
     "text": [
      "58\n"
     ]
    }
   ],
   "source": [
    "age = 19 * 2\n",
    "print(age + 20)"
   ]
  },
  {
   "cell_type": "code",
   "execution_count": 54,
   "id": "58731d29",
   "metadata": {},
   "outputs": [
    {
     "name": "stdout",
     "output_type": "stream",
     "text": [
      "2548115071280\n",
      "2548006191920\n",
      "\n",
      "2548113989040\n",
      "140712974994280\n",
      "2548113989040\n",
      "140712974994280\n",
      "True\n"
     ]
    }
   ],
   "source": [
    "# id\n",
    "\n",
    "print(id(Student))\n",
    "print(id(age))\n",
    "print()\n",
    "print(id(mark));print(id(_18plus))\n",
    "print(id(mark)),print(id(_18plus))\n",
    "print(isinstance(anu, complex)) ###*************\n"
   ]
  },
  {
   "cell_type": "code",
   "execution_count": 79,
   "id": "c32e50a1",
   "metadata": {},
   "outputs": [
    {
     "name": "stdout",
     "output_type": "stream",
     "text": [
      "2548006191632\n",
      "2548006191632\n",
      "2548006191632\n",
      "2548006191632\n",
      "2548006191664\n"
     ]
    }
   ],
   "source": [
    "a = 10\n",
    "b = 11\n",
    "id1 = id(a)\n",
    "id2 = a\n",
    "id3 = a + 2521 - 2521\n",
    "print(id(a))\n",
    "print(id1)\n",
    "print(id(id2))\n",
    "print(id(id3))\n",
    "print(id(b))\n",
    "\n",
    "#both are store same laction\n",
    "#(-5,-4,.......255,256)"
   ]
  },
  {
   "cell_type": "code",
   "execution_count": 100,
   "id": "eaed4922",
   "metadata": {},
   "outputs": [
    {
     "name": "stdout",
     "output_type": "stream",
     "text": [
      "1 0\n"
     ]
    }
   ],
   "source": [
    "a = 10//6\n",
    "a1 = 10/6\n",
    "\n",
    "b = 10//4\n",
    "b1 = 10/4\n",
    "\n",
    "c = 10//3\n",
    "c1 = 10/3\n",
    "\n",
    "d = 10**3\n",
    "d1 = 10*10\n",
    "\n",
    "e = 10%3\n",
    "e1 = 10%10\n",
    "\n",
    "# print(a, a1,  b, b1, c, c1, )\n",
    "# print(d, d1)\n",
    "print(e, e1)"
   ]
  },
  {
   "cell_type": "code",
   "execution_count": 111,
   "id": "87929166",
   "metadata": {},
   "outputs": [
    {
     "name": "stdout",
     "output_type": "stream",
     "text": [
      "234567\n",
      "<class 'int'>\n"
     ]
    }
   ],
   "source": [
    "a = input()\n",
    "b = int(a)\n",
    "print(type(b))"
   ]
  },
  {
   "cell_type": "markdown",
   "id": "fbc58b66",
   "metadata": {},
   "source": [
    "#  condition\n"
   ]
  },
  {
   "cell_type": "code",
   "execution_count": 5,
   "id": "aab1b19f",
   "metadata": {},
   "outputs": [
    {
     "name": "stdout",
     "output_type": "stream",
     "text": [
      "Vinay\n"
     ]
    }
   ],
   "source": [
    "# boolean type output is True or False\n",
    "\n",
    "if False:\n",
    "    print(\"alis\")\n",
    "else:\n",
    "    print(\"Vinay\")"
   ]
  },
  {
   "cell_type": "code",
   "execution_count": 6,
   "id": "4e7fc438",
   "metadata": {},
   "outputs": [
    {
     "name": "stdout",
     "output_type": "stream",
     "text": [
      "alis\n"
     ]
    }
   ],
   "source": [
    "\n",
    "if True:\n",
    "    print(\"alis\")\n",
    "else:\n",
    "    print(\"Vinay\")"
   ]
  },
  {
   "cell_type": "code",
   "execution_count": 10,
   "id": "010d2f5a",
   "metadata": {},
   "outputs": [
    {
     "name": "stdout",
     "output_type": "stream",
     "text": [
      "Pass\n"
     ]
    }
   ],
   "source": [
    "marks = 90\n",
    "\n",
    "if marks >= 35:\n",
    "    print(\"Pass\")\n",
    "else:\n",
    "    print(\"Fail\")\n"
   ]
  },
  {
   "cell_type": "code",
   "execution_count": 22,
   "id": "66aea510",
   "metadata": {},
   "outputs": [
    {
     "name": "stdout",
     "output_type": "stream",
     "text": [
      "First\n"
     ]
    }
   ],
   "source": [
    "mark = 100\n",
    "\n",
    "if mark >= 35:\n",
    "    \n",
    "    if mark <= 50 :\n",
    "        print(\"Just Pass\")\n",
    "        \n",
    "    elif mark >= 50 and mark <= 80:\n",
    "        print(\"second\")\n",
    "        \n",
    "    else:\n",
    "        print(\"First\")\n",
    "        \n",
    "else:\n",
    "    print(\"Fail\")"
   ]
  },
  {
   "cell_type": "code",
   "execution_count": 44,
   "id": "d471689a",
   "metadata": {},
   "outputs": [
    {
     "name": "stdout",
     "output_type": "stream",
     "text": [
      "False\n",
      "True\n",
      "True\n"
     ]
    }
   ],
   "source": [
    "a = 10\n",
    "b = 20\n",
    "c = 20\n",
    "d = \"20\"\n",
    "\n",
    "# print(a>b)\n",
    "# print(a<b)\n",
    "# print(a>=b)\n",
    "# print(a<=b)\n",
    "# print(c<=b)\n",
    "\n",
    "\n",
    "# print(c == b)\n",
    "# print(a == b)\n",
    "# print(d == b)\n",
    "print(c != b)\n",
    "print(a != b)\n",
    "print(d != b)"
   ]
  },
  {
   "cell_type": "code",
   "execution_count": 45,
   "id": "2787cd3b",
   "metadata": {},
   "outputs": [
    {
     "name": "stdout",
     "output_type": "stream",
     "text": [
      "True\n",
      "False\n",
      "True\n",
      "False\n"
     ]
    }
   ],
   "source": [
    "c = 10\n",
    "d = 20\n",
    "\n",
    "a = c < d\n",
    "b = c > d\n",
    "\n",
    "print(a or b)\n",
    "print(a and b)\n",
    "print(not False )\n",
    "print( not True )"
   ]
  },
  {
   "cell_type": "code",
   "execution_count": 17,
   "id": "bc11a4ec",
   "metadata": {
    "scrolled": true
   },
   "outputs": [
    {
     "name": "stdout",
     "output_type": "stream",
     "text": [
      "1\n",
      "2\n",
      "3\n",
      "4\n",
      "5\n",
      "6\n",
      "7\n",
      "8\n",
      "9\n",
      "10\n"
     ]
    }
   ],
   "source": [
    "n = 10\n",
    "\n",
    "start = 1\n",
    "while start <= n:\n",
    "    print(start)\n",
    "    start = start + 1\n",
    "    "
   ]
  },
  {
   "cell_type": "code",
   "execution_count": 14,
   "id": "d11394ff",
   "metadata": {},
   "outputs": [
    {
     "name": "stdout",
     "output_type": "stream",
     "text": [
      "55\n"
     ]
    }
   ],
   "source": [
    "# print nth number\n",
    "n = 10\n",
    "\n",
    "i = 1\n",
    "sum = 0 \n",
    "while i <= n:\n",
    "    sum = sum + i\n",
    "    i = i + 1\n",
    "    \n",
    "print(sum)\n",
    "    "
   ]
  },
  {
   "cell_type": "code",
   "execution_count": 69,
   "id": "78197e17",
   "metadata": {},
   "outputs": [
    {
     "name": "stdout",
     "output_type": "stream",
     "text": [
      "120\n"
     ]
    }
   ],
   "source": [
    "# sum of n number\n",
    "n = 5\n",
    "\n",
    "i = 1\n",
    "mul = 1 \n",
    "while i <= n:\n",
    "    mul = mul * i\n",
    "    i = i + 1 \n",
    "print(mul)"
   ]
  },
  {
   "cell_type": "code",
   "execution_count": 13,
   "id": "2f1ebef3",
   "metadata": {},
   "outputs": [
    {
     "name": "stdout",
     "output_type": "stream",
     "text": [
      "enter A2\n",
      "enter power of A3\n",
      "2 is power of 3 is 8\n"
     ]
    }
   ],
   "source": [
    "a = int(input(\"enter number\"))\n",
    "b = int(input(\"enter power of number\"))\n",
    "\n",
    "i = 1\n",
    "power = 1 \n",
    "while i <= b:\n",
    "    power = power * a\n",
    "    i = i + 1\n",
    "    \n",
    "print(a, \"is power of\", b, \"is\" ,power)"
   ]
  },
  {
   "cell_type": "markdown",
   "id": "dc3abb4b",
   "metadata": {},
   "source": [
    "## Relational Operators\n",
    "## Logiacal Operators\n",
    "## Nested Conditionals\n",
    "## Find X raised to power N\n",
    "## Arithmetic Progression (common difference)\n",
    "## Prime number"
   ]
  },
  {
   "cell_type": "code",
   "execution_count": 23,
   "id": "c9d07640",
   "metadata": {},
   "outputs": [
    {
     "name": "stdout",
     "output_type": "stream",
     "text": [
      "enter A2\n",
      "enter B4\n",
      "enter C6\n",
      "2\n"
     ]
    }
   ],
   "source": [
    "a = int(input(\"enter A\"))\n",
    "b = int(input(\"enter B\"))\n",
    "c = int(input(\"enter C\"))\n",
    "\n",
    "d = b - a\n",
    "e = c - b\n",
    "\n",
    "if d == e:\n",
    "    print(d)\n",
    "else: \n",
    "    print(\"not common difference\")"
   ]
  },
  {
   "cell_type": "code",
   "execution_count": 40,
   "id": "24f1edae",
   "metadata": {},
   "outputs": [
    {
     "name": "stdout",
     "output_type": "stream",
     "text": [
      "3\n",
      "prime\n"
     ]
    }
   ],
   "source": [
    "inputs = int(input())\n",
    "\n",
    "start = 2\n",
    "mark = False\n",
    "\n",
    "while (start<inputs):\n",
    "    \n",
    "    if inputs % start == 0:\n",
    "        mark = True   \n",
    "    start = start + 1\n",
    "    \n",
    "\n",
    "if mark:\n",
    "    print(\"not prime\")\n",
    "else:\n",
    "    print(\"prime\")"
   ]
  },
  {
   "cell_type": "code",
   "execution_count": 35,
   "id": "797c9a2e",
   "metadata": {},
   "outputs": [
    {
     "name": "stdout",
     "output_type": "stream",
     "text": [
      "10\n",
      "2\n",
      "4\n",
      "6\n",
      "8\n"
     ]
    }
   ],
   "source": [
    "inputs = int(input())\n",
    "\n",
    "start = 1\n",
    "\n",
    "while (start<inputs):\n",
    "    \n",
    "    if start % 2 == 0:\n",
    "        print(start)  \n",
    "    start = start + 1\n"
   ]
  },
  {
   "cell_type": "code",
   "execution_count": 45,
   "id": "1b35e15e",
   "metadata": {},
   "outputs": [
    {
     "name": "stdout",
     "output_type": "stream",
     "text": [
      "100\n",
      "2\n",
      "3\n",
      "5\n",
      "7\n",
      "11\n",
      "13\n",
      "17\n",
      "19\n",
      "23\n",
      "29\n",
      "31\n",
      "37\n",
      "41\n",
      "43\n",
      "47\n",
      "53\n",
      "59\n",
      "61\n",
      "67\n",
      "71\n",
      "73\n",
      "79\n",
      "83\n",
      "89\n",
      "97\n"
     ]
    }
   ],
   "source": [
    "inputs = int(input())\n",
    "\n",
    "start = 2\n",
    "while (start<inputs):\n",
    "    \n",
    "    prime = True\n",
    "    j = 2\n",
    "    while j < start:\n",
    "        \n",
    "        if start % j == 0:\n",
    "            prime = False\n",
    "        j = j + 1\n",
    "    \n",
    "    if prime:\n",
    "        print(j)\n",
    "    \n",
    "    start = start + 1\n"
   ]
  },
  {
   "cell_type": "code",
   "execution_count": 65,
   "id": "5c715b4d",
   "metadata": {},
   "outputs": [
    {
     "name": "stdout",
     "output_type": "stream",
     "text": [
      "1 1 1 1 1 \n",
      "2 2 2 2 2 \n",
      "3 3 3 3 3 \n",
      "4 4 4 4 4 \n",
      "5 5 5 5 5 \n"
     ]
    }
   ],
   "source": [
    "income = 5\n",
    "\n",
    "start = 1\n",
    "while start <= income:\n",
    "    \n",
    "    start2 = 1\n",
    "    while start2 <= income:\n",
    "        print(start , end = \" \")\n",
    "        start2 = start2 + 1\n",
    "        \n",
    "    print()   \n",
    "    start = start + 1"
   ]
  },
  {
   "cell_type": "code",
   "execution_count": 66,
   "id": "7c183037",
   "metadata": {},
   "outputs": [
    {
     "name": "stdout",
     "output_type": "stream",
     "text": [
      "1 2 3 4 5 \n",
      "1 2 3 4 5 \n",
      "1 2 3 4 5 \n",
      "1 2 3 4 5 \n",
      "1 2 3 4 5 \n"
     ]
    }
   ],
   "source": [
    "income = 5\n",
    "\n",
    "start = 1\n",
    "while start <= income:\n",
    "    \n",
    "    start2 = 1\n",
    "    while start2 <= income:\n",
    "        print(start2 , end = \" \")\n",
    "        start2 = start2 + 1\n",
    "        \n",
    "    print()   \n",
    "    start = start + 1"
   ]
  },
  {
   "cell_type": "code",
   "execution_count": 68,
   "id": "4889b29d",
   "metadata": {},
   "outputs": [
    {
     "name": "stdout",
     "output_type": "stream",
     "text": [
      "5 4 3 2 1 \n",
      "5 4 3 2 1 \n",
      "5 4 3 2 1 \n",
      "5 4 3 2 1 \n",
      "5 4 3 2 1 \n"
     ]
    }
   ],
   "source": [
    "income = 5\n",
    "\n",
    "start = 1\n",
    "while start <= income:\n",
    "    \n",
    "    start2 = 1\n",
    "    while start2 <= income:\n",
    "        print(income-start2+1 , end = \" \")\n",
    "        start2 = start2 + 1\n",
    "        \n",
    "    print()   \n",
    "    start = start + 1"
   ]
  },
  {
   "cell_type": "code",
   "execution_count": 69,
   "id": "4682d663",
   "metadata": {},
   "outputs": [
    {
     "name": "stdout",
     "output_type": "stream",
     "text": [
      "5 5 5 5 5 \n",
      "4 4 4 4 4 \n",
      "3 3 3 3 3 \n",
      "2 2 2 2 2 \n",
      "1 1 1 1 1 \n"
     ]
    }
   ],
   "source": [
    "income = 5\n",
    "\n",
    "start = 1\n",
    "while start <= income:\n",
    "    \n",
    "    start2 = 1\n",
    "    while start2 <= income:\n",
    "        print(income-start+1 , end = \" \")\n",
    "        start2 = start2 + 1\n",
    "        \n",
    "    print()   \n",
    "    start = start + 1"
   ]
  },
  {
   "cell_type": "code",
   "execution_count": 71,
   "id": "b2e8781c",
   "metadata": {},
   "outputs": [
    {
     "name": "stdout",
     "output_type": "stream",
     "text": [
      "* * * * * \n",
      "* * * * * \n",
      "* * * * * \n",
      "* * * * * \n",
      "* * * * * \n"
     ]
    }
   ],
   "source": [
    "income = 5\n",
    "\n",
    "start = 1\n",
    "while start <= income:\n",
    "    \n",
    "    start2 = 1\n",
    "    while start2 <= income:\n",
    "        print(\"*\" , end = \" \")\n",
    "        start2 = start2 + 1\n",
    "        \n",
    "    print()   \n",
    "    start = start + 1"
   ]
  },
  {
   "cell_type": "code",
   "execution_count": 80,
   "id": "38083ca8",
   "metadata": {},
   "outputs": [
    {
     "name": "stdout",
     "output_type": "stream",
     "text": [
      "A B C D E \n",
      "A B C D E \n",
      "A B C D E \n",
      "A B C D E \n",
      "A B C D E \n"
     ]
    }
   ],
   "source": [
    "income = 5\n",
    "\n",
    "start = 1\n",
    "while start <= income:\n",
    "    \n",
    "    start2 = 1\n",
    "    while start2 <= income:\n",
    "        print(chr(65 + start2 -1) , end = \" \")\n",
    "        start2 = start2 + 1\n",
    "        \n",
    "    print()   \n",
    "    \n",
    "    start = start + 1"
   ]
  },
  {
   "cell_type": "code",
   "execution_count": 89,
   "id": "da406f98",
   "metadata": {},
   "outputs": [
    {
     "name": "stdout",
     "output_type": "stream",
     "text": [
      "E D C B A \n",
      "E D C B A \n",
      "E D C B A \n",
      "E D C B A \n",
      "E D C B A \n"
     ]
    }
   ],
   "source": [
    "income = 5\n",
    "\n",
    "start = 1\n",
    "while start <= income:\n",
    "    \n",
    "    start2 = 1\n",
    "    while start2 <= income:\n",
    "        print(chr(65 + (income - start2 + 1) -1) , end = \" \")\n",
    "        start2 = start2 + 1\n",
    "        \n",
    "    print()   \n",
    "    \n",
    "    start = start + 1"
   ]
  },
  {
   "cell_type": "code",
   "execution_count": 90,
   "id": "e6ef0313",
   "metadata": {},
   "outputs": [
    {
     "name": "stdout",
     "output_type": "stream",
     "text": [
      "E E E E E \n",
      "D D D D D \n",
      "C C C C C \n",
      "B B B B B \n",
      "A A A A A \n"
     ]
    }
   ],
   "source": [
    "income = 5\n",
    "\n",
    "start = 1\n",
    "while start <= income:\n",
    "    \n",
    "    start2 = 1\n",
    "    while start2 <= income:\n",
    "        print(chr(65 + (income - start + 1) -1) , end = \" \")\n",
    "        start2 = start2 + 1\n",
    "        \n",
    "    print()   \n",
    "    \n",
    "    start = start + 1"
   ]
  },
  {
   "cell_type": "code",
   "execution_count": 92,
   "id": "159325f4",
   "metadata": {},
   "outputs": [
    {
     "name": "stdout",
     "output_type": "stream",
     "text": [
      "A A A A A \n",
      "B B B B B \n",
      "C C C C C \n",
      "D D D D D \n",
      "E E E E E \n"
     ]
    }
   ],
   "source": [
    "income = 5\n",
    "\n",
    "start = 1\n",
    "while start <= income:\n",
    "    \n",
    "    start2 = 1\n",
    "    while start2 <= income:\n",
    "        print(chr(65 + start -1) , end = \" \")\n",
    "        start2 = start2 + 1\n",
    "        \n",
    "    print()   \n",
    "    \n",
    "    start = start + 1"
   ]
  },
  {
   "cell_type": "code",
   "execution_count": 100,
   "id": "3ca7473f",
   "metadata": {},
   "outputs": [
    {
     "name": "stdout",
     "output_type": "stream",
     "text": [
      "* * * * * \n",
      "* * * * \n",
      "* * * \n",
      "* * \n",
      "* \n"
     ]
    }
   ],
   "source": [
    "income = 5\n",
    "\n",
    "i = 1\n",
    "while i <= income:\n",
    "    \n",
    "    start2 = 1\n",
    "    while start2 <= (income - i + 1):\n",
    "        print(\"*\" , end = \" \")\n",
    "        start2 = start2 + 1\n",
    "        \n",
    "    print()   \n",
    "    \n",
    "    i = i + 1"
   ]
  },
  {
   "cell_type": "code",
   "execution_count": 104,
   "id": "f465a66f",
   "metadata": {},
   "outputs": [
    {
     "name": "stdout",
     "output_type": "stream",
     "text": [
      "10\n",
      "* \n",
      "* * \n",
      "* * * \n",
      "* * * * \n",
      "* * * * * \n",
      "* * * * * * \n",
      "* * * * * * * \n",
      "* * * * * * * * \n",
      "* * * * * * * * * \n",
      "* * * * * * * * * * \n"
     ]
    }
   ],
   "source": [
    "n = int(input())\n",
    "\n",
    "i = 1\n",
    "while i <= n:\n",
    "    \n",
    "    j = 1\n",
    "    while j <= i:\n",
    "        print(\"*\", end=\" \")\n",
    "        j=j+1\n",
    "    print()\n",
    "        \n",
    "    i=i+1"
   ]
  },
  {
   "cell_type": "code",
   "execution_count": 105,
   "id": "0bab9815",
   "metadata": {},
   "outputs": [
    {
     "name": "stdout",
     "output_type": "stream",
     "text": [
      "10\n",
      "1 \n",
      "1 2 \n",
      "1 2 3 \n",
      "1 2 3 4 \n",
      "1 2 3 4 5 \n",
      "1 2 3 4 5 6 \n",
      "1 2 3 4 5 6 7 \n",
      "1 2 3 4 5 6 7 8 \n",
      "1 2 3 4 5 6 7 8 9 \n",
      "1 2 3 4 5 6 7 8 9 10 \n"
     ]
    }
   ],
   "source": [
    "n = int(input())\n",
    "\n",
    "i = 1\n",
    "while i <= n:\n",
    "    \n",
    "    j = 1\n",
    "    while j <= i:\n",
    "        print(j, end=\" \")\n",
    "        j=j+1\n",
    "    print()\n",
    "        \n",
    "    i=i+1"
   ]
  },
  {
   "cell_type": "code",
   "execution_count": 108,
   "id": "3ae800c2",
   "metadata": {},
   "outputs": [
    {
     "name": "stdout",
     "output_type": "stream",
     "text": [
      "9\n",
      "1 \n",
      "2 2 \n",
      "3 3 3 \n",
      "4 4 4 4 \n",
      "5 5 5 5 5 \n",
      "6 6 6 6 6 6 \n",
      "7 7 7 7 7 7 7 \n",
      "8 8 8 8 8 8 8 8 \n",
      "9 9 9 9 9 9 9 9 9 \n"
     ]
    }
   ],
   "source": [
    "n = int(input())\n",
    "\n",
    "i = 1\n",
    "while i <= n:\n",
    "    \n",
    "    j = 1\n",
    "    while j <= i:\n",
    "        print(i, end=\" \")\n",
    "        j=j+1\n",
    "    print()\n",
    "        \n",
    "    i=i+1\n",
    "    "
   ]
  },
  {
   "cell_type": "code",
   "execution_count": 109,
   "id": "03a76fc0",
   "metadata": {},
   "outputs": [
    {
     "name": "stdout",
     "output_type": "stream",
     "text": [
      "10\n",
      "1 \n",
      "2 3 \n",
      "3 4 5 \n",
      "4 5 6 7 \n",
      "5 6 7 8 9 \n",
      "6 7 8 9 10 11 \n",
      "7 8 9 10 11 12 13 \n",
      "8 9 10 11 12 13 14 15 \n",
      "9 10 11 12 13 14 15 16 17 \n",
      "10 11 12 13 14 15 16 17 18 19 \n"
     ]
    }
   ],
   "source": [
    "n = int(input())\n",
    "\n",
    "i = 1\n",
    "while i <= n:\n",
    "    \n",
    "    j = 1\n",
    "    while j <= i:\n",
    "        print(i+j-1, end=\" \")\n",
    "        j=j+1\n",
    "    print()\n",
    "        \n",
    "    i=i+1\n",
    "    "
   ]
  },
  {
   "cell_type": "code",
   "execution_count": 117,
   "id": "db1edd20",
   "metadata": {},
   "outputs": [
    {
     "name": "stdout",
     "output_type": "stream",
     "text": [
      "9\n",
      "1 \n",
      "2 1 \n",
      "3 2 1 \n",
      "4 3 2 1 \n",
      "5 4 3 2 1 \n",
      "6 5 4 3 2 1 \n",
      "7 6 5 4 3 2 1 \n",
      "8 7 6 5 4 3 2 1 \n",
      "9 8 7 6 5 4 3 2 1 \n"
     ]
    }
   ],
   "source": [
    "n = int(input())\n",
    "\n",
    "i = 1\n",
    "while i <= n:\n",
    "    \n",
    "    j = 1\n",
    "    while j <= i:\n",
    "        print(i-j+1, end=\" \")\n",
    "        j=j+1\n",
    "    print()\n",
    "        \n",
    "    i=i+1\n",
    "    "
   ]
  },
  {
   "cell_type": "code",
   "execution_count": 115,
   "id": "f57e07f6",
   "metadata": {},
   "outputs": [
    {
     "name": "stdout",
     "output_type": "stream",
     "text": [
      "9\n",
      "1 \n",
      "2 3 \n",
      "4 5 6 \n",
      "7 8 9 10 \n",
      "11 12 13 14 15 \n",
      "16 17 18 19 20 21 \n",
      "22 23 24 25 26 27 28 \n",
      "29 30 31 32 33 34 35 36 \n",
      "37 38 39 40 41 42 43 44 45 \n"
     ]
    }
   ],
   "source": [
    "n = int(input())\n",
    "\n",
    "i = 1\n",
    "h = 1\n",
    "while i <= n:\n",
    "    \n",
    "    j = 1\n",
    "    while j <= i:\n",
    "        print(h, end=\" \")\n",
    "        j=j+1\n",
    "        h+=1\n",
    "    print()\n",
    "        \n",
    "    i=i+1\n",
    "    "
   ]
  },
  {
   "cell_type": "code",
   "execution_count": 119,
   "id": "9ae26ded",
   "metadata": {},
   "outputs": [
    {
     "name": "stdout",
     "output_type": "stream",
     "text": [
      "4\n",
      "   *\n",
      "  **\n",
      " ***\n",
      "****\n"
     ]
    }
   ],
   "source": [
    "n = int(input())\n",
    "\n",
    "i = 1\n",
    "while i <= n:\n",
    "    \n",
    "#     space\n",
    "    j = 1\n",
    "    while j <= n-i:\n",
    "        print(\" \", end=\"\")\n",
    "        j=j+1\n",
    "        \n",
    "#     star\n",
    "    k = 1\n",
    "    while k <= i:\n",
    "        print(\"*\", end=\"\")\n",
    "        k=k+1  \n",
    "        \n",
    "        \n",
    "        \n",
    "    print()\n",
    "        \n",
    "    i=i+1\n",
    "    "
   ]
  },
  {
   "cell_type": "code",
   "execution_count": 122,
   "id": "220f587c",
   "metadata": {},
   "outputs": [
    {
     "name": "stdout",
     "output_type": "stream",
     "text": [
      "5\n",
      "    1\n",
      "   22\n",
      "  333\n",
      " 4444\n",
      "55555\n"
     ]
    }
   ],
   "source": [
    "n = int(input())\n",
    "\n",
    "i = 1\n",
    "while i <= n:\n",
    "    \n",
    "#     space\n",
    "    j = 1\n",
    "    while j <= n-i:\n",
    "        print(\" \", end=\"\")\n",
    "        j=j+1\n",
    "        \n",
    "#     number\n",
    "    k = 1\n",
    "    while k <= i:\n",
    "        print(i, end=\"\")\n",
    "        k=k+1  \n",
    "        \n",
    "        \n",
    "        \n",
    "    print()\n",
    "        \n",
    "    i=i+1"
   ]
  },
  {
   "cell_type": "code",
   "execution_count": 129,
   "id": "e2a888ba",
   "metadata": {},
   "outputs": [
    {
     "name": "stdout",
     "output_type": "stream",
     "text": [
      "5\n",
      "    1\n",
      "   121\n",
      "  12321\n",
      " 1234321\n",
      "123454321\n"
     ]
    }
   ],
   "source": [
    "n = int(input())\n",
    "\n",
    "i = 1\n",
    "while i <= n:\n",
    "    \n",
    "#     space\n",
    "    j = 1\n",
    "    while j <= n-i:\n",
    "        print(\" \", end=\"\")\n",
    "        j=j+1\n",
    "        \n",
    "#     number\n",
    "    k = 1\n",
    "    while k <= i:\n",
    "        print(k, end=\"\")\n",
    "        k = k + 1  \n",
    "        \n",
    "#     number2\n",
    "    j = 1\n",
    "    while j <= i-1:\n",
    "        print(i-j, end=\"\")\n",
    "        j = j + 1  \n",
    "          \n",
    "    print()\n",
    "        \n",
    "    i=i+1"
   ]
  },
  {
   "cell_type": "code",
   "execution_count": null,
   "id": "f7a5a1d8",
   "metadata": {
    "scrolled": true
   },
   "outputs": [],
   "source": [
    "n = int(input())\n",
    "\n",
    "i = 1\n",
    "while i <= n:\n",
    "    \n",
    "#     space\n",
    "    j = 1\n",
    "    while j <= n-i:\n",
    "        print(\" \", end=\"\")\n",
    "        j=j+1\n",
    "        \n",
    "#     number\n",
    "    k = 1\n",
    "    while k <= i:\n",
    "        print(i-k+1, end=\"\")\n",
    "        k = k + 1  \n",
    "        \n",
    "#     number2\n",
    "    j = 1\n",
    "    while j <= i-1:\n",
    "        print(j+1, end=\"\")\n",
    "        j = j + 1  \n",
    "          \n",
    "    print()        \n",
    "    i=i+1"
   ]
  },
  {
   "cell_type": "code",
   "execution_count": null,
   "id": "860a9986",
   "metadata": {},
   "outputs": [],
   "source": []
  }
 ],
 "metadata": {
  "kernelspec": {
   "display_name": "Python 3 (ipykernel)",
   "language": "python",
   "name": "python3"
  },
  "language_info": {
   "codemirror_mode": {
    "name": "ipython",
    "version": 3
   },
   "file_extension": ".py",
   "mimetype": "text/x-python",
   "name": "python",
   "nbconvert_exporter": "python",
   "pygments_lexer": "ipython3",
   "version": "3.10.2"
  }
 },
 "nbformat": 4,
 "nbformat_minor": 5
}
