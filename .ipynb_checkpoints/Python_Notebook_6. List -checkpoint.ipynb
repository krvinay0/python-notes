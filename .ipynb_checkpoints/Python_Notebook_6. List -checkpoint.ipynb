{
 "cells": [
  {
   "cell_type": "markdown",
   "id": "b0567b9b",
   "metadata": {},
   "source": [
    "# Lists\n",
    "\n",
    "### Introduction\n",
    "\n",
    "####   A list is a standard data type of Python that can store a sequence of values belonging to any type. The Lists are contained within square brackets ( [ ] ).\n",
    "\n",
    "\n",
    "###### Following are some examples of lists in Python:"
   ]
  },
  {
   "cell_type": "code",
   "execution_count": 8,
   "id": "af5e89d7",
   "metadata": {},
   "outputs": [
    {
     "data": {
      "text/plain": [
       "['One', 'Two', 'Three']"
      ]
     },
     "execution_count": 8,
     "metadata": {},
     "output_type": "execute_result"
    }
   ],
   "source": [
    "[ ] #Empty list\n",
    "[1, 2, 3] #List of integers\n",
    "[1, 2, 5.6, 9.8] #List of numbers (Floating point and Integers)\n",
    "['a', 'b', 'c'] #List of characters\n",
    "['a', 1, 4.3, \"Zero\"] #List of mixed data types\n",
    "[\"One\", \"Two\", \"Three\"] #List of strings"
   ]
  },
  {
   "cell_type": "markdown",
   "id": "a1f52679",
   "metadata": {},
   "source": [
    "### Creating Lists\n",
    "\n",
    "\n",
    "#### In Python programming, a list is created by placing all the items (elements) inside square brackets [ ], separated by commas. It can have any number of items and they may be of different types (integer, float, string etc.)."
   ]
  },
  {
   "cell_type": "code",
   "execution_count": 14,
   "id": "ed9283f7",
   "metadata": {},
   "outputs": [
    {
     "name": "stdout",
     "output_type": "stream",
     "text": [
      "[]\n",
      "[1, 2, 3]\n",
      "[1, 'One', 3.4]\n"
     ]
    }
   ],
   "source": [
    "list1 = [] #Empty list\n",
    "list2 = [1, 2, 3] #List of integers\n",
    "list3 = [1, \"One\", 3.4] #List with mixed data types\n",
    "\n",
    "print(list1)\n",
    "print(list2)\n",
    "print(list3)"
   ]
  },
  {
   "cell_type": "markdown",
   "id": "110ff3df",
   "metadata": {},
   "source": [
    "#### A list can also have another list as an element. Such a list is called a Nested List."
   ]
  },
  {
   "cell_type": "code",
   "execution_count": 5,
   "id": "33e49ffa",
   "metadata": {},
   "outputs": [],
   "source": [
    "list4 = [\"One\", [8, 4, 6], ['Three']] #Nested List\n"
   ]
  },
  {
   "cell_type": "markdown",
   "id": "e1ae701a",
   "metadata": {},
   "source": [
    "# Operations On Lists\n",
    "\n",
    "\n",
    "###  Accessing Elements in a List \n",
    "\n",
    "\n",
    "\n",
    "#### List indices start at 0 and go on till 1 less than the length of the list. We can use the index operator [ ] to access a particular item in a list. Eg."
   ]
  },
  {
   "cell_type": "code",
   "execution_count": null,
   "id": "a2e8afd9",
   "metadata": {},
   "outputs": [],
   "source": [
    "Index:  0  1   2   3    4\n",
    "       [1, 10, 34, 23, 90]"
   ]
  },
  {
   "cell_type": "markdown",
   "id": "5428c06b",
   "metadata": {},
   "source": [
    "#### Note:\n",
    "###### Trying to access indexes out of the range (0 ,lengthOfList-1), will raise an\n",
    "\n",
    "#### IndexError.\n",
    "##### Also, the index must be an integer. We can't use float or other types, this will result in TypeError.\n",
    "\n",
    "#### Let us take an example to understand how to access elements in a list:"
   ]
  },
  {
   "cell_type": "code",
   "execution_count": 18,
   "id": "de6d15b6",
   "metadata": {},
   "outputs": [
    {
     "name": "stdout",
     "output_type": "stream",
     "text": [
      "Mother\n",
      "Daughter\n",
      "23\n"
     ]
    }
   ],
   "source": [
    "l1 = ['Mother', 'Father', 'Daughter', 10, 23]\n",
    "print(l1[0]) #Output: 'Mother'\n",
    "print(l1[2]) #Output: 'Daughter'\n",
    "print(l1[4]) #Output: 23"
   ]
  },
  {
   "cell_type": "markdown",
   "id": "a86f0e4f",
   "metadata": {},
   "source": [
    "### Negative Indexing\n",
    "#### Python allows negative indexing for its sequences. The index of -1 refers to the last item, -2 to the second last item, and so on. The negative indexing starts from the last element in the list.\n"
   ]
  },
  {
   "cell_type": "code",
   "execution_count": null,
   "id": "25bae2ae",
   "metadata": {},
   "outputs": [],
   "source": [
    "Positive Indexing:  0 1  2  3  4 →\n",
    "                    1 10 34 23 90\n",
    "Negative Indexing: -5 -4 -3 -2 -1 ←"
   ]
  },
  {
   "cell_type": "markdown",
   "id": "9920b79c",
   "metadata": {},
   "source": [
    "#### Let us take an example to understand how to access elements using negative indexing in a list:\n"
   ]
  },
  {
   "cell_type": "code",
   "execution_count": null,
   "id": "6d729bab",
   "metadata": {},
   "outputs": [],
   "source": [
    "l1 = ['Mother', 'Father', 'Daughter', 10, 23]\n",
    "print(l1[-1]) #Output: 23\n",
    "print(l1[-2]) #Output: 10\n",
    "print(l1[-6]) #Output: IndexOutOfRange error"
   ]
  },
  {
   "cell_type": "markdown",
   "id": "f28abfa8",
   "metadata": {},
   "source": [
    "### Changing Elements of a List\n",
    "#### Once a list is created, we can even change the elements of the list. This is done by using the assignment operator (=) to change the value at a particular list index. This can be done as follows:"
   ]
  },
  {
   "cell_type": "code",
   "execution_count": 25,
   "id": "d8b0a901",
   "metadata": {},
   "outputs": [
    {
     "name": "stdout",
     "output_type": "stream",
     "text": [
      "['Mother', 'Father', 'Daughter', 12, 'Daughter']\n"
     ]
    }
   ],
   "source": [
    "l1 = ['Mother', 'Father', 'Daughter', 10, 23]\n",
    "l1[-1] = \"Daughter\" #Changing the last element to \"Daughter\"\n",
    "l1[3] = 12 #Changing the element at index 3 to 12\n",
    "print(l1)"
   ]
  },
  {
   "cell_type": "code",
   "execution_count": 26,
   "id": "853deef2",
   "metadata": {},
   "outputs": [],
   "source": [
    "li_of = [1,2,3,4]"
   ]
  },
  {
   "cell_type": "code",
   "execution_count": 28,
   "id": "9fcb2f90",
   "metadata": {},
   "outputs": [
    {
     "data": {
      "text/plain": [
       "4"
      ]
     },
     "execution_count": 28,
     "metadata": {},
     "output_type": "execute_result"
    }
   ],
   "source": [
    "li_of[3]    #print item on index 3"
   ]
  },
  {
   "cell_type": "code",
   "execution_count": 29,
   "id": "5641240c",
   "metadata": {},
   "outputs": [
    {
     "data": {
      "text/plain": [
       "['archana', 2, 3, 4]"
      ]
     },
     "execution_count": 29,
     "metadata": {},
     "output_type": "execute_result"
    }
   ],
   "source": [
    "li_of[0]=\"archana\"  #print item on place of index 0\n",
    "li_of    #delete previous item and add new item on place of index 3"
   ]
  },
  {
   "cell_type": "code",
   "execution_count": 30,
   "id": "3d354739",
   "metadata": {},
   "outputs": [
    {
     "data": {
      "text/plain": [
       "['archana', 2, 3, 'bihari']"
      ]
     },
     "execution_count": 30,
     "metadata": {},
     "output_type": "execute_result"
    }
   ],
   "source": [
    "li_of[3]=\"bihari\" #print item on place of index 3\n",
    "li_of"
   ]
  },
  {
   "cell_type": "markdown",
   "id": "3c2bc22c",
   "metadata": {},
   "source": [
    "### Concatenation of Lists\n",
    "#### Joining or concatenating two list in Python is very easy. The concatenation operator (+), can be used to join two lists. Consider the example given below:"
   ]
  },
  {
   "cell_type": "code",
   "execution_count": 31,
   "id": "7b5ede76",
   "metadata": {},
   "outputs": [],
   "source": [
    "l1= [1,2,3] #First List\n",
    "l2= [3,4,5] #Second List"
   ]
  },
  {
   "cell_type": "code",
   "execution_count": 32,
   "id": "0a4ce225",
   "metadata": {},
   "outputs": [
    {
     "name": "stdout",
     "output_type": "stream",
     "text": [
      "[1, 2, 3, 3, 4, 5]\n"
     ]
    }
   ],
   "source": [
    "l3= l1+l2 #Concatenating both to get a new list\n",
    "print(l3)"
   ]
  },
  {
   "cell_type": "markdown",
   "id": "31824916",
   "metadata": {},
   "source": [
    "##### Note: The + operator when used with lists requires that both the operands are of list types. You cannot add a number or any other value to a list."
   ]
  },
  {
   "cell_type": "markdown",
   "id": "f966d494",
   "metadata": {},
   "source": [
    "### Repeating/Replicating Lists\n",
    "#### Like strings, you can use * operator to replicate a list specified number of times.\n",
    "#### Consider the example given below:"
   ]
  },
  {
   "cell_type": "code",
   "execution_count": 40,
   "id": "0fe211ac",
   "metadata": {
    "scrolled": true
   },
   "outputs": [
    {
     "name": "stdout",
     "output_type": "stream",
     "text": [
      "[1, 2, 10, 23, 1, 2, 10, 23, 1, 2, 10, 23]\n"
     ]
    }
   ],
   "source": [
    "l1 = [1,2, 10, 23]\n",
    "print(l1*3)"
   ]
  },
  {
   "cell_type": "markdown",
   "id": "a20f7f59",
   "metadata": {},
   "source": [
    "##### Notice that the above output has the same list l1 repeated 3 times within a single list."
   ]
  },
  {
   "cell_type": "markdown",
   "id": "6550b573",
   "metadata": {},
   "source": [
    "### List Slicing\n",
    "#### List slicing refers to accessing a specific portion or a subset of a list while the original list remains unaffected. You can use indexes of list elements to create list slices as per the following syntax:\n",
    "\n",
    " slice= List Name [StartIndex : StopIndex : Steps]\n",
    "\n",
    "#### ● The StartIndex represents the index from where the list slicing is supposed to begin. Its default value is 0, i.e. the list begins from index 0 if no StartIndex is specified. \n",
    "#### ● The StopIndex represents the last index up to which the list slicing will go on. 4 Its default value is (length(list)-1) or the index of the last element in the list.\n",
    "#### ● steps represent the number of steps. It is an optional parameter. steps, if defined, specifies the number of elements to jump over while counting from StartIndex to StopIndex. By default, it is 1.\n",
    "#### ● The list slices created, include elements falling between the indexes StartIndex and StopIndex, including StartIndex and not including StopIndex.\n",
    "#### Here is a basic example of list slicing.\n",
    "\n"
   ]
  },
  {
   "cell_type": "code",
   "execution_count": 41,
   "id": "b65d7ca0",
   "metadata": {},
   "outputs": [
    {
     "name": "stdout",
     "output_type": "stream",
     "text": [
      "['c', 'd', 'e', 'f', 'g']\n"
     ]
    }
   ],
   "source": [
    "L = ['a', 'b', 'c', 'd', 'e', 'f', 'g', 'h', 'i']\n",
    "print(L[2:7])"
   ]
  },
  {
   "attachments": {
    "Screenshot%202022-02-21%20214814.png": {
     "image/png": "[encoded data removed]"
    }
   },
   "cell_type": "markdown",
   "id": "ab561e74",
   "metadata": {},
   "source": [
    "![Screenshot%202022-02-21%20214814.png](attachment:Screenshot%202022-02-21%20214814.png)"
   ]
  },
  {
   "cell_type": "markdown",
   "id": "05a4e0cf",
   "metadata": {},
   "source": [
    "### Slice Using Negative Indices\n",
    "##### You can also specify negative indices while slicing a list. Consider the example given"
   ]
  },
  {
   "cell_type": "code",
   "execution_count": 42,
   "id": "97792fe8",
   "metadata": {},
   "outputs": [
    {
     "name": "stdout",
     "output_type": "stream",
     "text": [
      "['c', 'd', 'e', 'f', 'g']\n"
     ]
    }
   ],
   "source": [
    "L = ['a', 'b', 'c', 'd', 'e', 'f', 'g', 'h', 'i']\n",
    "print(L[-7:-2])"
   ]
  },
  {
   "attachments": {
    "Screenshot%202022-02-21%20215830.png": {
     "image/png": "[encoded data removed]"
    }
   },
   "cell_type": "markdown",
   "id": "6df10072",
   "metadata": {},
   "source": [
    "![Screenshot%202022-02-21%20215830.png](attachment:Screenshot%202022-02-21%20215830.png)"
   ]
  },
  {
   "cell_type": "markdown",
   "id": "e059ad1f",
   "metadata": {},
   "source": [
    "### Specify Step of the Slicing\n",
    "#### You can specify the step of the slicing using the steps parameter. The steps parameter is optional and by default 1"
   ]
  },
  {
   "cell_type": "code",
   "execution_count": 43,
   "id": "c5e72604",
   "metadata": {},
   "outputs": [
    {
     "name": "stdout",
     "output_type": "stream",
     "text": [
      "['c', 'e', 'g']\n"
     ]
    }
   ],
   "source": [
    "# Print every 2nd item between position 2 to 7\n",
    "L = ['a', 'b', 'c', 'd', 'e', 'f', 'g', 'h', 'i']\n",
    "print(L[2:7:2])"
   ]
  },
  {
   "attachments": {
    "Screenshot%202022-02-21%20220032.png": {
     "image/png": "[encoded data removed]"
    }
   },
   "cell_type": "markdown",
   "id": "e97b4a41",
   "metadata": {},
   "source": [
    "![Screenshot%202022-02-21%20220032.png](attachment:Screenshot%202022-02-21%20220032.png)"
   ]
  },
  {
   "cell_type": "markdown",
   "id": "8444e6bf",
   "metadata": {},
   "source": [
    "### Slice at Beginning & End\n",
    "#### Omitting the StartIndex starts the slice from the index 0. Meaning, L[:stop] is equivalent to L[0:stop]"
   ]
  },
  {
   "cell_type": "code",
   "execution_count": 45,
   "id": "66eae0bc",
   "metadata": {},
   "outputs": [
    {
     "name": "stdout",
     "output_type": "stream",
     "text": [
      "['a', 'b', 'c']\n"
     ]
    }
   ],
   "source": [
    "# Slice the first three items from the list\n",
    "L = ['a', 'b', 'c', 'd', 'e', 'f', 'g', 'h', 'i']\n",
    "print(L[:3])"
   ]
  },
  {
   "cell_type": "markdown",
   "id": "79a4aee3",
   "metadata": {},
   "source": [
    "####  Whereas, omitting the StopIndex extends the slice to the end of the list. Meaning, L[start:] is equivalent to L[start:len(L)]."
   ]
  },
  {
   "cell_type": "code",
   "execution_count": 46,
   "id": "55bdb96f",
   "metadata": {},
   "outputs": [
    {
     "name": "stdout",
     "output_type": "stream",
     "text": [
      "['g', 'h', 'i']\n"
     ]
    }
   ],
   "source": [
    "# Slice the last three items from the list\n",
    "L = ['a', 'b', 'c', 'd', 'e', 'f', 'g', 'h', 'i']\n",
    "print(L[6:])"
   ]
  },
  {
   "cell_type": "markdown",
   "id": "97ac35cf",
   "metadata": {},
   "source": [
    "###  Reversing a List\n",
    "#### You can reverse a list by omitting both StartIndex and StopIndex and specifying steps as -1."
   ]
  },
  {
   "cell_type": "code",
   "execution_count": 54,
   "id": "30a81d13",
   "metadata": {},
   "outputs": [
    {
     "name": "stdout",
     "output_type": "stream",
     "text": [
      "['e', 'd', 'c', 'b', 'a']\n"
     ]
    }
   ],
   "source": [
    "L = ['a', 'b', 'c', 'd', 'e']\n",
    "print(L[::-1])"
   ]
  },
  {
   "cell_type": "markdown",
   "id": "d4304704",
   "metadata": {},
   "source": [
    "#### You can even specify a negative step size:"
   ]
  },
  {
   "cell_type": "code",
   "execution_count": 44,
   "id": "208cc6c0",
   "metadata": {},
   "outputs": [
    {
     "name": "stdout",
     "output_type": "stream",
     "text": [
      "['g', 'e', 'c']\n"
     ]
    }
   ],
   "source": [
    "# Print every 2nd item between position 6 to 1\n",
    "L = ['a', 'b', 'c', 'd', 'e', 'f', 'g', 'h', 'i']\n",
    "print(L[6:1:-2])"
   ]
  },
  {
   "cell_type": "code",
   "execution_count": 46,
   "id": "28f95e6e",
   "metadata": {},
   "outputs": [
    {
     "data": {
      "text/plain": [
       "[2, 3, 'bihari']"
      ]
     },
     "execution_count": 46,
     "metadata": {},
     "output_type": "execute_result"
    }
   ],
   "source": [
    "li_of[1:4]  #show all item exit between index 1 to 3=(4-1)"
   ]
  },
  {
   "cell_type": "code",
   "execution_count": 17,
   "id": "ca8b66ee",
   "metadata": {},
   "outputs": [
    {
     "data": {
      "text/plain": [
       "[2, 'Vinay', 'bihari']"
      ]
     },
     "execution_count": 17,
     "metadata": {},
     "output_type": "execute_result"
    }
   ],
   "source": [
    "li_of[1:] #show all item exit from index 1 to last in the array"
   ]
  },
  {
   "cell_type": "code",
   "execution_count": 18,
   "id": "d5a945fc",
   "metadata": {},
   "outputs": [
    {
     "data": {
      "text/plain": [
       "['archana', 2, 'Vinay', 'bihari']"
      ]
     },
     "execution_count": 18,
     "metadata": {},
     "output_type": "execute_result"
    }
   ],
   "source": [
    "li_of[:]  #show all item exit"
   ]
  },
  {
   "cell_type": "code",
   "execution_count": 19,
   "id": "cdd53c53",
   "metadata": {},
   "outputs": [
    {
     "data": {
      "text/plain": [
       "[2, 'Vinay', 'bihari']"
      ]
     },
     "execution_count": 19,
     "metadata": {},
     "output_type": "execute_result"
    }
   ],
   "source": [
    "li_of[1:10] "
   ]
  },
  {
   "cell_type": "code",
   "execution_count": null,
   "id": "c1cc3c82",
   "metadata": {},
   "outputs": [],
   "source": []
  },
  {
   "cell_type": "markdown",
   "id": "7c58d5e8",
   "metadata": {},
   "source": [
    "### List Methods\n",
    "#### append(): Used for appending/adding elements at the end of a list.\n",
    "###### Syntax: ListName.append(element)\n",
    "###### Insert and Append Elements in list"
   ]
  },
  {
   "cell_type": "code",
   "execution_count": 60,
   "id": "113424d3",
   "metadata": {},
   "outputs": [
    {
     "data": {
      "text/plain": [
       "['Vinay', 'Rahul', 'Adity', 'Manish']"
      ]
     },
     "execution_count": 60,
     "metadata": {},
     "output_type": "execute_result"
    }
   ],
   "source": [
    "fri = [\"Vinay\",\"Rahul\", \"Adity\", \"Manish\"]\n",
    "fri"
   ]
  },
  {
   "cell_type": "code",
   "execution_count": 61,
   "id": "6bc95102",
   "metadata": {},
   "outputs": [
    {
     "data": {
      "text/plain": [
       "['Vinay', 'Rahul', 'Adity', 'Manish', 'Ankkush']"
      ]
     },
     "execution_count": 61,
     "metadata": {},
     "output_type": "execute_result"
    }
   ],
   "source": [
    "fri.append(\"Ankkush\")  #it is add element at last\n",
    "fri"
   ]
  },
  {
   "cell_type": "code",
   "execution_count": 49,
   "id": "aee7a21b",
   "metadata": {},
   "outputs": [],
   "source": [
    "fri.append([1,2,3,4,5,6,7,8])  #it is add array at last"
   ]
  },
  {
   "cell_type": "markdown",
   "id": "bf7bbbc7",
   "metadata": {},
   "source": [
    "###  extend(): Adds the contents of List2 to the end of List1.\n",
    "Syntax: ListName1.extend(<ListName2)"
   ]
  },
  {
   "cell_type": "code",
   "execution_count": 79,
   "id": "6a8d85a6",
   "metadata": {},
   "outputs": [
    {
     "data": {
      "text/plain": [
       "[1, 2, 3, 4, 5, 6, 7, 8]"
      ]
     },
     "execution_count": 79,
     "metadata": {},
     "output_type": "execute_result"
    }
   ],
   "source": [
    "l1=[1,2,3,4]\n",
    "l2=[5,6,7,8]\n",
    "l1.extend(l2) #Adds contents of l2 to l1 at the end\n",
    "l1"
   ]
  },
  {
   "cell_type": "code",
   "execution_count": 82,
   "id": "7db207b3",
   "metadata": {},
   "outputs": [
    {
     "data": {
      "text/plain": [
       "[1, 2, 3, 4, 5, 6, 7, 8, 'hi', 'anu', 'hi', 'anu']"
      ]
     },
     "execution_count": 82,
     "metadata": {},
     "output_type": "execute_result"
    }
   ],
   "source": [
    "l1.extend([\"hi\", \"anu\"])  #it is add multiple element at last\n",
    "l1"
   ]
  },
  {
   "cell_type": "markdown",
   "id": "3fe7af42",
   "metadata": {},
   "source": [
    "#### **.append() vs .extend():\n",
    "#### The only difference between .append() and .extend() is that, the .append() method adds an element at the back of a given list (appends an element at the end of a list). On the other hand, the .extend() method adds the contents of another list at the end of the given list i.e. it merges two lists (extends the given list). See the examples given above for better clarity.\n",
    "\n",
    "### insert(): \n",
    "#### Inserts an element at a specified position/index in a list.\n",
    "Syntax: ListName(position, element)"
   ]
  },
  {
   "cell_type": "code",
   "execution_count": 62,
   "id": "8c70bb1d",
   "metadata": {},
   "outputs": [
    {
     "data": {
      "text/plain": [
       "['Vinay', 'Rahul', 'Ankit', 'Adity', 'Manish', 'Ankkush']"
      ]
     },
     "execution_count": 62,
     "metadata": {},
     "output_type": "execute_result"
    }
   ],
   "source": [
    "fri.insert(2,\"Ankit\") #it is add element according to index\n",
    "fri"
   ]
  },
  {
   "cell_type": "code",
   "execution_count": 47,
   "id": "543b73c0",
   "metadata": {},
   "outputs": [],
   "source": [
    "fri.insert(12,\"Anu\") #if it have not 12 index so , its add last"
   ]
  },
  {
   "cell_type": "markdown",
   "id": "5a3a7b7f",
   "metadata": {},
   "source": [
    "### sum() : \n",
    "#### Returns the sum of all the elements of a List. (Used only for lists containing numerical values)\n",
    "Syntax: sum(ListName)"
   ]
  },
  {
   "cell_type": "code",
   "execution_count": 84,
   "id": "bf3bd7f8",
   "metadata": {},
   "outputs": [
    {
     "data": {
      "text/plain": [
       "18"
      ]
     },
     "execution_count": 84,
     "metadata": {},
     "output_type": "execute_result"
    }
   ],
   "source": [
    "l1=[1,2,3,4,8]\n",
    "sum1= sum(l1) #Finds the sum of all elements in l1\n",
    "sum1"
   ]
  },
  {
   "cell_type": "markdown",
   "id": "42bd5182",
   "metadata": {},
   "source": [
    "### count(): \n",
    "#### Returns the total number of times a given element occurs in a List.\n",
    "Syntax: ListName.count(element)"
   ]
  },
  {
   "cell_type": "code",
   "execution_count": 90,
   "id": "ddfcada9",
   "metadata": {},
   "outputs": [
    {
     "data": {
      "text/plain": [
       "5"
      ]
     },
     "execution_count": 90,
     "metadata": {},
     "output_type": "execute_result"
    }
   ],
   "source": [
    "l1=[1,2,3,4,4,3,5,4,4,4,2]\n",
    "c= l1.count(4) #Number of times 4 occurs in the list\n",
    "c"
   ]
  },
  {
   "cell_type": "markdown",
   "id": "28823d9f",
   "metadata": {},
   "source": [
    "### len(): \n",
    "#### Returns the total length of a List.\n",
    "Syntax: len(ListName)\n"
   ]
  },
  {
   "cell_type": "code",
   "execution_count": 92,
   "id": "b95434b6",
   "metadata": {},
   "outputs": [
    {
     "data": {
      "text/plain": [
       "7"
      ]
     },
     "execution_count": 92,
     "metadata": {},
     "output_type": "execute_result"
    }
   ],
   "source": [
    "l1=[1,2,3,4,5,\"i\",0]\n",
    "len(l1)\n"
   ]
  },
  {
   "cell_type": "markdown",
   "id": "9bcc579a",
   "metadata": {},
   "source": [
    "### index(): \n",
    "#### Returns the index of first occurrence of an element in a list. If element is not present, it returns -1.\n",
    "Syntax: ListName.index(element)"
   ]
  },
  {
   "cell_type": "code",
   "execution_count": 93,
   "id": "35c44dc4",
   "metadata": {},
   "outputs": [
    {
     "data": {
      "text/plain": [
       "2"
      ]
     },
     "execution_count": 93,
     "metadata": {},
     "output_type": "execute_result"
    }
   ],
   "source": [
    "l1=[1,2,3,4]\n",
    "l1.index(3)"
   ]
  },
  {
   "cell_type": "markdown",
   "id": "b9bd1acb",
   "metadata": {},
   "source": [
    "### min() : \n",
    "#### Returns the minimum element in a List.\n",
    "Syntax: min(ListName)\n"
   ]
  },
  {
   "cell_type": "code",
   "execution_count": 95,
   "id": "7838148e",
   "metadata": {},
   "outputs": [
    {
     "data": {
      "text/plain": [
       "2"
      ]
     },
     "execution_count": 95,
     "metadata": {},
     "output_type": "execute_result"
    }
   ],
   "source": [
    "l1=[11,2,3,4]\n",
    "min(l1)"
   ]
  },
  {
   "cell_type": "markdown",
   "id": "acec6b79",
   "metadata": {},
   "source": [
    "### max(): \n",
    "#### Returns the maximum element in a List.\n",
    "Syntax: max(ListName)\n"
   ]
  },
  {
   "cell_type": "code",
   "execution_count": 97,
   "id": "7729cf00",
   "metadata": {},
   "outputs": [
    {
     "data": {
      "text/plain": [
       "11"
      ]
     },
     "execution_count": 97,
     "metadata": {},
     "output_type": "execute_result"
    }
   ],
   "source": [
    "l1=[11,2,3,4]\n",
    "max(l1)"
   ]
  },
  {
   "cell_type": "markdown",
   "id": "bd82f87c",
   "metadata": {},
   "source": [
    "###  Removing Elements from  list\n",
    "#### del() : Element to be deleted is mentioned using list name and index.\n",
    "Syntax: del <ListName>[index]"
   ]
  },
  {
   "cell_type": "code",
   "execution_count": 159,
   "id": "4d8e163e",
   "metadata": {},
   "outputs": [
    {
     "data": {
      "text/plain": [
       "['Vinay', 'Rahul', 'Ankit', 'Adity', 1, 2, 3]"
      ]
     },
     "execution_count": 159,
     "metadata": {},
     "output_type": "execute_result"
    }
   ],
   "source": [
    "rem=['Vinay','Rahul','Ankit','Adity', 1, 2, 3,] # create list\n",
    "rem"
   ]
  },
  {
   "cell_type": "code",
   "execution_count": 160,
   "id": "ae0f2d94",
   "metadata": {},
   "outputs": [
    {
     "data": {
      "text/plain": [
       "['Vinay', 'Rahul', 'Ankit', 'Adity', 1, 3]"
      ]
     },
     "execution_count": 160,
     "metadata": {},
     "output_type": "execute_result"
    }
   ],
   "source": [
    "rem.remove(2)  #number 2 remove from list (2)\n",
    "rem"
   ]
  },
  {
   "cell_type": "markdown",
   "id": "3badc4dc",
   "metadata": {},
   "source": [
    "###  pop(): \n",
    "#### It deletes and returns the element at the specified index. If we don't mention the index, it by default pops the last element in the list.\n",
    "Syntax: <ListName>.pop([index])"
   ]
  },
  {
   "cell_type": "code",
   "execution_count": 122,
   "id": "d99035c1",
   "metadata": {},
   "outputs": [
    {
     "data": {
      "text/plain": [
       "3"
      ]
     },
     "execution_count": 122,
     "metadata": {},
     "output_type": "execute_result"
    }
   ],
   "source": [
    "l1=[1,2,3,4]\n",
    "poppedElement= l1.pop(2)  \n",
    "#Index must be in range of the List, otherwise IndexError occurs.\n",
    "poppedElement"
   ]
  },
  {
   "cell_type": "code",
   "execution_count": 123,
   "id": "e0c7adc7",
   "metadata": {},
   "outputs": [
    {
     "data": {
      "text/plain": [
       "[1, 2, 4]"
      ]
     },
     "execution_count": 123,
     "metadata": {},
     "output_type": "execute_result"
    }
   ],
   "source": [
    "l1"
   ]
  },
  {
   "cell_type": "code",
   "execution_count": 61,
   "id": "43757acb",
   "metadata": {},
   "outputs": [
    {
     "data": {
      "text/plain": [
       "['Vinay', 'Rahul', 'Ankit', 'Adity', 1]"
      ]
     },
     "execution_count": 61,
     "metadata": {},
     "output_type": "execute_result"
    }
   ],
   "source": [
    "rem.pop() # remove from last (3)\n",
    "rem"
   ]
  },
  {
   "cell_type": "code",
   "execution_count": 62,
   "id": "fbfcc9fb",
   "metadata": {},
   "outputs": [
    {
     "data": {
      "text/plain": [
       "['Vinay', 'Rahul', 'Adity', 1]"
      ]
     },
     "execution_count": 62,
     "metadata": {},
     "output_type": "execute_result"
    }
   ],
   "source": [
    "rem.pop(2) # remove from 2nd index (ankit)\n",
    "rem"
   ]
  },
  {
   "cell_type": "code",
   "execution_count": 64,
   "id": "9e68bdab",
   "metadata": {},
   "outputs": [
    {
     "name": "stdout",
     "output_type": "stream",
     "text": [
      "['abcd', 'def', 5]\n"
     ]
    }
   ],
   "source": [
    "li = ['abcd',5,'def',5]  #remove first  number\n",
    "li.remove(5)\n",
    "print(li)"
   ]
  },
  {
   "cell_type": "code",
   "execution_count": 65,
   "id": "fead2043",
   "metadata": {},
   "outputs": [
    {
     "name": "stdout",
     "output_type": "stream",
     "text": [
      "[5, 2, 8]\n"
     ]
    }
   ],
   "source": [
    "li = [5,2,6,8]\n",
    "li.pop(2)\n",
    "print(li)"
   ]
  },
  {
   "cell_type": "markdown",
   "id": "d90905f4",
   "metadata": {},
   "source": [
    "##### list actully stores refernces of elements\n",
    "##### all referencess are  continus"
   ]
  },
  {
   "cell_type": "markdown",
   "id": "483c2a2c",
   "metadata": {},
   "source": [
    "## loop on list\n",
    "#### There are multiple ways to iterate over a list in Python.\n",
    "### Using for loop"
   ]
  },
  {
   "cell_type": "code",
   "execution_count": 165,
   "id": "f363fc49",
   "metadata": {},
   "outputs": [
    {
     "data": {
      "text/plain": [
       "['Vinay', 'Rahul', 'Ankit', 'Adity', 1, 2, 3]"
      ]
     },
     "execution_count": 165,
     "metadata": {},
     "output_type": "execute_result"
    }
   ],
   "source": [
    "lolist=['Vinay','Rahul','Ankit','Adity', 1, 2, 3,] \n",
    "lolist"
   ]
  },
  {
   "cell_type": "code",
   "execution_count": 174,
   "id": "c99dbec7",
   "metadata": {},
   "outputs": [
    {
     "name": "stdout",
     "output_type": "stream",
     "text": [
      "Vinay\n",
      "Rahul\n",
      "Ankit\n",
      "Adity\n",
      "1\n",
      "2\n",
      "3\n"
     ]
    }
   ],
   "source": [
    "for i in range(len(lolist)):\n",
    "    print(lolist[i])"
   ]
  },
  {
   "cell_type": "code",
   "execution_count": 72,
   "id": "2c4cf22b",
   "metadata": {},
   "outputs": [
    {
     "name": "stdout",
     "output_type": "stream",
     "text": [
      "Vinay\n",
      "Rahul\n",
      "Ankit\n",
      "Adity\n",
      "1\n",
      "2\n",
      "3\n"
     ]
    }
   ],
   "source": [
    "for i in lolist:\n",
    "    print(i)"
   ]
  },
  {
   "cell_type": "markdown",
   "id": "6ab10272",
   "metadata": {},
   "source": [
    "##### You ca even use while() loops. Try using the while() loops on your own."
   ]
  },
  {
   "cell_type": "code",
   "execution_count": 178,
   "id": "eabd4ea6",
   "metadata": {},
   "outputs": [
    {
     "name": "stdout",
     "output_type": "stream",
     "text": [
      "Vinay\n",
      "Rahul\n",
      "Ankit\n",
      "Adity\n",
      "1\n",
      "2\n",
      "3\n"
     ]
    }
   ],
   "source": [
    "i=0\n",
    "while i<len(lolist):\n",
    "    print(lolist[i])\n",
    "    i+=1"
   ]
  },
  {
   "cell_type": "code",
   "execution_count": 179,
   "id": "d51fd4dd",
   "metadata": {},
   "outputs": [
    {
     "ename": "TypeError",
     "evalue": "'<' not supported between instances of 'int' and 'list'",
     "output_type": "error",
     "traceback": [
      "\u001b[1;31m---------------------------------------------------------------------------\u001b[0m",
      "\u001b[1;31mTypeError\u001b[0m                                 Traceback (most recent call last)",
      "Input \u001b[1;32mIn [179]\u001b[0m, in \u001b[0;36m<module>\u001b[1;34m\u001b[0m\n\u001b[0;32m      1\u001b[0m i\u001b[38;5;241m=\u001b[39m\u001b[38;5;241m0\u001b[39m\n\u001b[1;32m----> 2\u001b[0m \u001b[38;5;28;01mwhile\u001b[39;00m \u001b[43mi\u001b[49m\u001b[38;5;241;43m<\u001b[39;49m\u001b[43mlolist\u001b[49m:\n\u001b[0;32m      3\u001b[0m     \u001b[38;5;28mprint\u001b[39m(lolist[i])\n\u001b[0;32m      4\u001b[0m     i\u001b[38;5;241m+\u001b[39m\u001b[38;5;241m=\u001b[39m\u001b[38;5;241m1\u001b[39m\n",
      "\u001b[1;31mTypeError\u001b[0m: '<' not supported between instances of 'int' and 'list'"
     ]
    }
   ],
   "source": [
    "i=0\n",
    "while i<lolist:\n",
    "    print(lolist[i])\n",
    "    i+=1"
   ]
  },
  {
   "cell_type": "code",
   "execution_count": 73,
   "id": "4f529238",
   "metadata": {},
   "outputs": [
    {
     "name": "stdout",
     "output_type": "stream",
     "text": [
      "Ankit\n",
      "Adity\n",
      "1\n",
      "2\n",
      "3\n"
     ]
    }
   ],
   "source": [
    "for i in lolist[2:]: #it start from the two\n",
    "    print(i)"
   ]
  },
  {
   "cell_type": "code",
   "execution_count": 74,
   "id": "8ea4f561",
   "metadata": {},
   "outputs": [
    {
     "name": "stdout",
     "output_type": "stream",
     "text": [
      "Ankit\n",
      "Adity\n"
     ]
    }
   ],
   "source": [
    "for i in lolist[2:4]: #it print between from the 4\n",
    "    print(i)"
   ]
  },
  {
   "cell_type": "markdown",
   "id": "98104449",
   "metadata": {},
   "source": [
    "###  Negative  indexing"
   ]
  },
  {
   "cell_type": "code",
   "execution_count": 75,
   "id": "1b8f81b1",
   "metadata": {},
   "outputs": [
    {
     "data": {
      "text/plain": [
       "['Vinay', 'Rahul', 'Ankit', 'Adity', 1, 2, 3]"
      ]
     },
     "execution_count": 75,
     "metadata": {},
     "output_type": "execute_result"
    }
   ],
   "source": [
    "NegInx=['Vinay','Rahul','Ankit','Adity', 1, 2, 3,] \n",
    "NegInx"
   ]
  },
  {
   "cell_type": "code",
   "execution_count": 76,
   "id": "5076908b",
   "metadata": {},
   "outputs": [
    {
     "data": {
      "text/plain": [
       "'Vinay'"
      ]
     },
     "execution_count": 76,
     "metadata": {},
     "output_type": "execute_result"
    }
   ],
   "source": [
    "NegInx[0]"
   ]
  },
  {
   "cell_type": "code",
   "execution_count": 77,
   "id": "2006926b",
   "metadata": {},
   "outputs": [
    {
     "data": {
      "text/plain": [
       "3"
      ]
     },
     "execution_count": 77,
     "metadata": {},
     "output_type": "execute_result"
    }
   ],
   "source": [
    "NegInx[-1] #from last"
   ]
  },
  {
   "cell_type": "code",
   "execution_count": 86,
   "id": "26c7c65b",
   "metadata": {},
   "outputs": [
    {
     "data": {
      "text/plain": [
       "['Rahul', 'Adity', 2]"
      ]
     },
     "execution_count": 86,
     "metadata": {},
     "output_type": "execute_result"
    }
   ],
   "source": [
    "NegInx[1:6:2] #[start, end, step(default=1)] "
   ]
  },
  {
   "cell_type": "code",
   "execution_count": 88,
   "id": "d5e18ee8",
   "metadata": {},
   "outputs": [
    {
     "data": {
      "text/plain": [
       "['Rahul', 'Ankit', 'Adity', 1, 2, 3]"
      ]
     },
     "execution_count": 88,
     "metadata": {},
     "output_type": "execute_result"
    }
   ],
   "source": [
    "NegInx[1::1] # default end  "
   ]
  },
  {
   "cell_type": "code",
   "execution_count": 89,
   "id": "9dd0417b",
   "metadata": {},
   "outputs": [
    {
     "data": {
      "text/plain": [
       "['Vinay', 'Rahul', 'Ankit', 'Adity', 1, 2, 3]"
      ]
     },
     "execution_count": 89,
     "metadata": {},
     "output_type": "execute_result"
    }
   ],
   "source": [
    "NegInx[::1] # default end  "
   ]
  },
  {
   "cell_type": "code",
   "execution_count": 90,
   "id": "a1cb55e0",
   "metadata": {},
   "outputs": [
    {
     "data": {
      "text/plain": [
       "['Vinay']"
      ]
     },
     "execution_count": 90,
     "metadata": {},
     "output_type": "execute_result"
    }
   ],
   "source": [
    "NegInx[:3] # end "
   ]
  },
  {
   "cell_type": "code",
   "execution_count": 91,
   "id": "bbf354a4",
   "metadata": {},
   "outputs": [
    {
     "data": {
      "text/plain": [
       "[3]"
      ]
     },
     "execution_count": 91,
     "metadata": {},
     "output_type": "execute_result"
    }
   ],
   "source": [
    "NegInx[-1:] # end "
   ]
  },
  {
   "cell_type": "markdown",
   "id": "8a7269fd",
   "metadata": {},
   "source": [
    "### Taking Lists as User Inputs\n",
    "#### There are two common ways to take lists as user inputs. These are:\n",
    "#### ● Space Separated Input of Lists\n",
    "#### ● Line Separated Input of Lists\n",
    "### Line Separated Input Of List\n",
    "### The way to take line separated input of a list is described below:\n",
    "#### ● Create an empty list.\n",
    "#### ● Let the number of elements you wish to put in the list be N.\n",
    "#### ● Run a loop for N iterations and during these N iterations do the following:\n",
    "###### ○ Take an element as user input using the input() function.\n",
    "###### ○ Append this element to the list we created.\n",
    "#### ● At the end of N iterations, you would have appended N desired elements to your list.\n",
    "#### ● In this, different elements will have to be entered by the user in different lines.\n",
    "Consider the given example:\n"
   ]
  },
  {
   "cell_type": "code",
   "execution_count": 191,
   "id": "b9007316",
   "metadata": {},
   "outputs": [
    {
     "name": "stdout",
     "output_type": "stream",
     "text": [
      "4\n",
      "43\n",
      "2\n",
      "1\n",
      "4\n",
      "['4', '4', '3', '2', '1', '4']\n"
     ]
    }
   ],
   "source": [
    "li=[] #Create empty list\n",
    "for i in range(5): #Run the loop 5 times\n",
    "    a=int(input()) #Take user input\n",
    "    li.append(a) #Append it to the list\n",
    "print(li) #Print the list"
   ]
  },
  {
   "cell_type": "code",
   "execution_count": 196,
   "id": "33087825",
   "metadata": {},
   "outputs": [
    {
     "name": "stdout",
     "output_type": "stream",
     "text": [
      "2\n",
      "\n",
      "3\n",
      "s\n",
      "f\n",
      "['2', '', '3', 's', 'f']\n"
     ]
    }
   ],
   "source": [
    "li=[] #Create empty list\n",
    "for i in range(5): #Run the loop 5 times\n",
    "    a=input() #Take user input\n",
    "    li.append(a) #Append it to the list\n",
    "print(li) #Print the list"
   ]
  },
  {
   "cell_type": "code",
   "execution_count": 92,
   "id": "75049c7c",
   "metadata": {},
   "outputs": [
    {
     "name": "stdout",
     "output_type": "stream",
     "text": [
      "5\n",
      "1\n",
      "2\n",
      "3\n",
      "4\n",
      "5\n",
      "['1', '2', '3', '4', '5']\n"
     ]
    }
   ],
   "source": [
    "5\n",
    "1\n",
    "2 \n",
    "3 \n",
    "4 \n",
    "5\n",
    "n = int(input())\n",
    "li = []\n",
    "for i in range(n):\n",
    "    li.append(input())\n",
    "print(li)"
   ]
  },
  {
   "cell_type": "code",
   "execution_count": 93,
   "id": "f75bce1e",
   "metadata": {},
   "outputs": [
    {
     "name": "stdout",
     "output_type": "stream",
     "text": [
      "n input4\n",
      "1\n",
      "2\n",
      "3\n",
      "4\n",
      "['1', '2', '3', '4']\n"
     ]
    }
   ],
   "source": [
    "n=int(input(\"n input\"))\n",
    "li=[]\n",
    "for i in range(n):\n",
    "    li.append(input())\n",
    "print(li)"
   ]
  },
  {
   "cell_type": "markdown",
   "id": "e3d4cfaa",
   "metadata": {},
   "source": [
    "##### The above code will prompt the user to input 5 integers in 5 lines. These 5 integers will be appended to a list and the list will be printed.\n",
    "\n",
    "## Space Separated Input Of List\n",
    "#### in Python, a user can take multiple values or inputs in one line by two methods.\n",
    "##### ● Using split() method\n",
    "##### ● Using List comprehension\n",
    "### Using split() method\n",
    "#### This function helps in taking multiple inputs from the user in a single line . It breaks the given input by the specified separator. If a separator is not provided then any white space is treated as a separator.\n",
    "\n",
    "###### Note: The split() method is generally used to split a string. \n",
    "Syntax :\n",
    "input().split(<separator>)     #separator is optional"
   ]
  },
  {
   "cell_type": "code",
   "execution_count": 201,
   "id": "e0f02239",
   "metadata": {},
   "outputs": [
    {
     "name": "stdout",
     "output_type": "stream",
     "text": [
      "4 5 6 7 8\n",
      "['4', '5', '6', '7', '8']\n"
     ]
    }
   ],
   "source": [
    "a= input().split()\n",
    "print(a)\n"
   ]
  },
  {
   "cell_type": "code",
   "execution_count": 94,
   "id": "bbd5c09a",
   "metadata": {},
   "outputs": [
    {
     "name": "stdout",
     "output_type": "stream",
     "text": [
      "5\n"
     ]
    }
   ],
   "source": [
    "n = int(input())"
   ]
  },
  {
   "cell_type": "code",
   "execution_count": 97,
   "id": "cdb13210",
   "metadata": {},
   "outputs": [
    {
     "name": "stdout",
     "output_type": "stream",
     "text": [
      "1 2 3 4 5 \n"
     ]
    },
    {
     "data": {
      "text/plain": [
       "'1 2 3 4 5 '"
      ]
     },
     "execution_count": 97,
     "metadata": {},
     "output_type": "execute_result"
    }
   ],
   "source": [
    "str = input()\n",
    "str"
   ]
  },
  {
   "cell_type": "markdown",
   "id": "8f4e7aaf",
   "metadata": {},
   "source": [
    "##### Now, say you want to take comma separated inputs, then you will use \",\" as the separator. This will be done as follows:"
   ]
  },
  {
   "cell_type": "code",
   "execution_count": 204,
   "id": "a8f462c3",
   "metadata": {},
   "outputs": [
    {
     "name": "stdout",
     "output_type": "stream",
     "text": [
      "6,8,8,8,0,8\n",
      "['6', '8', '8', '8', '0', '8']\n"
     ]
    }
   ],
   "source": [
    "a= input().split(\",\")\n",
    "print(a)"
   ]
  },
  {
   "cell_type": "markdown",
   "id": "801b5d2d",
   "metadata": {},
   "source": [
    "#### Note: Observe that the elements were considered as characters and not integers in the list created using the split() function. (What if you want a list of integers?- Think)"
   ]
  },
  {
   "cell_type": "markdown",
   "id": "68874184",
   "metadata": {},
   "source": [
    "### Using List Comprehension\n",
    "#### List comprehension is an elegant way to define and create a list in Python. We can create lists just like mathematical statements in one line only. A common syntax to take input using list comprehension is given below.\n",
    "inputList= [int(x) for x in input().split()]"
   ]
  },
  {
   "cell_type": "code",
   "execution_count": 205,
   "id": "22a12163",
   "metadata": {},
   "outputs": [
    {
     "name": "stdout",
     "output_type": "stream",
     "text": [
      "5  5 5 5 5 5 \n",
      "[5, 5, 5, 5, 5, 5]\n"
     ]
    }
   ],
   "source": [
    "li= [int(x) for x in input().split()]\n",
    "print(li)"
   ]
  },
  {
   "cell_type": "markdown",
   "id": "194cfc38",
   "metadata": {},
   "source": [
    "#### Here, In[1] typecasts x in the list input().split() to an integer and then makes a list out of all these x’s."
   ]
  },
  {
   "cell_type": "code",
   "execution_count": 106,
   "id": "679545dd",
   "metadata": {},
   "outputs": [
    {
     "data": {
      "text/plain": [
       "['1,2,3,4,5,5']"
      ]
     },
     "execution_count": 106,
     "metadata": {},
     "output_type": "execute_result"
    }
   ],
   "source": [
    "str.split()   #default str.split(' ')"
   ]
  },
  {
   "cell_type": "code",
   "execution_count": 101,
   "id": "3858701d",
   "metadata": {
    "scrolled": true
   },
   "outputs": [
    {
     "name": "stdout",
     "output_type": "stream",
     "text": [
      "1,2,3,4,5,5\n"
     ]
    },
    {
     "data": {
      "text/plain": [
       "'1,2,3,4,5,5'"
      ]
     },
     "execution_count": 101,
     "metadata": {},
     "output_type": "execute_result"
    }
   ],
   "source": [
    "str = input()\n",
    "str"
   ]
  },
  {
   "cell_type": "code",
   "execution_count": 112,
   "id": "f248a9ba",
   "metadata": {},
   "outputs": [
    {
     "data": {
      "text/plain": [
       "['1', '2', '3', '4', '5', '5']"
      ]
     },
     "execution_count": 112,
     "metadata": {},
     "output_type": "execute_result"
    }
   ],
   "source": [
    "str.split(',')"
   ]
  },
  {
   "cell_type": "code",
   "execution_count": 215,
   "id": "6f1ab455",
   "metadata": {
    "scrolled": true
   },
   "outputs": [
    {
     "name": "stdout",
     "output_type": "stream",
     "text": [
      "5\n",
      "23\n",
      "\n",
      "4\n",
      "4\n",
      "4\n",
      "['23', '', '4', '4', '4']\n"
     ]
    }
   ],
   "source": [
    "n=int(input())\n",
    "list=[]\n",
    "for i in range(n):\n",
    "    list.append(input())\n",
    "print(list)\n",
    "    "
   ]
  },
  {
   "cell_type": "code",
   "execution_count": 127,
   "id": "9762703e",
   "metadata": {},
   "outputs": [
    {
     "name": "stdout",
     "output_type": "stream",
     "text": [
      "6 7 8 9 0 0 \n",
      "['6', '7', '8', '9', '0', '0']\n"
     ]
    }
   ],
   "source": [
    "# n=int(input())\n",
    "li = [x for x in input().split()]\n",
    "print(li)"
   ]
  },
  {
   "cell_type": "code",
   "execution_count": 124,
   "id": "141e8acc",
   "metadata": {},
   "outputs": [
    {
     "name": "stdout",
     "output_type": "stream",
     "text": [
      "6\n",
      "2 3 4 5 6 7 8 9 0 \n",
      "2\n",
      "3\n",
      "4\n",
      "5\n",
      "6\n",
      "7\n",
      "8\n",
      "9\n",
      "0\n"
     ]
    }
   ],
   "source": [
    "n=int(input())\n",
    "li = [int(x) for x in input().split()]\n",
    "# for i in li:\n",
    "    print(li)"
   ]
  },
  {
   "cell_type": "code",
   "execution_count": 140,
   "id": "e9af3f3a",
   "metadata": {},
   "outputs": [
    {
     "name": "stdout",
     "output_type": "stream",
     "text": [
      "5\n",
      "2\n",
      "3\n",
      "4\n",
      "5\n",
      "6\n",
      "20\n"
     ]
    }
   ],
   "source": [
    "n=int(input())\n",
    "list=[]\n",
    "for i in range(n):\n",
    "    list.append(input())\n",
    "\n",
    "sums=0\n",
    "for i in range(0, len(list)):\n",
    "    sums=sums+int(list[i])\n",
    "print(sums)\n"
   ]
  },
  {
   "cell_type": "code",
   "execution_count": 216,
   "id": "e37c85ff",
   "metadata": {},
   "outputs": [
    {
     "name": "stdout",
     "output_type": "stream",
     "text": [
      "4\n",
      "5\n",
      "5\n"
     ]
    }
   ],
   "source": [
    "n=int(input())\n",
    "list=[int(x) for x in input().split()]\n",
    "\n",
    "sums=0\n",
    "for i in range(0, len(list)):\n",
    "    sums=sums+int(list[i])\n",
    "print(sums)\n"
   ]
  },
  {
   "cell_type": "markdown",
   "id": "8a30d285",
   "metadata": {},
   "source": [
    "# Linear Search\n",
    "#### Linear search is the simplest searching algorithm that searches for an element in a list in sequential order.\n",
    "\n",
    "#### Linear Search Algorithm\n",
    "##### We have been given a list and a targetValue. We aim to check whether the given targetValue is present in the given list or not. If the element is present we are required to print the index of the element in the list and if the element is not present we print -1.\n",
    "###### (First, let us implement this using a simple loop, then later we will see how to implement linear search using functions.)\n",
    "#### The following are the steps in the algorithm:\n",
    "###### 1. Traverse the given list using a loop.\n",
    "###### 2. In every iteration, compare the targetValue with the value of the element in the list in the current iteration.\n",
    "###### ○ If the values match, print the current index of the list.\n",
    "###### ○ If the values do not match, move on to the next list element.\n",
    "###### 3. If no match is found, print -1. \n",
    "### Pseudo-Code"
   ]
  },
  {
   "cell_type": "code",
   "execution_count": null,
   "id": "20c1bcab",
   "metadata": {},
   "outputs": [],
   "source": [
    "for each element in the array: #For loop to traverse the list\n",
    "    if element == targetValue #Compare the targetValue to the element\n",
    "        print(indexOf(item))"
   ]
  },
  {
   "cell_type": "code",
   "execution_count": 214,
   "id": "6bad8336",
   "metadata": {},
   "outputs": [
    {
     "name": "stdout",
     "output_type": "stream",
     "text": [
      "2 3 4 5 6 7\n",
      "7\n",
      "5\n"
     ]
    }
   ],
   "source": [
    "li= [int(x) for x in input().split()] #Taking list as user input\n",
    "targetValue= int(input()) #User input for targetValue\n",
    "found = False #Boolean value to check if we found the targetValue\n",
    "for i in li:\n",
    "    if (i==targetValue): #If we found the targetValue\n",
    "        print(li.index(i)) #Print the index\n",
    "        found = True #Set found as True as we found the targetValue\n",
    "        break #Since we found the targetValue, we break out of loop\n",
    "if found is False:#If we did not find the targetValue\n",
    "    print(-1)"
   ]
  },
  {
   "cell_type": "code",
   "execution_count": 223,
   "id": "998bfba9",
   "metadata": {},
   "outputs": [
    {
     "name": "stdout",
     "output_type": "stream",
     "text": [
      "12 124 34 45 67\n",
      "45\n",
      "3\n",
      "3\n"
     ]
    }
   ],
   "source": [
    "lists=[int(x) for x in input().split()]\n",
    "ele = int(input())\n",
    "flag=False\n",
    "for i in lists:\n",
    "    if i==ele:\n",
    "        flag=True\n",
    "        break\n",
    "if flag:\n",
    "    print(lists.index(i))\n",
    "else:\n",
    "    print(-1)"
   ]
  },
  {
   "cell_type": "markdown",
   "id": "08960351",
   "metadata": {},
   "source": [
    "### Linear Search Through Functions\n",
    "#### We will create a function linearSearch, which will have the following properties:\n",
    "###### ● Take list and targetValue as parameters.\n",
    "###### ● Run a loop to check the presence of targetValue in list.\n",
    "##### ● If it is present then it returns the index of the targetValue.\n",
    "##### ● If it is not present, then it returns -1.\n",
    "#### We will call this function and then print the return value of the function\n",
    "\n",
    "### Python Code"
   ]
  },
  {
   "cell_type": "code",
   "execution_count": 235,
   "id": "f3d16ad4",
   "metadata": {},
   "outputs": [
    {
     "name": "stdout",
     "output_type": "stream",
     "text": [
      "5 6 7 8\n",
      "8\n",
      "3\n"
     ]
    }
   ],
   "source": [
    "def linearSearch(li,targetValue):\n",
    "    for i in li:\n",
    "        if (i==targetValue): #If we found the targetValue\n",
    "            return li.index(i) #Return the index\n",
    "    return -1 #If not found, return -1\n",
    "li= [int(x) for x in input().split()] #Taking list as user input\n",
    "targetValue= int(input()) #User input for targetValue\n",
    "print(linearSearch(li,targetValue)) #Print the return value\n"
   ]
  },
  {
   "cell_type": "code",
   "execution_count": 236,
   "id": "31973d5d",
   "metadata": {},
   "outputs": [
    {
     "name": "stdout",
     "output_type": "stream",
     "text": [
      "6 7 8 9\n",
      "9\n",
      "3\n"
     ]
    }
   ],
   "source": [
    "def linear_search(a,b):\n",
    "    for i in range(len(lists)):\n",
    "        if lists[i]==ele:\n",
    "            return i\n",
    "    return -1\n",
    "\n",
    "lists=[int(x) for x in input().split()]\n",
    "ele = int(input())\n",
    "index = linear_search(lists,ele)  \n",
    "print(index)\n"
   ]
  },
  {
   "cell_type": "markdown",
   "id": "dbee0adc",
   "metadata": {},
   "source": [
    "### Mutable And Immutable Concept\n",
    "#### The Python data types can be broadly categorized into two - Mutable and\n",
    "#### Immutable types. Let us now discuss these two types in detail.\n",
    "##### ● Since everything in Python is an Object, every variable holds an object instance.\n",
    "##### ● When an object is initiated, it is assigned a unique object id (Address in the memory).\n",
    "##### ● Its type is defined at runtime and once set it can never change.\n",
    "##### ● However, its state can be changed if it is mutable. In other words, the value of a mutable object can be changed after it is created, whereas the value of an immutable object can’t be changed.\n",
    "###### Note: Objects of built-in types like (int, float, bool, str, tuple, Unicode) are immutable. Objects of built-in types like (list, set, dict) are mutable. A list is a mutable as we can insert/delete/reassign values in a list.\n"
   ]
  },
  {
   "cell_type": "markdown",
   "id": "39aed3fa",
   "metadata": {},
   "source": [
    "### Mutable"
   ]
  },
  {
   "cell_type": "code",
   "execution_count": 238,
   "id": "f7161b88",
   "metadata": {},
   "outputs": [
    {
     "name": "stdout",
     "output_type": "stream",
     "text": [
      "1962453303600\n",
      "1962453303600\n"
     ]
    }
   ],
   "source": [
    "x=3\n",
    "a=3\n",
    "print(id(x))\n",
    "print(id(a))"
   ]
  },
  {
   "cell_type": "code",
   "execution_count": 240,
   "id": "f7e59b12",
   "metadata": {},
   "outputs": [
    {
     "name": "stdout",
     "output_type": "stream",
     "text": [
      "1962453303600\n",
      "1962453303632\n"
     ]
    }
   ],
   "source": [
    "a=4\n",
    "print(id(x))\n",
    "print(id(a))  # a valu is change so id is change"
   ]
  },
  {
   "cell_type": "code",
   "execution_count": 241,
   "id": "2d38d579",
   "metadata": {},
   "outputs": [
    {
     "name": "stdout",
     "output_type": "stream",
     "text": [
      "1962581524352\n",
      "1962581524352\n"
     ]
    }
   ],
   "source": [
    "li = [1,2,3,4]\n",
    "li2=li\n",
    "print(id(li))\n",
    "print(id(li2))"
   ]
  },
  {
   "cell_type": "code",
   "execution_count": 249,
   "id": "ccdb0cb5",
   "metadata": {},
   "outputs": [
    {
     "name": "stdout",
     "output_type": "stream",
     "text": [
      "1962581639296 [1, 2, 3, 9]\n",
      "1962581639296 [1, 2, 3, 9]\n"
     ]
    }
   ],
   "source": [
    "li = [1,2,3,4]\n",
    "li2=li\n",
    "li2[3]=9\n",
    "print(id(li), li)\n",
    "print(id(li2), li2)"
   ]
  },
  {
   "cell_type": "code",
   "execution_count": 250,
   "id": "da9dbaae",
   "metadata": {},
   "outputs": [
    {
     "name": "stdout",
     "output_type": "stream",
     "text": [
      "1962581781056 [1, 2, 3, 4]\n",
      "1962580882112 [1, 24, 35, 46, 75]\n"
     ]
    }
   ],
   "source": [
    "li = [1,2,3,4]\n",
    "li2=li\n",
    "li2=[1,24,35,46,75]\n",
    "print(id(li), li)\n",
    "print(id(li2), li2)"
   ]
  },
  {
   "cell_type": "markdown",
   "id": "fa954772",
   "metadata": {},
   "source": [
    "#### Passing Variable Through Functions"
   ]
  },
  {
   "cell_type": "code",
   "execution_count": 252,
   "id": "a4dc3a96",
   "metadata": {},
   "outputs": [
    {
     "name": "stdout",
     "output_type": "stream",
     "text": [
      "2\n"
     ]
    }
   ],
   "source": [
    "def increment(a):\n",
    "    a=a+2\n",
    "    return a\n",
    "\n",
    "a=2\n",
    "increment(a)\n",
    "print(a)"
   ]
  },
  {
   "cell_type": "code",
   "execution_count": 253,
   "id": "41d3dab3",
   "metadata": {},
   "outputs": [
    {
     "name": "stdout",
     "output_type": "stream",
     "text": [
      "4\n"
     ]
    }
   ],
   "source": [
    "def increment(a):\n",
    "    a=a+2\n",
    "    return a\n",
    "\n",
    "a=2\n",
    "a = increment(a)\n",
    "print(a)"
   ]
  },
  {
   "cell_type": "markdown",
   "id": "f1144108",
   "metadata": {},
   "source": [
    "### Passing List Through Functions"
   ]
  },
  {
   "cell_type": "code",
   "execution_count": 254,
   "id": "03a728f2",
   "metadata": {},
   "outputs": [
    {
     "name": "stdout",
     "output_type": "stream",
     "text": [
      "[5, 4, 5, 7]\n"
     ]
    }
   ],
   "source": [
    "def increment(a):\n",
    "    a[0]=a[0]+2\n",
    "    return a\n",
    "\n",
    "a=[3,4,5,7]\n",
    "a = increment(a)\n",
    "print(a)"
   ]
  },
  {
   "cell_type": "code",
   "execution_count": 258,
   "id": "6d291872",
   "metadata": {},
   "outputs": [
    {
     "name": "stdout",
     "output_type": "stream",
     "text": [
      "[3, 4, 5, 7]\n"
     ]
    }
   ],
   "source": [
    "def increment(a):\n",
    "    a=[36,48,59,79]\n",
    "    return a\n",
    "\n",
    "a=[3,4,5,7]\n",
    "increment(a)\n",
    "print(a)"
   ]
  },
  {
   "cell_type": "markdown",
   "id": "a96d12b7",
   "metadata": {},
   "source": [
    "#### practics"
   ]
  },
  {
   "cell_type": "code",
   "execution_count": 226,
   "id": "bbfeabee",
   "metadata": {},
   "outputs": [
    {
     "name": "stdout",
     "output_type": "stream",
     "text": [
      "[1, 4, 3, 4, 5]\n"
     ]
    }
   ],
   "source": [
    "def change(li):\n",
    "    li[1] = li[1] + 2\n",
    "li = [1,2,3,4,5]\n",
    "change(li)\n",
    "print(li)"
   ]
  },
  {
   "cell_type": "code",
   "execution_count": 227,
   "id": "bbf79524",
   "metadata": {},
   "outputs": [
    {
     "name": "stdout",
     "output_type": "stream",
     "text": [
      "[1, 4, 3, 4, 5]\n"
     ]
    }
   ],
   "source": [
    "def change(li):\n",
    "    li[1] = li[1] + 2\n",
    "    li = [3,3,3,4,5]\n",
    "li = [1,2,3,4,5]\n",
    "change(li) \n",
    "print(li)"
   ]
  },
  {
   "cell_type": "markdown",
   "id": "5cc62c73",
   "metadata": {},
   "source": [
    "### Reverse List"
   ]
  },
  {
   "cell_type": "code",
   "execution_count": 260,
   "id": "8d58df6e",
   "metadata": {},
   "outputs": [
    {
     "data": {
      "text/plain": [
       "[5, 4, 3, 2, 1]"
      ]
     },
     "execution_count": 260,
     "metadata": {},
     "output_type": "execute_result"
    }
   ],
   "source": [
    "li = [1,2,3,4,5]\n",
    "li[::-1]"
   ]
  },
  {
   "cell_type": "code",
   "execution_count": 280,
   "id": "26db46ec",
   "metadata": {},
   "outputs": [
    {
     "name": "stdout",
     "output_type": "stream",
     "text": [
      "[9, 5, 4, 3, 2, 1]\n"
     ]
    }
   ],
   "source": [
    "def reverse_list(li):\n",
    "    length = len(li)\n",
    "    for i in range(length//2):\n",
    "        li[i],li[length-i-1]=li[length-i-1],li[i]\n",
    "    \n",
    " \n",
    "li = [1,2,3,4,5,9]\n",
    "reverse_list(li)\n",
    "print(li)"
   ]
  },
  {
   "cell_type": "code",
   "execution_count": 281,
   "id": "bc2c06de",
   "metadata": {},
   "outputs": [
    {
     "name": "stdout",
     "output_type": "stream",
     "text": [
      "[9, 5, 4, 3, 2, 1]\n"
     ]
    }
   ],
   "source": [
    "def reverse_list2(li):\n",
    "    length = len(li)\n",
    "    for i in range(length//2):\n",
    "        li[i],li[-i-1]=li[-i-1],li[i]\n",
    "    \n",
    " \n",
    "li = [1,2,3,4,5,9]\n",
    "reverse_list2(li)\n",
    "print(li)"
   ]
  },
  {
   "cell_type": "code",
   "execution_count": 292,
   "id": "299442cb",
   "metadata": {},
   "outputs": [
    {
     "name": "stdout",
     "output_type": "stream",
     "text": [
      "[2, 1, 4, 3, 5, 9]\n"
     ]
    }
   ],
   "source": [
    "def reverse_list2(li):\n",
    "    length = len(li)\n",
    "    for i in range(length//2):\n",
    "        li[i],li[-i-1]=li[-i-1],li[i]\n",
    " \n",
    "li = [1,2,3,4,5,9]\n",
    "reverse_list2(li)\n",
    "print(li)"
   ]
  },
  {
   "cell_type": "code",
   "execution_count": 293,
   "id": "97dc9a2e",
   "metadata": {},
   "outputs": [
    {
     "name": "stdout",
     "output_type": "stream",
     "text": [
      "[2, 1, 4, 3, 5, 9]\n"
     ]
    }
   ],
   "source": [
    "def reverse_list2(li):\n",
    "    length = len(li)\n",
    "    for i in range(0,length//2, 2):\n",
    "        temp = li[i]\n",
    "        li[i] = li[i+1]\n",
    "        li[i+1] = temp\n",
    " \n",
    "li=[int(x) for x in input().split()]\n",
    "reverse_list2(li)\n",
    "print(li)"
   ]
  },
  {
   "cell_type": "code",
   "execution_count": 13,
   "id": "d6f2dd22",
   "metadata": {},
   "outputs": [
    {
     "name": "stdout",
     "output_type": "stream",
     "text": [
      "[9, 3, 6, 12, 4, 32]\n"
     ]
    }
   ],
   "source": [
    "def swapAlternate(arr, n) :\n",
    "    length = len(li)\n",
    "    for i in range(0,length//2, 2):\n",
    "        temp = li[i]\n",
    "        li[i] = li[i+1]\n",
    "        li[i+1] = temp\n",
    "\n",
    "n=int(input())\n",
    "li=[int(x) for x in input().split()]\n",
    "swapAlternate(li, n)\n",
    "print(li)"
   ]
  },
  {
   "cell_type": "code",
   "execution_count": 2,
   "id": "47e95bc1",
   "metadata": {},
   "outputs": [
    {
     "ename": "IndentationError",
     "evalue": "expected an indented block after function definition on line 1 (824671522.py, line 2)",
     "output_type": "error",
     "traceback": [
      "\u001b[1;36m  Input \u001b[1;32mIn [2]\u001b[1;36m\u001b[0m\n\u001b[1;33m    #Your code goes here\u001b[0m\n\u001b[1;37m                        ^\u001b[0m\n\u001b[1;31mIndentationError\u001b[0m\u001b[1;31m:\u001b[0m expected an indented block after function definition on line 1\n"
     ]
    }
   ],
   "source": [
    "def findUnique(arr, n) :\n",
    "    #Your code goes here\n",
    "\n",
    "li=[int(x) for x in input().split()]\n",
    "n = \n",
    "findUnique(li, n)"
   ]
  }
 ],
 "metadata": {
  "kernelspec": {
   "display_name": "Python 3 (ipykernel)",
   "language": "python",
   "name": "python3"
  },
  "language_info": {
   "codemirror_mode": {
    "name": "ipython",
    "version": 3
   },
   "file_extension": ".py",
   "mimetype": "text/x-python",
   "name": "python",
   "nbconvert_exporter": "python",
   "pygments_lexer": "ipython3",
   "version": "3.10.2"
  }
 },
 "nbformat": 4,
 "nbformat_minor": 5
}
