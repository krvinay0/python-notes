{
 "cells": [
  {
   "cell_type": "code",
   "execution_count": null,
   "id": "b9948646",
   "metadata": {},
   "outputs": [],
   "source": []
  },
  {
   "cell_type": "markdown",
   "id": "2df8d829",
   "metadata": {},
   "source": [
    "###  Print sum of N Even  Number"
   ]
  },
  {
   "cell_type": "code",
   "execution_count": 2,
   "id": "c35e8794",
   "metadata": {},
   "outputs": [
    {
     "name": "stdout",
     "output_type": "stream",
     "text": [
      "110\n"
     ]
    }
   ],
   "source": [
    "n = 20\n",
    "count = 1\n",
    "add = 0\n",
    "while count <=n:\n",
    "    if count % 2 == 0:\n",
    "        add = add + count\n",
    "    count = count + 1  \n",
    "print(add)\n",
    "    "
   ]
  },
  {
   "cell_type": "markdown",
   "id": "77adab00",
   "metadata": {},
   "source": [
    "### Check Prime Number"
   ]
  },
  {
   "cell_type": "code",
   "execution_count": 2,
   "id": "4fcc4495",
   "metadata": {},
   "outputs": [
    {
     "name": "stdout",
     "output_type": "stream",
     "text": [
      "70\n",
      "Not prime\n"
     ]
    }
   ],
   "source": [
    "n = int(input())\n",
    "d = 2\n",
    "flag = False\n",
    "while d <n:\n",
    "    if n % d == 0:\n",
    "        flag = True   \n",
    "    d = d + 1 \n",
    "if flag:\n",
    "    print(\"Not prime\")\n",
    "else:        \n",
    "    print(\"Prime\")\n",
    "    \n",
    "        \n",
    "        \n",
    "    "
   ]
  },
  {
   "cell_type": "markdown",
   "id": "4bb9f772",
   "metadata": {},
   "source": [
    "### Print N Prime Number"
   ]
  },
  {
   "cell_type": "code",
   "execution_count": 3,
   "id": "cb47f019",
   "metadata": {},
   "outputs": [
    {
     "name": "stdout",
     "output_type": "stream",
     "text": [
      "1000\n",
      "2\n",
      "3\n",
      "5\n",
      "7\n",
      "11\n",
      "13\n",
      "17\n",
      "19\n",
      "23\n",
      "29\n",
      "31\n",
      "37\n",
      "41\n",
      "43\n",
      "47\n",
      "53\n",
      "59\n",
      "61\n",
      "67\n",
      "71\n",
      "73\n",
      "79\n",
      "83\n",
      "89\n",
      "97\n",
      "101\n",
      "103\n",
      "107\n",
      "109\n",
      "113\n",
      "127\n",
      "131\n",
      "137\n",
      "139\n",
      "149\n",
      "151\n",
      "157\n",
      "163\n",
      "167\n",
      "173\n",
      "179\n",
      "181\n",
      "191\n",
      "193\n",
      "197\n",
      "199\n",
      "211\n",
      "223\n",
      "227\n",
      "229\n",
      "233\n",
      "239\n",
      "241\n",
      "251\n",
      "257\n",
      "263\n",
      "269\n",
      "271\n",
      "277\n",
      "281\n",
      "283\n",
      "293\n",
      "307\n",
      "311\n",
      "313\n",
      "317\n",
      "331\n",
      "337\n",
      "347\n",
      "349\n",
      "353\n",
      "359\n",
      "367\n",
      "373\n",
      "379\n",
      "383\n",
      "389\n",
      "397\n",
      "401\n",
      "409\n",
      "419\n",
      "421\n",
      "431\n",
      "433\n",
      "439\n",
      "443\n",
      "449\n",
      "457\n",
      "461\n",
      "463\n",
      "467\n",
      "479\n",
      "487\n",
      "491\n",
      "499\n",
      "503\n",
      "509\n",
      "521\n",
      "523\n",
      "541\n",
      "547\n",
      "557\n",
      "563\n",
      "569\n",
      "571\n",
      "577\n",
      "587\n",
      "593\n",
      "599\n",
      "601\n",
      "607\n",
      "613\n",
      "617\n",
      "619\n",
      "631\n",
      "641\n",
      "643\n",
      "647\n",
      "653\n",
      "659\n",
      "661\n",
      "673\n",
      "677\n",
      "683\n",
      "691\n",
      "701\n",
      "709\n",
      "719\n",
      "727\n",
      "733\n",
      "739\n",
      "743\n",
      "751\n",
      "757\n",
      "761\n",
      "769\n",
      "773\n",
      "787\n",
      "797\n",
      "809\n",
      "811\n",
      "821\n",
      "823\n",
      "827\n",
      "829\n",
      "839\n",
      "853\n",
      "857\n",
      "859\n",
      "863\n",
      "877\n",
      "881\n",
      "883\n",
      "887\n",
      "907\n",
      "911\n",
      "919\n",
      "929\n",
      "937\n",
      "941\n",
      "947\n",
      "953\n",
      "967\n",
      "971\n",
      "977\n",
      "983\n",
      "991\n",
      "997\n"
     ]
    }
   ],
   "source": [
    "n = int(input())\n",
    "k = 2\n",
    "while k <= n:\n",
    "    d=2\n",
    "    flag = False\n",
    "    while d < k:\n",
    "        if k % d == 0:\n",
    "            flag = True   \n",
    "        d = d + 1 \n",
    "    if not(flag):\n",
    "        print(k)\n",
    "    k = k + 1 \n",
    "    \n",
    "        \n",
    "        \n",
    "    "
   ]
  },
  {
   "cell_type": "code",
   "execution_count": 5,
   "id": "b1af63ba",
   "metadata": {},
   "outputs": [
    {
     "name": "stdout",
     "output_type": "stream",
     "text": [
      "['w', 'o', 'r', 'd']\n"
     ]
    }
   ],
   "source": [
    "word = \"word\"\n",
    "n = list(word)\n",
    "print(n)"
   ]
  },
  {
   "cell_type": "code",
   "execution_count": 6,
   "id": "c5c734e5",
   "metadata": {},
   "outputs": [
    {
     "data": {
      "text/plain": [
       "[1, 2, 3, 4, 5]"
      ]
     },
     "execution_count": 6,
     "metadata": {},
     "output_type": "execute_result"
    }
   ],
   "source": [
    "[int(i) for i in str(12345)]\n",
    "\n",
    "[1, 2, 3, 4, 5]"
   ]
  },
  {
   "cell_type": "markdown",
   "id": "512fe37b",
   "metadata": {},
   "source": [
    "### Calculator"
   ]
  },
  {
   "cell_type": "code",
   "execution_count": null,
   "id": "c126195a",
   "metadata": {},
   "outputs": [],
   "source": [
    "while True:\n",
    "    n = int(input(\"Enter Condition 1.Add, 2.Sub, 3.mul, 4.div, 5.Mod, 6.exit\"))\n",
    "    while n:\n",
    "        if n==1:\n",
    "            a=int(input(\"Enter first number\"))\n",
    "            b=int(input(\"Enter second number\"))\n",
    "            print(\"Sum of\", a, \"and\", b , \"is\" ,a+b)\n",
    "            break            \n",
    "        elif n==2:\n",
    "            a=int(input(\"Enter first number\"))\n",
    "            b=int(input(\"Enter second number\"))\n",
    "            print(\"Sub of\", a, \"and\", b , \"is\" ,a-b)\n",
    "            break            \n",
    "        elif n==3:\n",
    "            a=int(input(\"Enter first number\"))\n",
    "            b=int(input(\"Enter second number\"))\n",
    "            print(\"Mul of\", a, \"and\", b , \"is\" ,a*b)\n",
    "            break        \n",
    "        elif n==4:\n",
    "            a=int(input(\"Enter first number\"))\n",
    "            b=int(input(\"Enter second number\"))\n",
    "            print(\"Div of\", a, \"and\", b , \"is\" ,a//b)\n",
    "            break        \n",
    "        elif n==5:\n",
    "            a=int(input(\"Enter first number\"))\n",
    "            b=int(input(\"Enter second number\"))\n",
    "            print(\"Remender of\", a, \"and\", b , \"is\" ,a%b)\n",
    "            break        \n",
    "        elif n==6:\n",
    "            exit()\n",
    "        else:\n",
    "            print(\"Invalid Operation\")\n",
    "            break;\n",
    "exit()   "
   ]
  },
  {
   "cell_type": "markdown",
   "id": "45a91183",
   "metadata": {},
   "source": [
    "### Reverse of a number"
   ]
  },
  {
   "cell_type": "code",
   "execution_count": 16,
   "id": "6818d4f4",
   "metadata": {},
   "outputs": [
    {
     "name": "stdout",
     "output_type": "stream",
     "text": [
      "123456\n",
      "654321\n"
     ]
    }
   ],
   "source": [
    "n = int(input())\n",
    "rev = 0\n",
    "while(n>0):\n",
    "    rem = n % 10\n",
    "    rev = rev*10+rem\n",
    "    n = n//10\n",
    "print(rev)       \n"
   ]
  },
  {
   "cell_type": "code",
   "execution_count": 2,
   "id": "28922531",
   "metadata": {},
   "outputs": [
    {
     "name": "stdout",
     "output_type": "stream",
     "text": [
      "123456789\n",
      "987654321"
     ]
    }
   ],
   "source": [
    "n=input()\n",
    "rev=0\n",
    "for i in reversed(n):\n",
    "    print(i,end='')"
   ]
  },
  {
   "cell_type": "code",
   "execution_count": 21,
   "id": "8b0ec093",
   "metadata": {},
   "outputs": [
    {
     "name": "stdout",
     "output_type": "stream",
     "text": [
      "234567\n",
      "765432\n"
     ]
    }
   ],
   "source": [
    "num = int(input())\n",
    "print(str(num)[::-1])"
   ]
  },
  {
   "cell_type": "markdown",
   "id": "18e663d9",
   "metadata": {},
   "source": [
    "### Sum of even & odd"
   ]
  },
  {
   "cell_type": "code",
   "execution_count": 4,
   "id": "6b8d2597",
   "metadata": {},
   "outputs": [
    {
     "name": "stdout",
     "output_type": "stream",
     "text": [
      "12\n",
      "2 1\n"
     ]
    }
   ],
   "source": [
    "n = int(input())\n",
    "even = 0\n",
    "odd = 0\n",
    "while(n>0):\n",
    "    rem = n % 10\n",
    "    if (rem%2==0):\n",
    "        even = even + rem\n",
    "    else:\n",
    "        odd = odd + rem\n",
    "    n=n//10\n",
    "print(even,odd)\n"
   ]
  },
  {
   "cell_type": "code",
   "execution_count": 5,
   "id": "7a871005",
   "metadata": {},
   "outputs": [
    {
     "name": "stdout",
     "output_type": "stream",
     "text": [
      "1234\n",
      "6 4\n"
     ]
    }
   ],
   "source": [
    "n = input()\n",
    "even=0\n",
    "odd=0\n",
    "\n",
    "for i in reversed(n):\n",
    "    j = int(i)\n",
    "    \n",
    "    if j%2==0:\n",
    "        even+=j\n",
    "    else:\n",
    "        odd+=j\n",
    "        \n",
    "print(even, odd)  "
   ]
  },
  {
   "cell_type": "markdown",
   "id": "edc5ef81",
   "metadata": {},
   "source": [
    "### Nth Fibonacci Number"
   ]
  },
  {
   "cell_type": "code",
   "execution_count": 10,
   "id": "781ec17f",
   "metadata": {},
   "outputs": [
    {
     "name": "stdout",
     "output_type": "stream",
     "text": [
      "6765\n"
     ]
    }
   ],
   "source": [
    "def Fibonacci(n):\n",
    "    if n<= 0:\n",
    "        print(\"Incorrect input\")\n",
    "    elif n == 1:\n",
    "        return 0\n",
    "    elif n == 2:\n",
    "        return 1\n",
    "    else:\n",
    "        return Fibonacci(n-1)+Fibonacci(n-2)\n",
    "print(Fibonacci(2))\n"
   ]
  },
  {
   "cell_type": "code",
   "execution_count": 11,
   "id": "50d955ae",
   "metadata": {},
   "outputs": [
    {
     "name": "stdout",
     "output_type": "stream",
     "text": [
      "Enter your choice:n2\n",
      "Enter two numbers: \n",
      "12\n",
      "21\n",
      "Result =  -9\n"
     ]
    }
   ],
   "source": [
    "choice = int(input(\"Enter your choice:n\")) \n",
    "if choice == 1:\n",
    "    print(\"Enter two numbers: \")\n",
    "    num1 = int(input())\n",
    "    num2 = int(input())\n",
    "    res = num1 + num2\n",
    "    print(\"Result = \", res)\n",
    "\n",
    "elif choice == 2:\n",
    "    print(\"Enter two numbers: \")\n",
    "    num1 = int(input())\n",
    "    num2 = int(input())\n",
    "    res = num1 - num2\n",
    "    print(\"Result = \", res)\n",
    "\n",
    "elif choice == 3:\n",
    "    print(\"Enter two numbers: \")\n",
    "    num1 = int(input())\n",
    "    num2 = int(input())\n",
    "    res = num1 * num2\n",
    "    print(\"Result = \", res)\n",
    "\n",
    "elif choice == 4:\n",
    "    print(\"Enter two numbers: \")\n",
    "    num1 = int(input())\n",
    "    num2 = int(input())\n",
    "    res = num1 / num2\n",
    "    print(\"Result = \", res)\n",
    "    \n",
    "elif choice == 5:\n",
    "    print(\"Enter two numbers: \")\n",
    "    num1 = int(input())\n",
    "    num2 = int(input())\n",
    "    res = num1 % num2\n",
    "    print(\"Result = \", res)\n",
    "\n",
    "elif choice == 6:\n",
    "    exit()\n",
    "else:\n",
    "  print(\"Invalid Operation\")"
   ]
  },
  {
   "cell_type": "markdown",
   "id": "66b62479",
   "metadata": {},
   "source": [
    "### Fahrenheit to Celsius"
   ]
  },
  {
   "cell_type": "code",
   "execution_count": null,
   "id": "86b1a59d",
   "metadata": {},
   "outputs": [],
   "source": [
    "S = int(input())\n",
    "E = int(input())\n",
    "W = int(input())\n",
    "\n",
    "for i in range(S, E+1, W):\n",
    "    print(i, ((( i - 32 ) * 5)//9)-1)\n",
    "    "
   ]
  },
  {
   "cell_type": "code",
   "execution_count": 12,
   "id": "fbdad4d7",
   "metadata": {},
   "outputs": [
    {
     "name": "stdout",
     "output_type": "stream",
     "text": [
      "0\n",
      "100\n",
      "20\n",
      "0 -19\n",
      "20 -8\n",
      "40 3\n",
      "60 14\n",
      "80 25\n",
      "100 36\n"
     ]
    }
   ],
   "source": [
    "S = int(input())\n",
    "E = int(input())\n",
    "W = int(input())\n",
    "\n",
    "while S<=E:\n",
    "    print(S, ((( S - 32 ) * 5)//9)-1)\n",
    "    S = S + W\n",
    "    "
   ]
  },
  {
   "cell_type": "markdown",
   "id": "204450a4",
   "metadata": {},
   "source": [
    "### Palindrome number"
   ]
  },
  {
   "cell_type": "code",
   "execution_count": 23,
   "id": "956d20c9",
   "metadata": {},
   "outputs": [
    {
     "name": "stdout",
     "output_type": "stream",
     "text": [
      "21212\n",
      "true\n"
     ]
    }
   ],
   "source": [
    "def checkPalindrome(num):\n",
    "    temp = num\n",
    "    rev = 0\n",
    "    dig = 0\n",
    "    while(num>0):\n",
    "        dig=num%10\n",
    "        rev=rev*10+dig\n",
    "        num=num//10    \n",
    "    if(rev==temp):\n",
    "        return True\n",
    "    else:\n",
    "        return False\n",
    "\n",
    "num = int(input())\n",
    "isPalindrome = checkPalindrome(num)\n",
    "if(isPalindrome):\n",
    "    print('true')\n",
    "else:\n",
    "    print('false')\n"
   ]
  },
  {
   "cell_type": "code",
   "execution_count": 39,
   "id": "b967facc",
   "metadata": {},
   "outputs": [
    {
     "name": "stdout",
     "output_type": "stream",
     "text": [
      "20\n",
      "4181\n"
     ]
    }
   ],
   "source": [
    "def fibonacci(n):\n",
    "    a = 0\n",
    "    b = 1\n",
    "    if n < 0:\n",
    "        print(\"Incorrect input\")\n",
    "    elif n == 0:\n",
    "        return a\n",
    "    elif n == 1:\n",
    "        return b\n",
    "    else:\n",
    "        for i in range(2, n):\n",
    "            c = a + b\n",
    "            a = b\n",
    "            b = c\n",
    "        return b\n",
    "        return a\n",
    "    \n",
    "n = int(input())\n",
    "print(fibonacci(n))\n"
   ]
  },
  {
   "cell_type": "code",
   "execution_count": 90,
   "id": "e4616494",
   "metadata": {},
   "outputs": [
    {
     "name": "stdout",
     "output_type": "stream",
     "text": [
      "12345\n",
      "6 9\n"
     ]
    }
   ],
   "source": [
    "n = int(input())\n",
    "even = 0\n",
    "odd = 0\n",
    "rem = 0\n",
    "while 0<n:\n",
    "    rem = n%10\n",
    "    if n%2==0:\n",
    "        even = even + rem\n",
    "    else:\n",
    "        odd = odd+ rem\n",
    "    n = n//10\n",
    "print(even, odd)"
   ]
  }
 ],
 "metadata": {
  "kernelspec": {
   "display_name": "Python 3 (ipykernel)",
   "language": "python",
   "name": "python3"
  },
  "language_info": {
   "codemirror_mode": {
    "name": "ipython",
    "version": 3
   },
   "file_extension": ".py",
   "mimetype": "text/x-python",
   "name": "python",
   "nbconvert_exporter": "python",
   "pygments_lexer": "ipython3",
   "version": "3.10.2"
  }
 },
 "nbformat": 4,
 "nbformat_minor": 5
}
