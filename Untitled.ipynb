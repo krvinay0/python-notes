{
 "cells": [
  {
   "cell_type": "code",
   "execution_count": 4,
   "id": "c10eef35",
   "metadata": {},
   "outputs": [
    {
     "name": "stdout",
     "output_type": "stream",
     "text": [
      "Vicky 9 130\n"
     ]
    }
   ],
   "source": [
    "# max(n1, n2, n3, ...)\n",
    "x = max(\"Mike\", \"John\", \"Vicky\")\n",
    "\n",
    "y = max(1, 5, 3, 9)\n",
    "\n",
    "z= max([1, 5, 3, 9, 12, 35, 1, 10, 130, 1])\n",
    "\n",
    "print(x,y,z)"
   ]
  }
 ],
 "metadata": {
  "kernelspec": {
   "display_name": "Python 3 (ipykernel)",
   "language": "python",
   "name": "python3"
  },
  "language_info": {
   "codemirror_mode": {
    "name": "ipython",
    "version": 3
   },
   "file_extension": ".py",
   "mimetype": "text/x-python",
   "name": "python",
   "nbconvert_exporter": "python",
   "pygments_lexer": "ipython3",
   "version": "3.10.2"
  }
 },
 "nbformat": 4,
 "nbformat_minor": 5
}
