{
 "cells": [
  {
   "cell_type": "code",
   "execution_count": 5,
   "id": "601284be",
   "metadata": {},
   "outputs": [
    {
     "name": "stdout",
     "output_type": "stream",
     "text": [
      "5\n",
      "3\n",
      "10\n"
     ]
    }
   ],
   "source": [
    "n= int(input())\n",
    "r= int(input())\n",
    "\n",
    "n_fact = 1\n",
    "for i in range(1,n+1):\n",
    "    n_fact = n_fact*i\n",
    "\n",
    "r_fact = 1\n",
    "for i in range(1,r+1):\n",
    "    r_fact = r_fact*i\n",
    "    \n",
    "n_r_fact = 1\n",
    "for i in range(1,n-r+1):\n",
    "    n_r_fact = n_r_fact*i\n",
    "    \n",
    "ans =n_fact//(r_fact * n_r_fact)\n",
    "print(ans)"
   ]
  },
  {
   "cell_type": "markdown",
   "id": "3e5e7bfc",
   "metadata": {},
   "source": [
    "### Create function"
   ]
  },
  {
   "cell_type": "code",
   "execution_count": 23,
   "id": "aa16fd3c",
   "metadata": {},
   "outputs": [
    {
     "name": "stdout",
     "output_type": "stream",
     "text": [
      "4\n",
      "2\n",
      "6\n"
     ]
    }
   ],
   "source": [
    "def fact(n):\n",
    "    n_fact = 1\n",
    "    for i in range(1,n+1):\n",
    "        n_fact = n_fact*i\n",
    "    return n_fact\n",
    "\n",
    "\n"
   ]
  },
  {
   "cell_type": "code",
   "execution_count": null,
   "id": "c9132055",
   "metadata": {},
   "outputs": [],
   "source": [
    "n= int(input()) \n",
    "print(n_fact)"
   ]
  },
  {
   "cell_type": "code",
   "execution_count": 26,
   "id": "ca372b34",
   "metadata": {},
   "outputs": [
    {
     "name": "stdout",
     "output_type": "stream",
     "text": [
      "4\n",
      "2\n",
      "6\n"
     ]
    }
   ],
   "source": [
    "n= int(input()) \n",
    "r= int(input()) \n",
    "\n",
    "n_fact = fact(n)\n",
    "r_fact = fact(r)\n",
    "n_r_fact=fact(n-r)\n",
    "ans=n_fact//(r_fact*n_r_fact)\n",
    "print(ans)"
   ]
  },
  {
   "cell_type": "code",
   "execution_count": 45,
   "id": "2a2d5175",
   "metadata": {},
   "outputs": [
    {
     "name": "stdout",
     "output_type": "stream",
     "text": [
      "4\n",
      "2\n",
      "6\n"
     ]
    }
   ],
   "source": [
    "def ncr(n,r):\n",
    "    n_fact = fact(n)\n",
    "    r_fact = fact(r)\n",
    "    n_r_fact=fact(n-r)\n",
    "    ans=n_fact//(r_fact*n_r_fact)\n",
    "    return ans"
   ]
  },
  {
   "cell_type": "code",
   "execution_count": 46,
   "id": "506fdba5",
   "metadata": {},
   "outputs": [
    {
     "name": "stdout",
     "output_type": "stream",
     "text": [
      "4\n",
      "2\n",
      "6\n"
     ]
    }
   ],
   "source": [
    "n= int(input()) \n",
    "r= int(input()) \n",
    "print(ncr(n,r))"
   ]
  },
  {
   "cell_type": "markdown",
   "id": "6746323b",
   "metadata": {},
   "source": [
    "### isPrime  "
   ]
  },
  {
   "cell_type": "code",
   "execution_count": 30,
   "id": "ab8bbe09",
   "metadata": {},
   "outputs": [
    {
     "name": "stdout",
     "output_type": "stream",
     "text": [
      "5\n",
      "True\n"
     ]
    }
   ],
   "source": [
    "def isPrime(n):\n",
    "    for d in range(2, n):\n",
    "        if n%d==0:\n",
    "            break\n",
    "    else:\n",
    "        return True\n",
    "    \n",
    "    return False        "
   ]
  },
  {
   "cell_type": "code",
   "execution_count": 35,
   "id": "1425fa17",
   "metadata": {},
   "outputs": [],
   "source": [
    "def primeFrom2ToN(n):\n",
    "    for k in range(2, n+1):\n",
    "        #check if prime \n",
    "        is_k_prime = isPrime(k)\n",
    "        if is_k_prime:\n",
    "            print(k)"
   ]
  },
  {
   "cell_type": "code",
   "execution_count": 40,
   "id": "ef9207a9",
   "metadata": {},
   "outputs": [
    {
     "name": "stdout",
     "output_type": "stream",
     "text": [
      "56\n",
      "2\n",
      "3\n",
      "5\n",
      "7\n",
      "11\n",
      "13\n",
      "17\n",
      "19\n",
      "23\n",
      "29\n",
      "31\n",
      "37\n",
      "41\n",
      "43\n",
      "47\n",
      "53\n",
      "None\n"
     ]
    }
   ],
   "source": [
    "n=int(input())\n",
    "# print(isPrime(n))\n",
    "print(primeFrom2ToN(n))"
   ]
  },
  {
   "cell_type": "markdown",
   "id": "ec3180de",
   "metadata": {},
   "source": [
    "### How does function calling works\n"
   ]
  },
  {
   "cell_type": "code",
   "execution_count": 54,
   "id": "57931639",
   "metadata": {},
   "outputs": [
    {
     "name": "stdout",
     "output_type": "stream",
     "text": [
      "67\n",
      "2\n",
      "3\n",
      "5\n",
      "7\n",
      "11\n",
      "13\n",
      "17\n",
      "19\n",
      "23\n",
      "29\n",
      "31\n",
      "37\n",
      "41\n",
      "43\n",
      "47\n",
      "53\n",
      "59\n",
      "61\n",
      "67\n"
     ]
    }
   ],
   "source": [
    "def primeFrom2ToN(n):\n",
    "    for k in range(2, n+1):\n",
    "        #check if prime \n",
    "        is_k_prime = isPrime(k)\n",
    "        if is_k_prime:\n",
    "            print(k)\n",
    "\n",
    "def isPrime(n):\n",
    "    for d in range(2, n):\n",
    "        if n%d==0:\n",
    "            break\n",
    "    else:\n",
    "        return True    \n",
    "    return False \n",
    "\n",
    "n=int(input())\n",
    "primeFrom2ToN(n)"
   ]
  },
  {
   "cell_type": "markdown",
   "id": "5f3f57a1",
   "metadata": {},
   "source": [
    "### Scope of Variables\n"
   ]
  },
  {
   "cell_type": "code",
   "execution_count": 53,
   "id": "9b8b2250",
   "metadata": {},
   "outputs": [
    {
     "name": "stdout",
     "output_type": "stream",
     "text": [
      "10\n",
      "12\n"
     ]
    }
   ],
   "source": [
    "a1 = 10 #global\n",
    "\n",
    "def f1():\n",
    "    b1 = 12 #local variable\n",
    "    print(b1)\n",
    "\n",
    "print(a1)\n",
    "f1()"
   ]
  },
  {
   "cell_type": "code",
   "execution_count": 55,
   "id": "653415b2",
   "metadata": {},
   "outputs": [
    {
     "name": "stdout",
     "output_type": "stream",
     "text": [
      "10\n",
      "12\n",
      "10\n"
     ]
    }
   ],
   "source": [
    "a1 = 10 #global\n",
    "\n",
    "def f2():\n",
    "    b1 = 12 #local variable\n",
    "    print(b1)\n",
    "    print(a1)\n",
    "\n",
    "print(a1)\n",
    "f2()"
   ]
  },
  {
   "cell_type": "code",
   "execution_count": null,
   "id": "546224b7",
   "metadata": {},
   "outputs": [],
   "source": [
    "#you can access any global varible defined before the variable\n",
    "def f3():\n",
    "    b1 = 12 #local variable\n",
    "    print(b1)\n",
    "    print(a1)\n",
    "\n",
    "a1 = 10 #global\n",
    "print(a1)\n",
    "f3()"
   ]
  },
  {
   "cell_type": "code",
   "execution_count": 57,
   "id": "a61d2b84",
   "metadata": {
    "scrolled": true
   },
   "outputs": [
    {
     "name": "stdout",
     "output_type": "stream",
     "text": [
      "10\n",
      "12\n",
      "10\n"
     ]
    },
    {
     "ename": "NameError",
     "evalue": "name 'c1' is not defined",
     "output_type": "error",
     "traceback": [
      "\u001b[1;31m---------------------------------------------------------------------------\u001b[0m",
      "\u001b[1;31mNameError\u001b[0m                                 Traceback (most recent call last)",
      "Input \u001b[1;32mIn [57]\u001b[0m, in \u001b[0;36m<module>\u001b[1;34m\u001b[0m\n\u001b[0;32m      7\u001b[0m a1 \u001b[38;5;241m=\u001b[39m \u001b[38;5;241m10\u001b[39m \u001b[38;5;66;03m#global\u001b[39;00m\n\u001b[0;32m      8\u001b[0m \u001b[38;5;28mprint\u001b[39m(a1)\n\u001b[1;32m----> 9\u001b[0m \u001b[43mf4\u001b[49m\u001b[43m(\u001b[49m\u001b[43m)\u001b[49m\n\u001b[0;32m     10\u001b[0m c3\u001b[38;5;241m=\u001b[39m\u001b[38;5;241m30\u001b[39m\n",
      "Input \u001b[1;32mIn [57]\u001b[0m, in \u001b[0;36mf4\u001b[1;34m()\u001b[0m\n\u001b[0;32m      3\u001b[0m \u001b[38;5;28mprint\u001b[39m(b1)\n\u001b[0;32m      4\u001b[0m \u001b[38;5;28mprint\u001b[39m(a1)\n\u001b[1;32m----> 5\u001b[0m \u001b[38;5;28mprint\u001b[39m(\u001b[43mc1\u001b[49m)\n",
      "\u001b[1;31mNameError\u001b[0m: name 'c1' is not defined"
     ]
    }
   ],
   "source": [
    "def f4():\n",
    "    b1 = 12 #local variable\n",
    "    print(b1)\n",
    "    print(a1)\n",
    "    print(c1)\n",
    "\n",
    "a1 = 10 #global\n",
    "print(a1)\n",
    "f4()\n",
    "c3=30"
   ]
  },
  {
   "cell_type": "code",
   "execution_count": 63,
   "id": "a7e60101",
   "metadata": {},
   "outputs": [
    {
     "name": "stdout",
     "output_type": "stream",
     "text": [
      "30\n",
      "80\n",
      "2326005484240\n",
      "30\n",
      "2326005482640\n"
     ]
    }
   ],
   "source": [
    "c3=30\n",
    "def a4():\n",
    "    b1 = 12 #local variable\n",
    "    c3=80\n",
    "    print(c3)\n",
    "    print(id(c3))\n",
    "\n",
    "a1 = 10\n",
    "print(c3)\n",
    "a4()\n",
    "print(c3)\n",
    "print(id(c3))\n",
    "# both id is different so both are different variable\n"
   ]
  },
  {
   "cell_type": "code",
   "execution_count": 77,
   "id": "2d5e3ce1",
   "metadata": {},
   "outputs": [
    {
     "data": {
      "text/plain": [
       "12"
      ]
     },
     "execution_count": 77,
     "metadata": {},
     "output_type": "execute_result"
    }
   ],
   "source": [
    "# a = 14\n",
    "def f():\n",
    "    a=12\n",
    "    return a\n",
    "f()\n",
    "# print(a)\n",
    "\n",
    "\n",
    "\n"
   ]
  },
  {
   "cell_type": "markdown",
   "id": "c6a406db",
   "metadata": {},
   "source": [
    "### in side  function declear glover variable"
   ]
  },
  {
   "cell_type": "code",
   "execution_count": null,
   "id": "b63ad74e",
   "metadata": {},
   "outputs": [],
   "source": []
  },
  {
   "cell_type": "code",
   "execution_count": 80,
   "id": "b110e1b7",
   "metadata": {},
   "outputs": [
    {
     "name": "stdout",
     "output_type": "stream",
     "text": [
      "12\n"
     ]
    }
   ],
   "source": [
    "a=14\n",
    "def f():\n",
    "    global a\n",
    "    a=12\n",
    "f()\n",
    "print(a)"
   ]
  },
  {
   "cell_type": "markdown",
   "id": "cce35d12",
   "metadata": {},
   "source": [
    "###  Default parameters in functions"
   ]
  },
  {
   "cell_type": "code",
   "execution_count": 82,
   "id": "a13a829e",
   "metadata": {},
   "outputs": [
    {
     "ename": "TypeError",
     "evalue": "f() takes 1 positional argument but 2 were given",
     "output_type": "error",
     "traceback": [
      "\u001b[1;31m---------------------------------------------------------------------------\u001b[0m",
      "\u001b[1;31mTypeError\u001b[0m                                 Traceback (most recent call last)",
      "Input \u001b[1;32mIn [82]\u001b[0m, in \u001b[0;36m<module>\u001b[1;34m\u001b[0m\n\u001b[0;32m      1\u001b[0m \u001b[38;5;28;01mdef\u001b[39;00m \u001b[38;5;21mf\u001b[39m(n):\n\u001b[0;32m      2\u001b[0m     \u001b[38;5;28mprint\u001b[39m(n)\n\u001b[1;32m----> 4\u001b[0m \u001b[43mf\u001b[49m\u001b[43m(\u001b[49m\u001b[38;5;241;43m2\u001b[39;49m\u001b[43m,\u001b[49m\u001b[38;5;241;43m2\u001b[39;49m\u001b[43m)\u001b[49m\n",
      "\u001b[1;31mTypeError\u001b[0m: f() takes 1 positional argument but 2 were given"
     ]
    }
   ],
   "source": [
    "def f(n):\n",
    "    print(n)\n",
    "\n",
    "f(2,2)"
   ]
  },
  {
   "cell_type": "code",
   "execution_count": 88,
   "id": "51986d04",
   "metadata": {},
   "outputs": [
    {
     "name": "stdout",
     "output_type": "stream",
     "text": [
      "50\n",
      "20\n"
     ]
    }
   ],
   "source": [
    "def _sum(a,b, c=0):\n",
    "    return a+b+c\n",
    "\n",
    "print( sum(10,10,30))\n",
    "print( sum(10,10))"
   ]
  },
  {
   "cell_type": "code",
   "execution_count": 89,
   "id": "e1e88d19",
   "metadata": {},
   "outputs": [
    {
     "ename": "SyntaxError",
     "evalue": "non-default argument follows default argument (835739907.py, line 1)",
     "output_type": "error",
     "traceback": [
      "\u001b[1;36m  Input \u001b[1;32mIn [89]\u001b[1;36m\u001b[0m\n\u001b[1;33m    def sum(a=0,b, c):\u001b[0m\n\u001b[1;37m                ^\u001b[0m\n\u001b[1;31mSyntaxError\u001b[0m\u001b[1;31m:\u001b[0m non-default argument follows default argument\n"
     ]
    }
   ],
   "source": [
    "#all non default argument should be before argument with default\n",
    "def sum1(a=0,b, c):\n",
    "    return a+b+c\n",
    "\n",
    "print( sum1(10,10))"
   ]
  },
  {
   "cell_type": "code",
   "execution_count": 92,
   "id": "3c3ed89f",
   "metadata": {},
   "outputs": [
    {
     "name": "stdout",
     "output_type": "stream",
     "text": [
      "90\n",
      "50\n",
      "20\n"
     ]
    }
   ],
   "source": [
    "def sum2(a,b, c=0, d=0):\n",
    "    return a+b+c+d\n",
    "\n",
    "print( sum2(10,10,30,40))\n",
    "print( sum2(10,10,30))\n",
    "print( sum2(10,10))"
   ]
  },
  {
   "cell_type": "code",
   "execution_count": 93,
   "id": "b2be1b2b",
   "metadata": {},
   "outputs": [
    {
     "name": "stdout",
     "output_type": "stream",
     "text": [
      "11\n"
     ]
    }
   ],
   "source": [
    "def function(a,b,c=1,d=5):\n",
    "    return a+b+c+d\n",
    "value = function(1,2,d=7)\n",
    "print(value)"
   ]
  },
  {
   "cell_type": "code",
   "execution_count": 135,
   "id": "e22862f0",
   "metadata": {},
   "outputs": [
    {
     "name": "stdout",
     "output_type": "stream",
     "text": [
      "5 -18\n",
      "5 -7\n",
      "5 4\n",
      "5 15\n",
      "5 26\n",
      "5 37\n"
     ]
    }
   ],
   "source": [
    "def printTable(start,end,step):\n",
    "    for f in range(start,end+1,step):\n",
    "        c=(f-32)*5//9\n",
    "#         c=(f, ((( f - 32 ) * 5)//9))\n",
    "        print(i, int(c))\n",
    "\n",
    "# s=120 \n",
    "# e=200 \n",
    "# step=40\n",
    "s = 0\n",
    "e = 100\n",
    "step = 20\n",
    "printTable(s,e,step)"
   ]
  },
  {
   "cell_type": "code",
   "execution_count": 133,
   "id": "4b54cb32",
   "metadata": {},
   "outputs": [
    {
     "name": "stdout",
     "output_type": "stream",
     "text": [
      "0 -18\n",
      "20 -7\n",
      "40 4\n",
      "60 15\n",
      "80 26\n",
      "100 37\n"
     ]
    }
   ],
   "source": [
    "def printTable(start,end,step):\n",
    "    for i in range(start,end+1,step):\n",
    "        c=(i-32)*5//9\n",
    "        print(i, c)\n",
    "        \t   \n",
    "s = 0\n",
    "e = 100\n",
    "step = 20\n",
    "printTable(s,e,step)"
   ]
  },
  {
   "cell_type": "markdown",
   "id": "1ec3bc50",
   "metadata": {},
   "source": [
    "###  check fibonacci numbers "
   ]
  },
  {
   "cell_type": "code",
   "execution_count": 155,
   "id": "305da8bd",
   "metadata": {},
   "outputs": [
    {
     "name": "stdout",
     "output_type": "stream",
     "text": [
      "7\n",
      "false\n"
     ]
    }
   ],
   "source": [
    "def checkMember(n):\n",
    "    c=0\n",
    "    a=1\n",
    "    b=1\n",
    "    if n==0 or n==1:\n",
    "        print(\"Yes\")\n",
    "    else:\n",
    "        while c<n:\n",
    "            c=a+b\n",
    "            b=a\n",
    "            a=c\n",
    "        if c==n:\n",
    "            return True\n",
    "        \n",
    "n=int(input())\n",
    "if(checkMember(n)):\n",
    "    print(\"true\")\n",
    "else:\n",
    "    print(\"false\")"
   ]
  },
  {
   "cell_type": "code",
   "execution_count": null,
   "id": "248ae720",
   "metadata": {},
   "outputs": [],
   "source": [
    "n=int(input(\"Enter the number: \"))\n",
    "c=0\n",
    "a=1\n",
    "b=1\n",
    "if n==0 or n==1:\n",
    "    print(\"Yes\")\n",
    "else:\n",
    "    while c<n:\n",
    "        c=a+b\n",
    "        b=a\n",
    "        a=c\n",
    "    if c==n:\n",
    "        print(\"Yes\")\n",
    "    else:\n",
    "        print(\"No\")"
   ]
  },
  {
   "cell_type": "markdown",
   "id": "0e6bc90d",
   "metadata": {},
   "source": [
    "###  Palindrome number"
   ]
  },
  {
   "cell_type": "code",
   "execution_count": null,
   "id": "2ce780bb",
   "metadata": {},
   "outputs": [],
   "source": [
    "def checkPalindrome(num):\n",
    "    temp = num\n",
    "    rev = 0\n",
    "    dig = 0\n",
    "    while(num>0):\n",
    "        dig=num%10\n",
    "        rev=rev*10+dig\n",
    "        num=num//10    \n",
    "    if(rev==temp):\n",
    "        return True\n",
    "    else:\n",
    "        return False\n",
    "\n",
    "num = int(input())\n",
    "isPalindrome = checkPalindrome(num)\n",
    "if(isPalindrome):\n",
    "    print('true')\n",
    "else:\n",
    "    print('false')"
   ]
  },
  {
   "cell_type": "markdown",
   "id": "ee4d5514",
   "metadata": {},
   "source": [
    "###  Check Armstrong"
   ]
  },
  {
   "cell_type": "code",
   "execution_count": 159,
   "id": "239ce61a",
   "metadata": {},
   "outputs": [
    {
     "name": "stdout",
     "output_type": "stream",
     "text": [
      "True\n",
      "False\n"
     ]
    }
   ],
   "source": [
    "# Python program to determine whether\n",
    "# the number is Armstrong number or not\n",
    "\n",
    "# Function to calculate x raised to\n",
    "# the power y\n",
    "def power(x, y):\n",
    "\t\n",
    "\tif y == 0:\n",
    "\t\treturn 1\n",
    "\tif y % 2 == 0:\n",
    "\t\treturn power(x, y // 2) * power(x, y // 2)\n",
    "\t\t\n",
    "\treturn x * power(x, y // 2) * power(x, y // 2)\n",
    "\n",
    "# Function to calculate order of the number\n",
    "def order(x):\n",
    "\n",
    "\t# Variable to store of the number\n",
    "\tn = 0\n",
    "\twhile (x != 0):\n",
    "\t\tn = n + 1\n",
    "\t\tx = x // 10\n",
    "\t\t\n",
    "\treturn n\n",
    "\n",
    "# Function to check whether the given\n",
    "# number is Armstrong number or not\n",
    "def isArmstrong(x):\n",
    "\t\n",
    "\tn = order(x)\n",
    "\ttemp = x\n",
    "\tsum1 = 0\n",
    "\t\n",
    "\twhile (temp != 0):\n",
    "\t\tr = temp % 10\n",
    "\t\tsum1 = sum1 + power(r, n)\n",
    "\t\ttemp = temp // 10\n",
    "\n",
    "\t# If condition satisfies\n",
    "\treturn (sum1 == x)\n",
    "\n",
    "x = 1253\n",
    "print(isArmstrong(x))\n"
   ]
  }
 ],
 "metadata": {
  "kernelspec": {
   "display_name": "Python 3 (ipykernel)",
   "language": "python",
   "name": "python3"
  },
  "language_info": {
   "codemirror_mode": {
    "name": "ipython",
    "version": 3
   },
   "file_extension": ".py",
   "mimetype": "text/x-python",
   "name": "python",
   "nbconvert_exporter": "python",
   "pygments_lexer": "ipython3",
   "version": "3.10.2"
  }
 },
 "nbformat": 4,
 "nbformat_minor": 5
}
