{
 "cells": [
  {
   "cell_type": "code",
   "execution_count": null,
   "id": "b9948646",
   "metadata": {},
   "outputs": [],
   "source": []
  },
  {
   "cell_type": "markdown",
   "id": "2df8d829",
   "metadata": {},
   "source": [
    "###  Print N Even  Number"
   ]
  },
  {
   "cell_type": "markdown",
   "id": "c831409e",
   "metadata": {},
   "source": [
    "n = 20\n",
    "count = 1\n",
    "add = 0\n",
    "while count <=n:\n",
    "    if count % 2 == 0:\n",
    "        add = add + count\n",
    "    count = count + 1  \n",
    "print(add)\n",
    "    "
   ]
  },
  {
   "cell_type": "markdown",
   "id": "77adab00",
   "metadata": {},
   "source": [
    "### Check Prime Number"
   ]
  },
  {
   "cell_type": "code",
   "execution_count": 1,
   "id": "4fcc4495",
   "metadata": {},
   "outputs": [
    {
     "name": "stdout",
     "output_type": "stream",
     "text": [
      "678\n",
      "Not prime\n"
     ]
    }
   ],
   "source": [
    "n = int(input())\n",
    "d = 2\n",
    "flag = False\n",
    "while d <n:\n",
    "    if n % d == 0:\n",
    "        flag = True   \n",
    "    d = d + 1 \n",
    "if flag:\n",
    "    print(\"Not prime\")\n",
    "else:        \n",
    "    print(\"Prime\")\n",
    "    \n",
    "        \n",
    "        \n",
    "    "
   ]
  },
  {
   "cell_type": "markdown",
   "id": "4bb9f772",
   "metadata": {},
   "source": [
    "### Print N Prime Number"
   ]
  },
  {
   "cell_type": "code",
   "execution_count": 2,
   "id": "cb47f019",
   "metadata": {},
   "outputs": [
    {
     "name": "stdout",
     "output_type": "stream",
     "text": [
      "66\n",
      "2\n",
      "3\n",
      "5\n",
      "7\n",
      "11\n",
      "13\n",
      "17\n",
      "19\n",
      "23\n",
      "29\n",
      "31\n",
      "37\n",
      "41\n",
      "43\n",
      "47\n",
      "53\n",
      "59\n",
      "61\n"
     ]
    }
   ],
   "source": [
    "n = int(input())\n",
    "k = 2\n",
    "while k <= n:\n",
    "    d=2\n",
    "    flag = False\n",
    "    while d < k:\n",
    "        if k % d == 0:\n",
    "            flag = True   \n",
    "        d = d + 1 \n",
    "    if not(flag):\n",
    "        print(k)\n",
    "    k = k + 1 \n",
    "    \n",
    "        \n",
    "        \n",
    "    "
   ]
  },
  {
   "cell_type": "code",
   "execution_count": 5,
   "id": "b1af63ba",
   "metadata": {},
   "outputs": [
    {
     "name": "stdout",
     "output_type": "stream",
     "text": [
      "['w', 'o', 'r', 'd']\n"
     ]
    }
   ],
   "source": [
    "word = \"word\"\n",
    "n = list(word)\n",
    "print(n)"
   ]
  },
  {
   "cell_type": "code",
   "execution_count": 6,
   "id": "c5c734e5",
   "metadata": {},
   "outputs": [
    {
     "data": {
      "text/plain": [
       "[1, 2, 3, 4, 5]"
      ]
     },
     "execution_count": 6,
     "metadata": {},
     "output_type": "execute_result"
    }
   ],
   "source": [
    "[int(i) for i in str(12345)]\n",
    "\n",
    "[1, 2, 3, 4, 5]"
   ]
  },
  {
   "cell_type": "markdown",
   "id": "512fe37b",
   "metadata": {},
   "source": [
    "### Calculator"
   ]
  },
  {
   "cell_type": "code",
   "execution_count": null,
   "id": "c126195a",
   "metadata": {},
   "outputs": [
    {
     "name": "stderr",
     "output_type": "stream",
     "text": [
      "\n",
      "KeyboardInterrupt\n",
      "\n"
     ]
    }
   ],
   "source": [
    "while True:\n",
    "    n = int(input())\n",
    "    while n:\n",
    "        if n==1:\n",
    "            a=int(input())\n",
    "            b=int(input())\n",
    "            print(a+b)\n",
    "            break            \n",
    "        elif n==2:\n",
    "            a=int(input())\n",
    "            b=int(input())\n",
    "            print(a-b)\n",
    "            break            \n",
    "        elif n==3:\n",
    "            a=int(input())\n",
    "            b=int(input())\n",
    "            print(a*b)\n",
    "            break        \n",
    "        elif n==4:\n",
    "            a=int(input())\n",
    "            b=int(input())\n",
    "            print(a//b)\n",
    "            break        \n",
    "        elif n==5:\n",
    "            a=int(input())\n",
    "            b=int(input())\n",
    "            print(a%b)\n",
    "            break        \n",
    "        elif n==6:\n",
    "            exit()\n",
    "        else:\n",
    "            print(\"Invalid Operation\")\n",
    "            break;\n",
    "exit()\n",
    "  \n",
    "\n",
    "    \n",
    "            \n",
    "    "
   ]
  },
  {
   "cell_type": "markdown",
   "id": "45a91183",
   "metadata": {},
   "source": [
    "### Reverse of a number"
   ]
  },
  {
   "cell_type": "code",
   "execution_count": 16,
   "id": "6818d4f4",
   "metadata": {},
   "outputs": [
    {
     "name": "stdout",
     "output_type": "stream",
     "text": [
      "123456\n",
      "654321\n"
     ]
    }
   ],
   "source": [
    "n = int(input())\n",
    "rev = 0\n",
    "while(n>0):\n",
    "    rem = n % 10\n",
    "    rev = rev*10+rem\n",
    "    n = n//10\n",
    "print(rev)       \n"
   ]
  },
  {
   "cell_type": "code",
   "execution_count": 21,
   "id": "8b0ec093",
   "metadata": {},
   "outputs": [
    {
     "name": "stdout",
     "output_type": "stream",
     "text": [
      "234567\n",
      "765432\n"
     ]
    }
   ],
   "source": [
    "num = int(input())\n",
    "print(str(num)[::-1])"
   ]
  },
  {
   "cell_type": "markdown",
   "id": "18e663d9",
   "metadata": {},
   "source": [
    "### Sum of even & odd"
   ]
  },
  {
   "cell_type": "code",
   "execution_count": null,
   "id": "6b8d2597",
   "metadata": {},
   "outputs": [],
   "source": [
    "n = int(input())\n",
    "even = 0\n",
    "odd = 0\n",
    "while(n>0):\n",
    "    rem = n % 10\n",
    "    if (rem%2==0):\n",
    "        even = even + rem\n",
    "    else:\n",
    "        odd = odd + rem\n",
    "    n=n//10\n",
    "print(even,\" \" odd)\n"
   ]
  },
  {
   "cell_type": "markdown",
   "id": "edc5ef81",
   "metadata": {},
   "source": [
    "### Nth Fibonacci Number"
   ]
  },
  {
   "cell_type": "code",
   "execution_count": 2,
   "id": "781ec17f",
   "metadata": {},
   "outputs": [
    {
     "name": "stdout",
     "output_type": "stream",
     "text": [
      "4181\n"
     ]
    }
   ],
   "source": [
    "# n = int(input())\n",
    "# count = 1\n",
    "# add = 0\n",
    "# while count <=n:\n",
    "#     print(count)\n",
    "#     count = count + 1  \n",
    "\n",
    "\n",
    "def Fibonacci(n):\n",
    "    if n<= 0:\n",
    "        print(\"Incorrect input\")\n",
    "    elif n == 1:\n",
    "        return 0\n",
    "    elif n == 2:\n",
    "        return 1\n",
    "    else:\n",
    "        return Fibonacci(n-1)+Fibonacci(n-2)\n",
    "print(Fibonacci(20))\n"
   ]
  },
  {
   "cell_type": "code",
   "execution_count": 3,
   "id": "50d955ae",
   "metadata": {},
   "outputs": [
    {
     "name": "stdout",
     "output_type": "stream",
     "text": [
      "Enter your choice:n2\n",
      "Enter two numbers: \n",
      "4456\n",
      "5678\n",
      "Result =  -1222\n"
     ]
    }
   ],
   "source": [
    "choice = int(input(\"Enter your choice:n\")) \n",
    "if choice == 1:\n",
    "    print(\"Enter two numbers: \")\n",
    "    num1 = int(input())\n",
    "    num2 = int(input())\n",
    "    res = num1 + num2\n",
    "    print(\"Result = \", res)\n",
    "\n",
    "elif choice == 2:\n",
    "    print(\"Enter two numbers: \")\n",
    "    num1 = int(input())\n",
    "    num2 = int(input())\n",
    "    res = num1 - num2\n",
    "    print(\"Result = \", res)\n",
    "\n",
    "elif choice == 3:\n",
    "    print(\"Enter two numbers: \")\n",
    "    num1 = int(input())\n",
    "    num2 = int(input())\n",
    "    res = num1 * num2\n",
    "    print(\"Result = \", res)\n",
    "\n",
    "elif choice == 4:\n",
    "    print(\"Enter two numbers: \")\n",
    "    num1 = int(input())\n",
    "    num2 = int(input())\n",
    "    res = num1 / num2\n",
    "    print(\"Result = \", res)\n",
    "    \n",
    "elif choice == 5:\n",
    "    print(\"Enter two numbers: \")\n",
    "    num1 = int(input())\n",
    "    num2 = int(input())\n",
    "    res = num1 % num2\n",
    "    print(\"Result = \", res)\n",
    "\n",
    "elif choice == 6:\n",
    "    exit()\n",
    "else:\n",
    "  print(\"Invalid Operation\")"
   ]
  },
  {
   "cell_type": "markdown",
   "id": "66b62479",
   "metadata": {},
   "source": [
    "### Fahrenheit to Celsius"
   ]
  },
  {
   "cell_type": "code",
   "execution_count": 20,
   "id": "19ad38b4",
   "metadata": {},
   "outputs": [
    {
     "name": "stdout",
     "output_type": "stream",
     "text": [
      "0\n",
      "100\n",
      "20\n",
      "0 -19\n",
      "20 -8\n",
      "40 3\n",
      "60 14\n",
      "80 25\n",
      "100 36\n"
     ]
    }
   ],
   "source": [
    "S = int(input())\n",
    "E = int(input())\n",
    "W = int(input())\n",
    "\n",
    "while S<=E:\n",
    "    print(S, ((( S - 32 ) * 5)//9)-1)\n",
    "    S = S + W\n",
    "    "
   ]
  },
  {
   "cell_type": "markdown",
   "id": "204450a4",
   "metadata": {},
   "source": [
    "### Palindrome number"
   ]
  },
  {
   "cell_type": "code",
   "execution_count": 23,
   "id": "956d20c9",
   "metadata": {},
   "outputs": [
    {
     "name": "stdout",
     "output_type": "stream",
     "text": [
      "21212\n",
      "true\n"
     ]
    }
   ],
   "source": [
    "def checkPalindrome(num):\n",
    "    temp = num\n",
    "    rev = 0\n",
    "    dig = 0\n",
    "    while(num>0):\n",
    "        dig=num%10\n",
    "        rev=rev*10+dig\n",
    "        num=num//10    \n",
    "    if(rev==temp):\n",
    "        return True\n",
    "    else:\n",
    "        return False\n",
    "\n",
    "num = int(input())\n",
    "isPalindrome = checkPalindrome(num)\n",
    "if(isPalindrome):\n",
    "    print('true')\n",
    "else:\n",
    "    print('false')\n"
   ]
  },
  {
   "cell_type": "code",
   "execution_count": 39,
   "id": "b967facc",
   "metadata": {},
   "outputs": [
    {
     "name": "stdout",
     "output_type": "stream",
     "text": [
      "20\n",
      "4181\n"
     ]
    }
   ],
   "source": [
    "def fibonacci(n):\n",
    "    a = 0\n",
    "    b = 1\n",
    "    if n < 0:\n",
    "        print(\"Incorrect input\")\n",
    "    elif n == 0:\n",
    "        return a\n",
    "    elif n == 1:\n",
    "        return b\n",
    "    else:\n",
    "        for i in range(2, n):\n",
    "            c = a + b\n",
    "            a = b\n",
    "            b = c\n",
    "        return b\n",
    "        return a\n",
    "    \n",
    "n = int(input())\n",
    "print(fibonacci(n))\n"
   ]
  },
  {
   "cell_type": "code",
   "execution_count": 9,
   "id": "f69a120e",
   "metadata": {},
   "outputs": [
    {
     "ename": "IndentationError",
     "evalue": "unexpected indent (2648309333.py, line 2)",
     "output_type": "error",
     "traceback": [
      "\u001b[1;36m  Input \u001b[1;32mIn [9]\u001b[1;36m\u001b[0m\n\u001b[1;33m    rev=0\u001b[0m\n\u001b[1;37m    ^\u001b[0m\n\u001b[1;31mIndentationError\u001b[0m\u001b[1;31m:\u001b[0m unexpected indent\n"
     ]
    }
   ],
   "source": [
    "# def checkPalindrome(num):\n",
    "    rev=0\n",
    "    while num>0:\n",
    "        rem = num%10\n",
    "        rev = rev*10+rem\n",
    "        num= num//10\n",
    "    return rev;\n",
    "\t\t\n",
    "num = int(input())\n",
    "isPalindrome = checkPalindrome(num)\n",
    "if(isPalindrome):\n",
    "\tprint('true')\n",
    "else:\n",
    "\tprint('false')\n"
   ]
  }
 ],
 "metadata": {
  "kernelspec": {
   "display_name": "Python 3 (ipykernel)",
   "language": "python",
   "name": "python3"
  },
  "language_info": {
   "codemirror_mode": {
    "name": "ipython",
    "version": 3
   },
   "file_extension": ".py",
   "mimetype": "text/x-python",
   "name": "python",
   "nbconvert_exporter": "python",
   "pygments_lexer": "ipython3",
   "version": "3.10.2"
  }
 },
 "nbformat": 4,
 "nbformat_minor": 5
}
