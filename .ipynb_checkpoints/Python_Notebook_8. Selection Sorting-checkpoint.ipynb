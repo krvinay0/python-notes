{
 "cells": [
  {
   "cell_type": "markdown",
   "id": "9da0c5b8",
   "metadata": {},
   "source": [
    "# Selection Short"
   ]
  },
  {
   "cell_type": "code",
   "execution_count": 8,
   "id": "9bb33e59",
   "metadata": {},
   "outputs": [
    {
     "data": {
      "text/plain": [
       "[3, 4, 5, 9, 13]"
      ]
     },
     "execution_count": 8,
     "metadata": {},
     "output_type": "execute_result"
    }
   ],
   "source": [
    "def selection_sort(a):\n",
    "    for i in range(len(a)):\n",
    "        min = i\n",
    "        for j in range(i+1, len(a)):\n",
    "            if (a[j] < a[min]):\n",
    "                min = j\n",
    "        a[i], a[min] = a[min], a[i]\n",
    "    return a\n",
    "\n",
    "                \n",
    "                \n",
    "arr = [13, 4,9,5,3] \n",
    "selection_sort(arr)  \n",
    "\n",
    "#     print(i, arr[i ])\n",
    "\n",
    "    \n",
    "    \n",
    "# answer [3,4,5,9,13]"
   ]
  },
  {
   "cell_type": "code",
   "execution_count": 11,
   "id": "9122c4e0",
   "metadata": {},
   "outputs": [
    {
     "data": {
      "text/plain": [
       "[1, 2, 3, 4, 6, 13, 28]"
      ]
     },
     "execution_count": 11,
     "metadata": {},
     "output_type": "execute_result"
    }
   ],
   "source": [
    "def selectionSort(arr):\n",
    "    \n",
    "    for i in range(len(arr)):\n",
    "        min = i\n",
    "        for j in range(i+1, len(arr)):\n",
    "            if (arr[j] < arr[min]):\n",
    "                min = j\n",
    "        arr[i], arr[min] = arr[min], arr[i]\n",
    "    \n",
    "    return arr\n",
    "\n",
    "\n",
    "\n",
    "\n",
    "arr = [2, 13, 4, 1, 3, 6, 28]\n",
    "selectionSort(arr)"
   ]
  },
  {
   "cell_type": "markdown",
   "id": "053d6a40",
   "metadata": {},
   "source": [
    "# Bubble Short"
   ]
  },
  {
   "cell_type": "code",
   "execution_count": 14,
   "id": "92665e05",
   "metadata": {},
   "outputs": [
    {
     "name": "stdout",
     "output_type": "stream",
     "text": [
      "this is pass - 1\n",
      "this is pass - 8  and  5\n",
      "this is pass - 8  and  3\n",
      "this is pass - 8  and  1\n",
      "this is pass - 2\n",
      "this is pass - 5  and  3\n",
      "this is pass - 5  and  1\n",
      "this is pass - 3\n",
      "this is pass - 3  and  1\n",
      "this is pass - 4\n"
     ]
    },
    {
     "data": {
      "text/plain": [
       "[1, 3, 5, 8]"
      ]
     },
     "execution_count": 14,
     "metadata": {},
     "output_type": "execute_result"
    }
   ],
   "source": [
    "def buble_short(arr, n):\n",
    "    for i in range(n):\n",
    "        print(\"this is pass -\", i+1)\n",
    "        for j in range(n-1):\n",
    "            if arr[j] > arr[j+1]:\n",
    "                print(\"this is pass -\", arr[j] , \" and \", arr[j+1])\n",
    "                arr[j] , arr[j+1] =  arr[j+1] , arr[j]\n",
    "    return arr\n",
    "\n",
    "\n",
    "arr = [8,5,3,1]\n",
    "n = (len(arr))\n",
    "buble_short(arr, n)"
   ]
  },
  {
   "cell_type": "markdown",
   "id": "53a78690",
   "metadata": {},
   "source": [
    "# Optimising Bubble Short"
   ]
  },
  {
   "cell_type": "code",
   "execution_count": 3,
   "id": "22b1b20a",
   "metadata": {},
   "outputs": [
    {
     "data": {
      "text/plain": [
       "[1, 3, 5, 8]"
      ]
     },
     "execution_count": 3,
     "metadata": {},
     "output_type": "execute_result"
    }
   ],
   "source": [
    "def optimisingBubbleShort(arr, n):\n",
    "    for i in range(n-1):       #(n-1)\n",
    "        for j in range(n-1-i): # (n-1-i)\n",
    "            if arr[j] > arr[j + 1]:\n",
    "                arr[j], arr[j + 1] = arr[j+1], arr[j]\n",
    "    return arr\n",
    "        \n",
    "arr = [8,5,3,1]\n",
    "n = (len(arr))\n",
    "optimisingBubbleShort(arr, n)        "
   ]
  },
  {
   "cell_type": "code",
   "execution_count": 22,
   "id": "de9d58bf",
   "metadata": {},
   "outputs": [
    {
     "name": "stdout",
     "output_type": "stream",
     "text": [
      "< 8 0 > 5 3 1 \n",
      "< 5 1 > 3 1 \n",
      "< 3 2 > 1 \n",
      "< 1 3 > \n"
     ]
    }
   ],
   "source": [
    "arr = [8,5,3,1]\n",
    "\n",
    "for i in range(len(arr)):\n",
    "    print(\"<\",arr[i], i, \">\", end=\" \")\n",
    "    for j in range(len(arr)):\n",
    "        if j > i:\n",
    "            print(arr[j], end=\" \")\n",
    "    print()\n",
    "    \n",
    "    \n",
    "    \n",
    "    \n",
    "    \n",
    "    \n",
    "#     print(arr[i], \"--\", i ,\"--\", arr[i+1])"
   ]
  },
  {
   "cell_type": "markdown",
   "id": "1470fa68",
   "metadata": {},
   "source": [
    "# Insertion Short"
   ]
  },
  {
   "cell_type": "code",
   "execution_count": 12,
   "id": "de0fa0db",
   "metadata": {},
   "outputs": [
    {
     "name": "stdout",
     "output_type": "stream",
     "text": [
      "[9, 1, 5, 6, 7, 8, 10, 11]\n"
     ]
    }
   ],
   "source": [
    "def insertion_short(arr):\n",
    "    \n",
    "    n = len(arr)\n",
    "    for i in range(1, n):\n",
    "        j = i - 1\n",
    "        temp = arr[i]\n",
    "        while (j > 0  and arr[j] > temp):\n",
    "            arr[j+1] = arr[j]\n",
    "            j = j - 1\n",
    "            arr[j+1] = temp\n",
    "            \n",
    "            \n",
    "arr = [9, 8, 5, 6, 7, 1, 10, 11]\n",
    "insertion_short(arr)\n",
    "print(arr)"
   ]
  },
  {
   "cell_type": "code",
   "execution_count": null,
   "id": "7dcd3d43",
   "metadata": {},
   "outputs": [],
   "source": []
  },
  {
   "cell_type": "code",
   "execution_count": null,
   "id": "40a338d4",
   "metadata": {},
   "outputs": [],
   "source": []
  },
  {
   "cell_type": "code",
   "execution_count": null,
   "id": "eef63915",
   "metadata": {},
   "outputs": [],
   "source": []
  }
 ],
 "metadata": {
  "kernelspec": {
   "display_name": "Python 3 (ipykernel)",
   "language": "python",
   "name": "python3"
  },
  "language_info": {
   "codemirror_mode": {
    "name": "ipython",
    "version": 3
   },
   "file_extension": ".py",
   "mimetype": "text/x-python",
   "name": "python",
   "nbconvert_exporter": "python",
   "pygments_lexer": "ipython3",
   "version": "3.10.2"
  }
 },
 "nbformat": 4,
 "nbformat_minor": 5
}
