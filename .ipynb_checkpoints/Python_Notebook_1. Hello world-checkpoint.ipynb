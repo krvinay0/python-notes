{
 "cells": [
  {
   "cell_type": "markdown",
   "id": "79e4c491",
   "metadata": {},
   "source": [
    "### Print Helloworld"
   ]
  },
  {
   "cell_type": "code",
   "execution_count": 5,
   "id": "3fcf820d",
   "metadata": {},
   "outputs": [
    {
     "name": "stdout",
     "output_type": "stream",
     "text": [
      "Vinay1\n",
      "Vinay1\n",
      "Vinay\n",
      "10\n"
     ]
    },
    {
     "data": {
      "text/plain": [
       "10"
      ]
     },
     "execution_count": 5,
     "metadata": {},
     "output_type": "execute_result"
    }
   ],
   "source": [
    "print(\"Vinay1\");print(\"Vinay1\")\n",
    "print(\"Vinay\")\n",
    "print(10)\n",
    "10\n"
   ]
  },
  {
   "cell_type": "markdown",
   "id": "ee8eccb4",
   "metadata": {},
   "source": [
    "### Variables\n"
   ]
  },
  {
   "cell_type": "markdown",
   "id": "40660651",
   "metadata": {},
   "source": [
    "user :\n",
    "uppercase, lowercase, number, _;\n",
    "but one condition variable name not start with numbar."
   ]
  },
  {
   "cell_type": "code",
   "execution_count": 2,
   "id": "520acdb3",
   "metadata": {},
   "outputs": [
    {
     "name": "stdout",
     "output_type": "stream",
     "text": [
      "40\n"
     ]
    },
    {
     "data": {
      "text/plain": [
       "40"
      ]
     },
     "execution_count": 2,
     "metadata": {},
     "output_type": "execute_result"
    }
   ],
   "source": [
    "a = 10;\n",
    "b = 30\n",
    "sum = a+b\n",
    "print(sum); #print sum \n",
    "\n",
    "sum # output of sum\n"
   ]
  },
  {
   "cell_type": "markdown",
   "id": "00298cd9",
   "metadata": {},
   "source": [
    "###  Assigning  different type of data to a variable\n"
   ]
  },
  {
   "cell_type": "code",
   "execution_count": 3,
   "id": "24643d18",
   "metadata": {},
   "outputs": [
    {
     "data": {
      "text/plain": [
       "'hello'"
      ]
     },
     "execution_count": 3,
     "metadata": {},
     "output_type": "execute_result"
    }
   ],
   "source": [
    "a = 10\n",
    "a = 20\n",
    "a = \"hello\"\n",
    "\n",
    "a"
   ]
  },
  {
   "cell_type": "code",
   "execution_count": 5,
   "id": "05c0edaf",
   "metadata": {},
   "outputs": [
    {
     "name": "stdout",
     "output_type": "stream",
     "text": [
      "<class 'str'>\n",
      "<class 'int'>\n"
     ]
    }
   ],
   "source": [
    "a = \"abc\"\n",
    "print(type(a))\n",
    "a = 12\n",
    "print(type(a))"
   ]
  },
  {
   "cell_type": "markdown",
   "id": "8d38ad90",
   "metadata": {},
   "source": [
    "### Python Number"
   ]
  },
  {
   "cell_type": "code",
   "execution_count": 6,
   "id": "6e8ffc98",
   "metadata": {},
   "outputs": [
    {
     "name": "stdout",
     "output_type": "stream",
     "text": [
      "<class 'int'>\n",
      "<class 'float'>\n",
      "<class 'int'>\n"
     ]
    }
   ],
   "source": [
    "a1 = 32\n",
    "a2 = 3.4\n",
    "a3 = 4 + 5\n",
    "print(type(a1))\n",
    "print(type(a2))\n",
    "print(type(a3))"
   ]
  },
  {
   "cell_type": "code",
   "execution_count": 7,
   "id": "1d60f46c",
   "metadata": {},
   "outputs": [
    {
     "name": "stdout",
     "output_type": "stream",
     "text": [
      "2548361462288\n",
      "2548361462608\n"
     ]
    }
   ],
   "source": [
    "a = 10\n",
    "print(id(a))\n",
    "a = a + 10\n",
    "print(id(a))\n"
   ]
  },
  {
   "cell_type": "code",
   "execution_count": 30,
   "id": "38973a35",
   "metadata": {},
   "outputs": [
    {
     "name": "stdout",
     "output_type": "stream",
     "text": [
      "2548438110480\n",
      "2548438110608\n"
     ]
    }
   ],
   "source": [
    "a = 1060 \n",
    "b = 1060\n",
    "print(id(a))\n",
    "print(id(b))\n",
    "\n",
    "#both are store same laction\n",
    "#(-5,-4,.......255,256)\n"
   ]
  },
  {
   "cell_type": "code",
   "execution_count": 18,
   "id": "fc290368",
   "metadata": {},
   "outputs": [
    {
     "name": "stdout",
     "output_type": "stream",
     "text": [
      "2612194643472\n",
      "2612194643472\n"
     ]
    }
   ],
   "source": [
    "a = 106\n",
    "b = 106\n",
    "print(id(a))\n",
    "print(id(b))\n",
    "\n",
    "#both are store same laction\n",
    "#(-5,-4,.......255,256)"
   ]
  },
  {
   "cell_type": "code",
   "execution_count": 17,
   "id": "bcb04bb8",
   "metadata": {},
   "outputs": [
    {
     "name": "stdout",
     "output_type": "stream",
     "text": [
      "2612194640400\n",
      "2612194640400\n",
      "2612194640400\n",
      "2612194640400\n"
     ]
    }
   ],
   "source": [
    "a = 10\n",
    "id1 = id(a)\n",
    "b = a + 2-2\n",
    "id2 = id(b)\n",
    "print(id1)\n",
    "print(id(a))\n",
    "print(id2)\n",
    "print(id(b))"
   ]
  },
  {
   "cell_type": "code",
   "execution_count": 37,
   "id": "d6ad1b70",
   "metadata": {},
   "outputs": [
    {
     "data": {
      "text/plain": [
       "2548361462288"
      ]
     },
     "execution_count": 37,
     "metadata": {},
     "output_type": "execute_result"
    }
   ],
   "source": [
    "a = 10\n",
    "id1 = id(a)\n",
    "id1"
   ]
  },
  {
   "cell_type": "code",
   "execution_count": 38,
   "id": "f0669753",
   "metadata": {},
   "outputs": [
    {
     "data": {
      "text/plain": [
       "2548361462288"
      ]
     },
     "execution_count": 38,
     "metadata": {},
     "output_type": "execute_result"
    }
   ],
   "source": [
    "b = a + 2-2\n",
    "id2 = id(b)\n",
    "id2\n"
   ]
  },
  {
   "cell_type": "markdown",
   "id": "8a7f8efe",
   "metadata": {},
   "source": [
    "### Arithmatic Operation"
   ]
  },
  {
   "cell_type": "code",
   "execution_count": 39,
   "id": "451e2273",
   "metadata": {},
   "outputs": [
    {
     "name": "stdout",
     "output_type": "stream",
     "text": [
      "6\n",
      "14\n"
     ]
    }
   ],
   "source": [
    "a = 10\n",
    "b = 4\n",
    "print(a-b)\n",
    "print(a+b)"
   ]
  },
  {
   "cell_type": "code",
   "execution_count": 40,
   "id": "f6924f6c",
   "metadata": {},
   "outputs": [
    {
     "name": "stdout",
     "output_type": "stream",
     "text": [
      "40\n"
     ]
    }
   ],
   "source": [
    "print(a*b)"
   ]
  },
  {
   "cell_type": "code",
   "execution_count": 41,
   "id": "35e0c980",
   "metadata": {},
   "outputs": [
    {
     "data": {
      "text/plain": [
       "2.5"
      ]
     },
     "execution_count": 41,
     "metadata": {},
     "output_type": "execute_result"
    }
   ],
   "source": [
    "a/b # floating point division"
   ]
  },
  {
   "cell_type": "code",
   "execution_count": 43,
   "id": "0a5b87f9",
   "metadata": {},
   "outputs": [
    {
     "data": {
      "text/plain": [
       "2"
      ]
     },
     "execution_count": 43,
     "metadata": {},
     "output_type": "execute_result"
    }
   ],
   "source": [
    "a//b  #only int value or integer division"
   ]
  },
  {
   "cell_type": "code",
   "execution_count": 44,
   "id": "f4250ab6",
   "metadata": {},
   "outputs": [
    {
     "data": {
      "text/plain": [
       "10000"
      ]
     },
     "execution_count": 44,
     "metadata": {},
     "output_type": "execute_result"
    }
   ],
   "source": [
    "a**b #10^4 exponentiation"
   ]
  },
  {
   "cell_type": "code",
   "execution_count": 45,
   "id": "2ceff54f",
   "metadata": {},
   "outputs": [
    {
     "data": {
      "text/plain": [
       "2"
      ]
     },
     "execution_count": 45,
     "metadata": {},
     "output_type": "execute_result"
    }
   ],
   "source": [
    "a%b"
   ]
  },
  {
   "cell_type": "code",
   "execution_count": 46,
   "id": "7fefe405",
   "metadata": {},
   "outputs": [
    {
     "data": {
      "text/plain": [
       "14"
      ]
     },
     "execution_count": 46,
     "metadata": {},
     "output_type": "execute_result"
    }
   ],
   "source": [
    "2+3*4"
   ]
  },
  {
   "cell_type": "code",
   "execution_count": 47,
   "id": "a8008ad8",
   "metadata": {},
   "outputs": [
    {
     "data": {
      "text/plain": [
       "24"
      ]
     },
     "execution_count": 47,
     "metadata": {},
     "output_type": "execute_result"
    }
   ],
   "source": [
    "(2+4)*4 # use bracket"
   ]
  },
  {
   "cell_type": "code",
   "execution_count": 48,
   "id": "9b2f589f",
   "metadata": {},
   "outputs": [
    {
     "data": {
      "text/plain": [
       "1"
      ]
     },
     "execution_count": 48,
     "metadata": {},
     "output_type": "execute_result"
    }
   ],
   "source": [
    "2*3//4 # first operation is done multiplication"
   ]
  },
  {
   "cell_type": "code",
   "execution_count": 54,
   "id": "0dcb63d5",
   "metadata": {},
   "outputs": [
    {
     "data": {
      "text/plain": [
       "24"
      ]
     },
     "execution_count": 54,
     "metadata": {},
     "output_type": "execute_result"
    }
   ],
   "source": [
    "#simple interest\n",
    "p = 100\n",
    "r = 12\n",
    "t = 2\n",
    "#si =  r * p* t//100\n",
    "#si = t//100* r * p\n",
    "si = (p * r * t)//100\n",
    "si"
   ]
  },
  {
   "cell_type": "code",
   "execution_count": 60,
   "id": "12ebb801",
   "metadata": {},
   "outputs": [
    {
     "data": {
      "text/plain": [
       "37"
      ]
     },
     "execution_count": 60,
     "metadata": {},
     "output_type": "execute_result"
    }
   ],
   "source": [
    "# Fah to celcium conversion\n",
    "f = 99\n",
    "c = (f-32)*5//9\n",
    "c"
   ]
  },
  {
   "cell_type": "markdown",
   "id": "3d687617",
   "metadata": {},
   "source": [
    "## input"
   ]
  },
  {
   "cell_type": "code",
   "execution_count": 1,
   "id": "3103b8a9",
   "metadata": {},
   "outputs": [
    {
     "name": "stdout",
     "output_type": "stream",
     "text": [
      "34\n",
      "34\n",
      "<class 'int'>\n",
      "<class 'str'>\n"
     ]
    },
    {
     "data": {
      "text/plain": [
       "'34'"
      ]
     },
     "execution_count": 1,
     "metadata": {},
     "output_type": "execute_result"
    }
   ],
   "source": [
    "b = input()\n",
    "a = int(input()) #float() take valid float or int \n",
    "# d = \"2323r\"  //error\n",
    "\n",
    "print(type(a))\n",
    "print(type(b))\n",
    "b"
   ]
  },
  {
   "cell_type": "code",
   "execution_count": 2,
   "id": "e48bbcaf",
   "metadata": {},
   "outputs": [
    {
     "name": "stdout",
     "output_type": "stream",
     "text": [
      "43\n",
      "43\n",
      "86.0\n"
     ]
    }
   ],
   "source": [
    "# adding two number\n",
    "a = float(input())\n",
    "b = float(input())\n",
    "s = a + b\n",
    "print(s)"
   ]
  },
  {
   "cell_type": "code",
   "execution_count": null,
   "id": "d123e877",
   "metadata": {},
   "outputs": [],
   "source": []
  },
  {
   "cell_type": "markdown",
   "id": "8c0f0430",
   "metadata": {},
   "source": [
    "### Boolean Data type"
   ]
  },
  {
   "cell_type": "code",
   "execution_count": 14,
   "id": "4ffe8110",
   "metadata": {},
   "outputs": [
    {
     "name": "stdout",
     "output_type": "stream",
     "text": [
      "False\n",
      "<class 'bool'>\n"
     ]
    }
   ],
   "source": [
    "a = True\n",
    "b1 = False\n",
    "\n",
    "c = \"Ninjas\"\n",
    "\n",
    "a = 20\n",
    "b = 100\n",
    "print(a>b)\n",
    "print(type(b1))"
   ]
  },
  {
   "cell_type": "markdown",
   "id": "c72cabc5",
   "metadata": {},
   "source": [
    "### Relational Operators\n"
   ]
  },
  {
   "cell_type": "code",
   "execution_count": 16,
   "id": "a83bcce8",
   "metadata": {},
   "outputs": [
    {
     "name": "stdout",
     "output_type": "stream",
     "text": [
      "False\n",
      "True\n",
      "False\n",
      "True\n",
      "False\n",
      "True\n"
     ]
    }
   ],
   "source": [
    "a = 20\n",
    "b = 100\n",
    "print(a>b) #greater then a\n",
    "print(a<b) #greater then b\n",
    "print(a>=b) #greater then equal to a\n",
    "print(a<=b) #greater then equal to b\n",
    "print(a==b) #equal to a\n",
    "print(a!=b) #not equal to a"
   ]
  },
  {
   "cell_type": "markdown",
   "id": "f2d83a6f",
   "metadata": {},
   "source": [
    "### Logiacal Operators"
   ]
  },
  {
   "cell_type": "code",
   "execution_count": 21,
   "id": "68c0d3d9",
   "metadata": {},
   "outputs": [
    {
     "name": "stdout",
     "output_type": "stream",
     "text": [
      "False\n",
      "True\n"
     ]
    }
   ],
   "source": [
    "a = 20                 #           &&   ||    \n",
    "b = 100                # T   T     T    T\n",
    "                       # T   F     F    T\n",
    "c1 = a < 10            # F   T     F    T\n",
    "c2 = b == 100          # F   F     F    F\n",
    "\n",
    "print(c1 and c2)\n",
    "print(c1 or c2)\n",
    "print(!False)\n",
    "print(!True)\n"
   ]
  },
  {
   "cell_type": "markdown",
   "id": "5bf402d4",
   "metadata": {},
   "source": [
    "### If else Condition"
   ]
  },
  {
   "cell_type": "code",
   "execution_count": 26,
   "id": "86593d7b",
   "metadata": {},
   "outputs": [
    {
     "name": "stdout",
     "output_type": "stream",
     "text": [
      "hello else\n"
     ]
    }
   ],
   "source": [
    "a = False\n",
    "if a:\n",
    "     print(\"hello if\");\n",
    "     print(\"hello if2\")\n",
    "else:\n",
    "    print(\"hello else\")"
   ]
  },
  {
   "cell_type": "code",
   "execution_count": 28,
   "id": "7018d157",
   "metadata": {},
   "outputs": [
    {
     "name": "stdout",
     "output_type": "stream",
     "text": [
      "79\n",
      "hello Odd\n"
     ]
    }
   ],
   "source": [
    "a = int(input())\n",
    "b = a%2\n",
    "is_b = (b==0)\n",
    "\n",
    "if is_b:\n",
    "     print(\"hello Even\");\n",
    "else:\n",
    "    print(\"hello Odd\")"
   ]
  },
  {
   "cell_type": "code",
   "execution_count": 29,
   "id": "c2efc7d1",
   "metadata": {},
   "outputs": [
    {
     "name": "stdout",
     "output_type": "stream",
     "text": [
      "67\n",
      "hello Odd\n"
     ]
    }
   ],
   "source": [
    "a = int(input())\n",
    "b = (a%2==0)\n",
    "\n",
    "if b:\n",
    "     print(\"hello Even\");\n",
    "else:\n",
    "    print(\"hello Odd\")"
   ]
  },
  {
   "cell_type": "code",
   "execution_count": 32,
   "id": "1c57c04f",
   "metadata": {},
   "outputs": [
    {
     "name": "stdout",
     "output_type": "stream",
     "text": [
      "78\n",
      "hello Even\n"
     ]
    }
   ],
   "source": [
    "a = int(input())\n",
    "\n",
    "if a % 2 == 0:\n",
    "     print(\"hello Even\");\n",
    "else:\n",
    "    print(\"hello Odd\")"
   ]
  },
  {
   "cell_type": "code",
   "execution_count": 33,
   "id": "bbaa3474",
   "metadata": {},
   "outputs": [
    {
     "name": "stdout",
     "output_type": "stream",
     "text": [
      "Hello\n",
      "Hi\n"
     ]
    }
   ],
   "source": [
    "x = 5\n",
    "if x < 6:\n",
    "    print(\"Hello\")\n",
    "if x == 5:\n",
    "    print(\"Hi\")\n",
    "else:\n",
    "    print(\"Hey\")"
   ]
  },
  {
   "cell_type": "code",
   "execution_count": 34,
   "id": "39b6fb30",
   "metadata": {},
   "outputs": [
    {
     "name": "stdout",
     "output_type": "stream",
     "text": [
      "B\n"
     ]
    }
   ],
   "source": [
    " if (10 < 0) and (0 < -10):\n",
    "     print(\"A\")\n",
    " elif (10 > 0) or False:\n",
    "     print(\"B\")\n",
    " else:\n",
    "    print(\"C\")"
   ]
  },
  {
   "cell_type": "code",
   "execution_count": 35,
   "id": "db3fff48",
   "metadata": {},
   "outputs": [
    {
     "name": "stdout",
     "output_type": "stream",
     "text": [
      "B\n"
     ]
    }
   ],
   "source": [
    "if True or True:\n",
    "    if False and True or False:\n",
    "        print('A')\n",
    "    elif False and False or True and True:\n",
    "       print('B')\n",
    "    else:\n",
    "      print('C')\n",
    "else:\n",
    "     print('D')"
   ]
  },
  {
   "cell_type": "markdown",
   "id": "375c8404",
   "metadata": {},
   "source": [
    "### Nested Conditionals"
   ]
  },
  {
   "cell_type": "code",
   "execution_count": 40,
   "id": "1f90fc26",
   "metadata": {},
   "outputs": [
    {
     "name": "stdout",
     "output_type": "stream",
     "text": [
      "no\n"
     ]
    }
   ],
   "source": [
    "x = 5\n",
    "y = 8\n",
    "if x == 5:\n",
    "#     print(\"Hello\")\n",
    "    if y == 5:\n",
    "        print(\"Hi\")\n",
    "    else:\n",
    "         print(\"no\")        \n",
    "else:\n",
    "    print(\"Hey\")"
   ]
  },
  {
   "cell_type": "markdown",
   "id": "9118496f",
   "metadata": {},
   "source": [
    "### While Loop"
   ]
  },
  {
   "cell_type": "code",
   "execution_count": 16,
   "id": "c7858f20",
   "metadata": {},
   "outputs": [
    {
     "name": "stdout",
     "output_type": "stream",
     "text": [
      "1\n",
      "2\n",
      "3\n",
      "4\n",
      "5\n",
      "6\n",
      "7\n",
      "8\n",
      "9\n",
      "10\n"
     ]
    }
   ],
   "source": [
    "n = int(input())\n",
    "count = 1\n",
    "add = 0\n",
    "while count <=n:\n",
    "    print(count)\n",
    "    count = count + 1    \n"
   ]
  },
  {
   "cell_type": "code",
   "execution_count": 3,
   "id": "bb83ea26",
   "metadata": {},
   "outputs": [
    {
     "name": "stdout",
     "output_type": "stream",
     "text": [
      "77\n",
      "3003\n"
     ]
    }
   ],
   "source": [
    "n = int(input()) \n",
    "count = 1\n",
    "add = 0\n",
    "while count <=n:\n",
    "    add = add + count\n",
    "    count = count + 1    \n",
    "print(add)"
   ]
  },
  {
   "cell_type": "markdown",
   "id": "2491328c",
   "metadata": {},
   "source": [
    "### Find X raised to power N"
   ]
  },
  {
   "cell_type": "code",
   "execution_count": 1,
   "id": "d6605c9e",
   "metadata": {},
   "outputs": [
    {
     "name": "stdout",
     "output_type": "stream",
     "text": [
      "3\n",
      "3\n",
      "27\n"
     ]
    }
   ],
   "source": [
    "# Write your code here\n",
    "x = int(input())\n",
    "n = int(input())\n",
    "count = 1\n",
    "value = 1\n",
    "while count <=n:\n",
    "    value = value * x\n",
    "    count = count + 1  \n",
    "print(value)"
   ]
  },
  {
   "cell_type": "markdown",
   "id": "276a9e8b",
   "metadata": {},
   "source": [
    "### Arithmetic Progression (common difference)"
   ]
  },
  {
   "cell_type": "code",
   "execution_count": 9,
   "id": "8b094045",
   "metadata": {},
   "outputs": [
    {
     "name": "stdout",
     "output_type": "stream",
     "text": [
      "1\n",
      "2\n",
      "3\n",
      "1\n"
     ]
    }
   ],
   "source": [
    "# Write your code here\n",
    "a = int(input())\n",
    "b = int(input())\n",
    "c = int(input())\n",
    " \n",
    "d = b-a\n",
    "e = c-b\n",
    "\n",
    "if(d==e):\n",
    "    print(d)\n",
    "else:\n",
    "    print(\"not common difference\")"
   ]
  },
  {
   "cell_type": "code",
   "execution_count": 11,
   "id": "3f68b095",
   "metadata": {},
   "outputs": [
    {
     "name": "stdout",
     "output_type": "stream",
     "text": [
      "2\n",
      "2\n",
      "4\n",
      "4\n",
      "4\n"
     ]
    }
   ],
   "source": [
    "# You are given a rectangle in a plane. The coordinates of one of its diagonals are provided to you. \n",
    "#You have to print the total area of the rectangle.\n",
    "#The coordinates of the rectangle are provided as four integral values: x1, y1, x2, y2. \n",
    "#It is given that x1 < x2 and y1 < y2.\n",
    "\n",
    "a1 = int(input())\n",
    "a2 = int(input())\n",
    "b1 = int(input())\n",
    "b2 = int(input())\n",
    " \n",
    "d = (b1-a1)*(b2-a2)\n",
    "\n",
    "print(d)"
   ]
  },
  {
   "cell_type": "code",
   "execution_count": 12,
   "id": "11fb3e0a",
   "metadata": {},
   "outputs": [
    {
     "name": "stdout",
     "output_type": "stream",
     "text": [
      "too low\n"
     ]
    }
   ],
   "source": [
    "n = 10\n",
    "#Check If the number is between 1 to 10\n",
    "if n>=1 and n<=10:\n",
    "    print(\"too low\")\n",
    "\n",
    "#Check If the number is between 10 to 20\n",
    "elif n>=10 and n<=20:\n",
    "    print(\"medium\")\n",
    "\n",
    "#Check If the number is between 20 to 30\n",
    "elif n>=20 and n<=30:\n",
    "    print(\"large\")\n",
    "#Check if the number is greater than 30 \n",
    "else:\n",
    "    print(\"too large\")"
   ]
  },
  {
   "cell_type": "code",
   "execution_count": 19,
   "id": "def157c3",
   "metadata": {},
   "outputs": [
    {
     "name": "stdout",
     "output_type": "stream",
     "text": [
      "0\n",
      "Zero\n"
     ]
    }
   ],
   "source": [
    "n = int(input())\n",
    "\n",
    "if(n>0):\n",
    "    print(\"Positive\")\n",
    "elif(n<0):\n",
    "    print(\"Negative\")\n",
    "elif(n==0):\n",
    "    print(\"Zero\")\n",
    "else:\n",
    "    print(\"Error\")"
   ]
  },
  {
   "cell_type": "markdown",
   "id": "846609fc",
   "metadata": {},
   "source": [
    "### prime number"
   ]
  },
  {
   "cell_type": "code",
   "execution_count": 47,
   "id": "89d10d00",
   "metadata": {},
   "outputs": [
    {
     "name": "stdout",
     "output_type": "stream",
     "text": [
      "21\n",
      "not prime\n"
     ]
    }
   ],
   "source": [
    "n = int(input())\n",
    "count = 2\n",
    "flag = False\n",
    "while(count<n):\n",
    "    if(n%count==0):\n",
    "       flag = True\n",
    "    count = count + 1    \n",
    "if flag:\n",
    "     print(\"not prime\")\n",
    "else:\n",
    "     print(\"prime\")\n"
   ]
  },
  {
   "cell_type": "code",
   "execution_count": 83,
   "id": "a3be33b0",
   "metadata": {},
   "outputs": [
    {
     "name": "stdout",
     "output_type": "stream",
     "text": [
      "2\n",
      "2\n"
     ]
    }
   ],
   "source": [
    "n = int(input())\n",
    "k = 2\n",
    "while k <= n:\n",
    "    d=2\n",
    "    flag = False\n",
    "    while d < k:\n",
    "        if k % d == 0:\n",
    "            flag = True   \n",
    "        d = d + 1 \n",
    "    if not(flag):\n",
    "        print(k)\n",
    "    k = k + 1 "
   ]
  },
  {
   "cell_type": "code",
   "execution_count": 86,
   "id": "7edc1cf1",
   "metadata": {},
   "outputs": [
    {
     "name": "stdout",
     "output_type": "stream",
     "text": [
      "21\n",
      "2\n",
      "3\n",
      "5\n",
      "7\n",
      "11\n",
      "13\n",
      "17\n",
      "19\n"
     ]
    }
   ],
   "source": [
    "n = int(input())\n",
    "count = 2\n",
    "while count<n:\n",
    "    d=2\n",
    "    flag = True\n",
    "    while d<count:\n",
    "        if count%d==0:\n",
    "            flag = False\n",
    "        d = d+1\n",
    "    if flag:\n",
    "        print(count)\n",
    "    count = count + 1 \n",
    "\n"
   ]
  },
  {
   "cell_type": "code",
   "execution_count": null,
   "id": "d9839899",
   "metadata": {},
   "outputs": [
    {
     "name": "stdout",
     "output_type": "stream",
     "text": [
      "3\n",
      "3\n",
      "3\n",
      "9\n",
      "6\n"
     ]
    }
   ],
   "source": [
    "# Write your code here\n",
    "\n",
    "while True:\n",
    "    n = int(input())\n",
    "    while n:\n",
    "        if n==1:\n",
    "            a = int(input())\n",
    "            b = int(input())\n",
    "            print(a+b)\n",
    "        elif n==2:\n",
    "            a = int(input())\n",
    "            b = int(input())\n",
    "            print(a-b)\n",
    "        elif n==3:\n",
    "            a = int(input())\n",
    "            b = int(input())\n",
    "            print(a*b)\n",
    "        elif n==4:\n",
    "            a = int(input())\n",
    "            b = int(input())\n",
    "            print(a/b)\n",
    "        elif n==5:\n",
    "            a = int(input())\n",
    "            b = int(input())\n",
    "            print(a%b)\n",
    "        elif n==6:\n",
    "            exit()\n",
    "        else:\n",
    "            print(\"Invalid Operation\")\n",
    "exit()\n",
    "        "
   ]
  }
 ],
 "metadata": {
  "kernelspec": {
   "display_name": "Python 3 (ipykernel)",
   "language": "python",
   "name": "python3"
  },
  "language_info": {
   "codemirror_mode": {
    "name": "ipython",
    "version": 3
   },
   "file_extension": ".py",
   "mimetype": "text/x-python",
   "name": "python",
   "nbconvert_exporter": "python",
   "pygments_lexer": "ipython3",
   "version": "3.10.2"
  }
 },
 "nbformat": 4,
 "nbformat_minor": 5
}
