{
 "cells": [
  {
   "cell_type": "markdown",
   "id": "3db14f41",
   "metadata": {},
   "source": [
    "## You have been given a random integer array/list(ARR) of size N. You have been required to push all the zeros that are present in the array/list to the end of it. Also, make sure to maintain the relative order of the non-zero elements."
   ]
  },
  {
   "cell_type": "code",
   "execution_count": 17,
   "id": "2def2a69",
   "metadata": {},
   "outputs": [
    {
     "data": {
      "text/plain": [
       "[2, 1, 3, 0, 0, 0, 0]"
      ]
     },
     "execution_count": 17,
     "metadata": {},
     "output_type": "execute_result"
    }
   ],
   "source": [
    "def Push_Zeros_to_end(arr, n):\n",
    "    \n",
    "    for i in range(n):\n",
    "        for j in range(n-i-1):\n",
    "            if (arr[j] == 0):\n",
    "                arr[j], arr[j+1] = arr[j+1], arr[j]\n",
    "    return arr \n",
    "\n",
    "        \n",
    "    \n",
    "\n",
    "    \n",
    "arr = [2, 0, 0, 1, 3, 0, 0];\n",
    "n = 7;\n",
    "Push_Zeros_to_end(arr, n)"
   ]
  },
  {
   "cell_type": "code",
   "execution_count": 35,
   "id": "95f8d892",
   "metadata": {},
   "outputs": [
    {
     "data": {
      "text/plain": [
       "[2, 1, 3]"
      ]
     },
     "execution_count": 35,
     "metadata": {},
     "output_type": "execute_result"
    }
   ],
   "source": [
    "def Push_Zeros_to_end(arr, n):\n",
    "    temp = []\n",
    "    for i in range(n):\n",
    "        if arr[i] != 0:\n",
    "            temp.append(arr[i])\n",
    "#         for j in range(n-i-1):\n",
    "#             temp.append(arr[i])\n",
    "#             if (arr[j] == 0):\n",
    "#                 arr[j], arr[j+1] = arr[j+1], arr[j]\n",
    "    return temp \n",
    "\n",
    "        \n",
    "    \n",
    "\n",
    "    \n",
    "arr = [2, 0, 0, 1, 3, 0, 0];\n",
    "n = 7;\n",
    "Push_Zeros_to_end(arr, n)"
   ]
  }
 ],
 "metadata": {
  "kernelspec": {
   "display_name": "Python 3 (ipykernel)",
   "language": "python",
   "name": "python3"
  },
  "language_info": {
   "codemirror_mode": {
    "name": "ipython",
    "version": 3
   },
   "file_extension": ".py",
   "mimetype": "text/x-python",
   "name": "python",
   "nbconvert_exporter": "python",
   "pygments_lexer": "ipython3",
   "version": "3.10.2"
  }
 },
 "nbformat": 4,
 "nbformat_minor": 5
}
