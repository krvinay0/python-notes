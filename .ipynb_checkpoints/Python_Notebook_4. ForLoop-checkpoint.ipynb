{
 "cells": [
  {
   "cell_type": "code",
   "execution_count": 1,
   "id": "0b023abe",
   "metadata": {},
   "outputs": [
    {
     "name": "stdout",
     "output_type": "stream",
     "text": [
      "a\n",
      "b\n",
      "c\n",
      "d\n"
     ]
    }
   ],
   "source": [
    "s='abcd'\n",
    "for c in s:\n",
    "    print(c)"
   ]
  },
  {
   "cell_type": "code",
   "execution_count": 30,
   "id": "7dfb0d32",
   "metadata": {},
   "outputs": [
    {
     "name": "stdout",
     "output_type": "stream",
     "text": [
      "0\n"
     ]
    }
   ],
   "source": [
    "n=int(input())\n",
    "for i in range(0, n, 1): #range(start, stop, stride)\n",
    "    print(i)"
   ]
  },
  {
   "cell_type": "code",
   "execution_count": 34,
   "id": "5e032732",
   "metadata": {},
   "outputs": [
    {
     "name": "stdout",
     "output_type": "stream",
     "text": [
      "0\n",
      "0\n"
     ]
    }
   ],
   "source": [
    "#only one vale to range\n",
    "n=int(input())\n",
    "for i in range(0, n+1, 1): \n",
    "    print(i)"
   ]
  },
  {
   "cell_type": "code",
   "execution_count": 38,
   "id": "a5b93420",
   "metadata": {},
   "outputs": [
    {
     "name": "stdout",
     "output_type": "stream",
     "text": [
      "5\n",
      "0\n",
      "1\n",
      "2\n",
      "3\n",
      "4\n",
      "5\n"
     ]
    }
   ],
   "source": [
    "#only two vale to range\n",
    "\n",
    "n=int(input())\n",
    "for i in range(0, n+1): \n",
    "    print(i)"
   ]
  },
  {
   "cell_type": "code",
   "execution_count": 43,
   "id": "fbd645e0",
   "metadata": {},
   "outputs": [
    {
     "name": "stdout",
     "output_type": "stream",
     "text": [
      "0\n",
      "1\n",
      "2\n",
      "3\n",
      "4\n"
     ]
    }
   ],
   "source": [
    "# n=int(input())\n",
    "for i in range(5): \n",
    "    print(i)"
   ]
  },
  {
   "cell_type": "code",
   "execution_count": 47,
   "id": "b2cb4e66",
   "metadata": {},
   "outputs": [
    {
     "name": "stdout",
     "output_type": "stream",
     "text": [
      "start3\n",
      "range30\n",
      "3\n",
      "6\n",
      "9\n",
      "12\n",
      "15\n",
      "18\n",
      "21\n",
      "24\n",
      "27\n",
      "30\n"
     ]
    }
   ],
   "source": [
    "a=int(input(\"start\"))\n",
    "b=int(input(\"range\"))\n",
    "for i in range(a, b+1, 1): \n",
    "    if i%3==0:\n",
    "        print(i)"
   ]
  },
  {
   "cell_type": "code",
   "execution_count": 50,
   "id": "bf3ab678",
   "metadata": {},
   "outputs": [
    {
     "name": "stdout",
     "output_type": "stream",
     "text": [
      "start7\n",
      "range100\n",
      "9\n",
      "12\n",
      "15\n",
      "18\n",
      "21\n",
      "24\n",
      "27\n",
      "30\n",
      "33\n",
      "36\n",
      "39\n",
      "42\n",
      "45\n",
      "48\n",
      "51\n",
      "54\n",
      "57\n",
      "60\n",
      "63\n",
      "66\n",
      "69\n",
      "72\n",
      "75\n",
      "78\n",
      "81\n",
      "84\n",
      "87\n",
      "90\n",
      "93\n",
      "96\n",
      "99\n"
     ]
    }
   ],
   "source": [
    "a=int(input(\"start\"))\n",
    "b=int(input(\"range\"))\n",
    "\n",
    "if a%3==0:\n",
    "    s=a\n",
    "elif a%3==1:\n",
    "    s=a+2\n",
    "else:\n",
    "    s=a+1\n",
    "\n",
    "for i in range(s, b+1, 3): \n",
    "    if i%3==0:\n",
    "        print(i)"
   ]
  },
  {
   "cell_type": "code",
   "execution_count": 54,
   "id": "aa29b4ca",
   "metadata": {},
   "outputs": [
    {
     "name": "stdout",
     "output_type": "stream",
     "text": [
      "6\n",
      "not prime\n"
     ]
    }
   ],
   "source": [
    "n=int(input())\n",
    "i=2\n",
    "flag=False\n",
    "\n",
    "while i<n:\n",
    "    if n%i==0:\n",
    "        flag=True\n",
    "        \n",
    "    i+=1\n",
    "if (flag):\n",
    "    print(\"not prime\")\n",
    "else:\n",
    "    print('prime')\n",
    "    \n",
    "    "
   ]
  },
  {
   "cell_type": "code",
   "execution_count": 75,
   "id": "97cc975c",
   "metadata": {},
   "outputs": [
    {
     "name": "stdout",
     "output_type": "stream",
     "text": [
      "4\n",
      "not prime\n"
     ]
    }
   ],
   "source": [
    "n=int(input())\n",
    "flag=False\n",
    "for i in range(2, n, 1):\n",
    "    if n%i==0:\n",
    "        flag=True\n",
    "    \n",
    "if (flag):\n",
    "    print(\"not prime\")\n",
    "else:\n",
    "    print('prime')\n",
    "    \n",
    "    "
   ]
  },
  {
   "cell_type": "code",
   "execution_count": 86,
   "id": "21f8e4ba",
   "metadata": {},
   "outputs": [
    {
     "name": "stdout",
     "output_type": "stream",
     "text": [
      "32\n",
      "1\n",
      "2\n",
      "3\n",
      "5\n",
      "7\n",
      "11\n",
      "13\n",
      "17\n",
      "19\n",
      "23\n",
      "29\n",
      "31\n"
     ]
    }
   ],
   "source": [
    "n=int(input())\n",
    "for i in range(1, n, 1):\n",
    "    flag=False\n",
    "\n",
    "    for j in range(2, i, 1):\n",
    "        if i%j==0:\n",
    "            flag=True\n",
    "    \n",
    "    if not(flag):\n",
    "        print(i)\n",
    "    \n",
    "    "
   ]
  },
  {
   "cell_type": "code",
   "execution_count": 199,
   "id": "07a1fbe9",
   "metadata": {},
   "outputs": [
    {
     "name": "stdout",
     "output_type": "stream",
     "text": [
      "    1\n",
      "    23\n",
      "    345\n",
      "    4567\n",
      "    56789\n"
     ]
    }
   ],
   "source": [
    "n=5\n",
    "for i in range(1,n+1,1):\n",
    "    # space\n",
    "    for space in range(i, n, 1):\n",
    "        print(' ', end='')\n",
    "    # increase\n",
    "    for increase in range(i, 2*i, 1):\n",
    "        print(increase, end='')\n",
    "        \n",
    "    for dic in range(2*i, i, 1):\n",
    "        print(dic, end='')\n",
    "    \n",
    "#     dic=i-1\n",
    "#     while dic>0:\n",
    "#         print(dic+i-1, end='')\n",
    "#         dic-=1\n",
    "        \n",
    "    print()"
   ]
  },
  {
   "cell_type": "code",
   "execution_count": 204,
   "id": "bf7e1a49",
   "metadata": {},
   "outputs": [
    {
     "name": "stdout",
     "output_type": "stream",
     "text": [
      "    1\n",
      "   232\n",
      "  34543\n",
      " 4567654\n",
      "567898765\n"
     ]
    }
   ],
   "source": [
    "n=5\n",
    "for i in range(1,n+1,1):\n",
    "    for s in range(n-i):\n",
    "        print(\" \", end=\"\")\n",
    "    for j in range(i, 2*i, 1):\n",
    "        print(j, end='')\n",
    "    for j in range(2*i-2, i-1, -1):\n",
    "        print(j, end='')        \n",
    "    print()"
   ]
  },
  {
   "cell_type": "markdown",
   "id": "84505fce",
   "metadata": {},
   "source": [
    " ### break"
   ]
  },
  {
   "cell_type": "code",
   "execution_count": 207,
   "id": "13bc5f64",
   "metadata": {},
   "outputs": [
    {
     "name": "stdout",
     "output_type": "stream",
     "text": [
      "1\n",
      "2\n",
      "3\n",
      "4\n"
     ]
    }
   ],
   "source": [
    "i=1\n",
    "while i<10:\n",
    "    if i==5:  # break the loop\n",
    "        break;\n",
    "    print(i)\n",
    "    i+=1"
   ]
  },
  {
   "cell_type": "code",
   "execution_count": 214,
   "id": "59b2d8fd",
   "metadata": {},
   "outputs": [
    {
     "name": "stdout",
     "output_type": "stream",
     "text": [
      "1234567890\n",
      "not prime\n"
     ]
    }
   ],
   "source": [
    "n=int(input())\n",
    "flag = True\n",
    "for i in range(2,n,1):\n",
    "    if n%i==0:\n",
    "        flag=False\n",
    "        break     #it break the loop   \n",
    "\n",
    "if flag:\n",
    "    print(\"prime\")\n",
    "else:\n",
    "    print(\"not prime\")"
   ]
  },
  {
   "cell_type": "code",
   "execution_count": 219,
   "id": "45e27883",
   "metadata": {},
   "outputs": [
    {
     "name": "stdout",
     "output_type": "stream",
     "text": [
      "2\n"
     ]
    }
   ],
   "source": [
    "n=int(input())\n",
    "for i in range(2, n, 1):\n",
    "    flag=True\n",
    "    for j in range(2, i, 1):\n",
    "        if i%j==0:\n",
    "            flag=False\n",
    "            break\n",
    "    if flag:\n",
    "        print(i)"
   ]
  },
  {
   "cell_type": "code",
   "execution_count": 220,
   "id": "fac25d18",
   "metadata": {},
   "outputs": [
    {
     "name": "stdout",
     "output_type": "stream",
     "text": [
      "1 2 "
     ]
    }
   ],
   "source": [
    "i=1\n",
    "while i<5:\n",
    "    if i==3:\n",
    "        break\n",
    "    print(i,end=\" \")\n",
    "    i = i +1\n",
    "    "
   ]
  },
  {
   "cell_type": "code",
   "execution_count": 222,
   "id": "d5314c93",
   "metadata": {},
   "outputs": [
    {
     "name": "stdout",
     "output_type": "stream",
     "text": [
      "1212"
     ]
    }
   ],
   "source": [
    "i=1\n",
    "while i<3:\n",
    "    j=1\n",
    "    while j<5:\n",
    "        if j==3:\n",
    "            break\n",
    "        print(j,end='')\n",
    "        j = j + 1\n",
    "    i = i + 1"
   ]
  },
  {
   "cell_type": "code",
   "execution_count": 224,
   "id": "004d6a12",
   "metadata": {},
   "outputs": [
    {
     "name": "stdout",
     "output_type": "stream",
     "text": [
      "1\n",
      "2\n",
      "3\n",
      "4\n",
      "5\n",
      "6\n",
      "7\n",
      "8\n",
      "9\n",
      " print hello at end \n"
     ]
    }
   ],
   "source": [
    "for i in range( 1, 10):\n",
    "    print(i)\n",
    "else:\n",
    "    print(\" print hello at end \")"
   ]
  },
  {
   "cell_type": "code",
   "execution_count": 226,
   "id": "fa8f734a",
   "metadata": {
    "scrolled": true
   },
   "outputs": [
    {
     "name": "stdout",
     "output_type": "stream",
     "text": [
      "1\n",
      "2\n",
      "3\n",
      "4\n",
      "5\n",
      "6\n",
      "7\n",
      "8\n",
      "9\n",
      " print hello at end \n"
     ]
    }
   ],
   "source": [
    "i=1\n",
    "while i<10:\n",
    "    print(i)\n",
    "    i+=1\n",
    "else:\n",
    "    print(\" print hello at end \")"
   ]
  },
  {
   "cell_type": "code",
   "execution_count": 227,
   "id": "335feb64",
   "metadata": {
    "collapsed": true
   },
   "outputs": [
    {
     "name": "stdout",
     "output_type": "stream",
     "text": [
      "1\n",
      "2\n",
      "3\n",
      "4\n",
      "5\n",
      "6\n",
      "7\n",
      "8\n",
      "9\n",
      " print hello at end \n"
     ]
    }
   ],
   "source": [
    "for i in range( 1, 10):\n",
    "    print(i)\n",
    "print(\" print hello at end \")"
   ]
  },
  {
   "cell_type": "code",
   "execution_count": 231,
   "id": "913b2763",
   "metadata": {
    "collapsed": true
   },
   "outputs": [
    {
     "name": "stdout",
     "output_type": "stream",
     "text": [
      "1\n",
      "2\n",
      "3\n",
      "4\n"
     ]
    }
   ],
   "source": [
    "for i in range( 1, 10):\n",
    "    if i==5:\n",
    "        break\n",
    "    print(i)\n",
    "else:\n",
    "    print(\" print hello at end \")"
   ]
  },
  {
   "cell_type": "code",
   "execution_count": 241,
   "id": "0014c377",
   "metadata": {},
   "outputs": [
    {
     "name": "stdout",
     "output_type": "stream",
     "text": [
      "6\n"
     ]
    }
   ],
   "source": [
    "n=int(input())\n",
    "for i in range(2, n):\n",
    "    if n%i==0:\n",
    "        break\n",
    "else:\n",
    "    print(\"prime\")"
   ]
  },
  {
   "cell_type": "code",
   "execution_count": 243,
   "id": "889bccc0",
   "metadata": {},
   "outputs": [
    {
     "name": "stdout",
     "output_type": "stream",
     "text": [
      "1 2 3 4 Else is also printed\n"
     ]
    }
   ],
   "source": [
    "i=1\n",
    "while i<5:\n",
    "    if i == 6:\n",
    "        break\n",
    "    print(i,end=\" \")\n",
    "    i = i + 1\n",
    "else:\n",
    "    print('Else is also printed')\n",
    "    "
   ]
  },
  {
   "cell_type": "code",
   "execution_count": 247,
   "id": "db24c045",
   "metadata": {},
   "outputs": [
    {
     "name": "stdout",
     "output_type": "stream",
     "text": [
      "1 2 "
     ]
    }
   ],
   "source": [
    "i=1\n",
    "while i<5:\n",
    "    if i == 3:\n",
    "        break\n",
    "    print(i,end=' ')\n",
    "    i = i + 1\n",
    "else:\n",
    "    print('Else is also printed')"
   ]
  },
  {
   "cell_type": "code",
   "execution_count": 248,
   "id": "aa278454",
   "metadata": {},
   "outputs": [
    {
     "name": "stdout",
     "output_type": "stream",
     "text": [
      "234\n",
      "14\n",
      "28\n",
      "42\n",
      "56\n",
      "70\n",
      "84\n",
      "98\n",
      "112\n",
      "126\n",
      "140\n",
      "154\n",
      "168\n",
      "182\n",
      "196\n",
      "210\n",
      "224\n"
     ]
    }
   ],
   "source": [
    "n=int(input())\n",
    "for i in range(2,n+1,2):\n",
    "    if i%7!=0:\n",
    "        continue\n",
    "        \n",
    "    print(i)"
   ]
  },
  {
   "cell_type": "code",
   "execution_count": 251,
   "id": "bf9801fb",
   "metadata": {
    "collapsed": true
   },
   "outputs": [
    {
     "name": "stdout",
     "output_type": "stream",
     "text": [
      "3\n",
      "4\n",
      "5\n",
      "6\n",
      "8\n",
      "9\n",
      "10\n",
      "11\n",
      "12\n",
      "13\n",
      "15\n",
      "16\n",
      "17\n",
      "18\n",
      "19\n",
      "20\n",
      "22\n",
      "23\n",
      "24\n",
      "25\n",
      "26\n",
      "27\n",
      "29\n",
      "30\n",
      "31\n",
      "32\n",
      "33\n"
     ]
    }
   ],
   "source": [
    "n=32\n",
    "i=2\n",
    "while i<=n:\n",
    "    i+=1\n",
    "    if i%7==0:\n",
    "        continue\n",
    "    print(i)"
   ]
  },
  {
   "cell_type": "markdown",
   "id": "aa64431a",
   "metadata": {},
   "source": [
    "### Pass"
   ]
  },
  {
   "cell_type": "code",
   "execution_count": 253,
   "id": "de8be82a",
   "metadata": {},
   "outputs": [
    {
     "name": "stdout",
     "output_type": "stream",
     "text": [
      "hello\n"
     ]
    }
   ],
   "source": [
    "i=3\n",
    "if i<7:\n",
    "    pass\n",
    "print(\"hello\")"
   ]
  },
  {
   "cell_type": "code",
   "execution_count": 254,
   "id": "db50a4cf",
   "metadata": {},
   "outputs": [
    {
     "name": "stdout",
     "output_type": "stream",
     "text": [
      "hello\n"
     ]
    }
   ],
   "source": [
    "i=3\n",
    "while i<7:\n",
    "    pass\n",
    "    i+=1\n",
    "print(\"hello\")"
   ]
  },
  {
   "cell_type": "code",
   "execution_count": 256,
   "id": "c2e3a69a",
   "metadata": {},
   "outputs": [
    {
     "name": "stdout",
     "output_type": "stream",
     "text": [
      "hello\n"
     ]
    }
   ],
   "source": [
    "for i in range(1,4):\n",
    "    pass\n",
    "print(\"hello\")"
   ]
  },
  {
   "cell_type": "code",
   "execution_count": 320,
   "id": "bbd9fffe",
   "metadata": {},
   "outputs": [
    {
     "name": "stdout",
     "output_type": "stream",
     "text": [
      "11111111\n",
      "0000000\n",
      "111111\n",
      "00000\n",
      "1111\n",
      "000\n",
      "11\n",
      "0\n"
     ]
    }
   ],
   "source": [
    "n = 8\n",
    "for i in range(1, n+1, 1):    \n",
    "    for J in range(1, n-i+2, 1):\n",
    "        if i%2==0:\n",
    "            print(0, end='')\n",
    "        else:\n",
    "            print(1, end='')\n",
    "    print()"
   ]
  },
  {
   "cell_type": "code",
   "execution_count": 360,
   "id": "8815b669",
   "metadata": {},
   "outputs": [
    {
     "name": "stdout",
     "output_type": "stream",
     "text": [
      "123456\n",
      " 23456\n",
      "  3456\n",
      "   456\n",
      "    56\n",
      "     6\n",
      "    56\n",
      "   456\n",
      "  3456\n",
      " 23456\n",
      "123456\n"
     ]
    }
   ],
   "source": [
    "n=6\n",
    "# for i in range(1, n+1, 1):\n",
    "#     print(i, end='')\n",
    "for i in range(1,n+1,1):\n",
    "    for s in range(1, i,1):\n",
    "        print(\" \",end='')\n",
    "        \n",
    "    for num in range(i, n+1, 1):\n",
    "        print(num,end='')\n",
    "    print()\n",
    "    \n",
    "for i in range(1,n,1):\n",
    "    for sa in range(i, n-1, 1):\n",
    "        print(\" \",end='')\n",
    "        \n",
    "    for nums in range(n-i, n+1, 1):\n",
    "        print(nums,end='')\n",
    "        \n",
    "    print()\n",
    "        "
   ]
  },
  {
   "cell_type": "code",
   "execution_count": 547,
   "id": "13ec98db",
   "metadata": {},
   "outputs": [
    {
     "name": "stdout",
     "output_type": "stream",
     "text": [
      "5\n",
      "  *\n",
      " ***\n",
      "*****\n",
      "   *\n",
      "   *\n"
     ]
    }
   ],
   "source": [
    "n= int(input())\n",
    "\n",
    "p= (n+1)//2\n",
    "q= (n)//2\n",
    "\n",
    "for i in range(1, p+1):\n",
    "    \n",
    "    for s in range(1, p-i+1, 1):\n",
    "        print(' ', end='')\n",
    "        \n",
    "    for st in range(1, 2*i, 1):\n",
    "        print('*', end='')\n",
    "        \n",
    "        \n",
    "    print()\n",
    "    \n",
    "for j in range(1, q+1):\n",
    "    \n",
    "    for s in range(1, i+1, 1):\n",
    "        print(' ', end='')\n",
    "        \n",
    "    for st in range(1, 2*q-2):\n",
    "        print('*', end='')\n",
    "        \n",
    "        \n",
    "    print()\n",
    "\n",
    "  "
   ]
  },
  {
   "cell_type": "code",
   "execution_count": 544,
   "id": "b8d9a6e5",
   "metadata": {},
   "outputs": [
    {
     "name": "stdout",
     "output_type": "stream",
     "text": [
      "    *\n",
      "   ***\n",
      "  *****\n",
      " *******\n",
      "  *****\n",
      "   ***\n",
      "    *\n"
     ]
    }
   ],
   "source": [
    "n= 7\n",
    "p= (n+1)//2\n",
    "q= (n)//2\n",
    "j=q\n",
    "i=1\n",
    "while i<=p:\n",
    "    s=0\n",
    "    while s<=p-i:\n",
    "        print(\" \", end='')\n",
    "        s+=1\n",
    "    st=1\n",
    "    while st<=(2*i)-1:\n",
    "        print(\"*\", end='')\n",
    "        st+=1\n",
    "    i+=1\n",
    "    print()\n",
    "\n",
    "\n",
    "\n",
    "while j>0:\n",
    "    ss=1\n",
    "    while ss<=q-j+2:\n",
    "        print(\" \", end='')\n",
    "        ss+=1\n",
    "    star=1\n",
    "    while star<=2*j-1:\n",
    "        print(\"*\", end='')\n",
    "        star+=1\n",
    "    j-=1\n",
    "    print()  "
   ]
  }
 ],
 "metadata": {
  "kernelspec": {
   "display_name": "Python 3 (ipykernel)",
   "language": "python",
   "name": "python3"
  },
  "language_info": {
   "codemirror_mode": {
    "name": "ipython",
    "version": 3
   },
   "file_extension": ".py",
   "mimetype": "text/x-python",
   "name": "python",
   "nbconvert_exporter": "python",
   "pygments_lexer": "ipython3",
   "version": "3.10.2"
  }
 },
 "nbformat": 4,
 "nbformat_minor": 5
}
