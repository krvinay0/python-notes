{
 "cells": [
  {
   "cell_type": "markdown",
   "id": "73383381",
   "metadata": {},
   "source": [
    "####  while a string is a contiguous sequence of characters.\n",
    "####  In Python, a string is a sequence of Unicode characters.\n",
    "#### an other language a string is a sequence of ASCII characters.\n",
    "\n",
    "\n",
    "##### Note: Unicode was introduced to include every character in all languages and bring uniformity in encoding. You can learn more about Unicode from Python Unicode. Given below are some examples of Unicode Encoding:\n",
    "###### string ='pythön!' → Default UTF-8 Encoding: b'pyth\\xc3\\xb6n!'\n",
    "###### string ='python!'→ Default UTF-8 Encoding: b'python!'\n",
    "\n",
    "\n",
    "####  Python strings are immutable, which means they cannot be altered after they are created.\n",
    "\n",
    "#### Strings can be created by enclosing a sequence of characters inside a single quote or double-quotes.\n",
    "##### Note: We can use triple quotes to create docstrings and/or multiline strings.\n",
    "\n"
   ]
  },
  {
   "cell_type": "code",
   "execution_count": 1,
   "id": "c629ae55",
   "metadata": {},
   "outputs": [
    {
     "name": "stdout",
     "output_type": "stream",
     "text": [
      "First line\n",
      "Second line\n"
     ]
    }
   ],
   "source": [
    "# If you wish to print a string in a new line you can use \n",
    "# the new line character '\\n'. This is\n",
    "# used within the strings. For example:\n",
    "print('First line\\nSecond line')\n"
   ]
  },
  {
   "cell_type": "code",
   "execution_count": 1,
   "id": "aa908169",
   "metadata": {},
   "outputs": [
    {
     "name": "stdout",
     "output_type": "stream",
     "text": [
      " my name is vinay\n"
     ]
    }
   ],
   "source": [
    "print(\" my name is vinay\")"
   ]
  },
  {
   "cell_type": "code",
   "execution_count": 2,
   "id": "825fe94b",
   "metadata": {},
   "outputs": [
    {
     "ename": "SyntaxError",
     "evalue": "unterminated string literal (detected at line 1) (1227818303.py, line 1)",
     "output_type": "error",
     "traceback": [
      "\u001b[1;36m  Input \u001b[1;32mIn [2]\u001b[1;36m\u001b[0m\n\u001b[1;33m    print(\" my\u001b[0m\n\u001b[1;37m          ^\u001b[0m\n\u001b[1;31mSyntaxError\u001b[0m\u001b[1;31m:\u001b[0m unterminated string literal (detected at line 1)\n"
     ]
    }
   ],
   "source": [
    "a=\"my \n",
    "      name \n",
    "      is \n",
    "      vinay\"\n",
    "print(a)"
   ]
  },
  {
   "cell_type": "code",
   "execution_count": 6,
   "id": "85f1cbdf",
   "metadata": {},
   "outputs": [
    {
     "name": "stdout",
     "output_type": "stream",
     "text": [
      " my \n",
      "name \n",
      "is \n",
      "vinay\n"
     ]
    }
   ],
   "source": [
    "a= \"\"\" my \n",
    "name \n",
    "is \n",
    "vinay\"\"\"\n",
    "print(a)"
   ]
  },
  {
   "cell_type": "code",
   "execution_count": 2,
   "id": "9324dc05",
   "metadata": {},
   "outputs": [
    {
     "name": "stdout",
     "output_type": "stream",
     "text": [
      "h\n",
      "l\n",
      "o\n"
     ]
    }
   ],
   "source": [
    "# Accessing Characters in a String\n",
    "s= \"hello\"\n",
    "print(s[0]) #Output: h\n",
    "print(s[2]) #Output: l\n",
    "print(s[4]) #Output: o\n"
   ]
  },
  {
   "cell_type": "code",
   "execution_count": 3,
   "id": "7bb9140c",
   "metadata": {},
   "outputs": [
    {
     "name": "stdout",
     "output_type": "stream",
     "text": [
      "o\n",
      "l\n",
      "l\n"
     ]
    }
   ],
   "source": [
    "# Negative Indexing\n",
    "\n",
    "s= \"hello\"\n",
    "print(s[-1]) #Output: o\n",
    "print(s[-2]) #Output: l\n",
    "print(s[-3]) #Output: l\n"
   ]
  },
  {
   "cell_type": "code",
   "execution_count": 14,
   "id": "60dfde47",
   "metadata": {},
   "outputs": [
    {
     "data": {
      "text/plain": [
       "'\\n'"
      ]
     },
     "execution_count": 14,
     "metadata": {},
     "output_type": "execute_result"
    }
   ],
   "source": [
    "a= \"\"\"my\n",
    "name\n",
    "is\n",
    "vinay\"\"\"\n",
    "\n",
    "a[2]"
   ]
  },
  {
   "cell_type": "code",
   "execution_count": 16,
   "id": "20177b50",
   "metadata": {},
   "outputs": [
    {
     "name": "stdout",
     "output_type": "stream",
     "text": [
      "m\n",
      "y\n",
      "\n",
      "\n",
      "n\n",
      "a\n",
      "m\n",
      "e\n"
     ]
    }
   ],
   "source": [
    "print(a[0])\n",
    "print(a[1])\n",
    "print(a[2])\n",
    "print(a[3])\n",
    "print(a[4])\n",
    "print(a[5])\n",
    "print(a[6])"
   ]
  },
  {
   "cell_type": "code",
   "execution_count": 18,
   "id": "638d59e7",
   "metadata": {},
   "outputs": [
    {
     "data": {
      "text/plain": [
       "'my\\nname\\nis\\nvinay'"
      ]
     },
     "execution_count": 18,
     "metadata": {},
     "output_type": "execute_result"
    }
   ],
   "source": [
    "a"
   ]
  },
  {
   "cell_type": "code",
   "execution_count": 19,
   "id": "bba0f693",
   "metadata": {},
   "outputs": [
    {
     "ename": "TypeError",
     "evalue": "'str' object does not support item assignment",
     "output_type": "error",
     "traceback": [
      "\u001b[1;31m---------------------------------------------------------------------------\u001b[0m",
      "\u001b[1;31mTypeError\u001b[0m                                 Traceback (most recent call last)",
      "Input \u001b[1;32mIn [19]\u001b[0m, in \u001b[0;36m<module>\u001b[1;34m\u001b[0m\n\u001b[0;32m      1\u001b[0m s\u001b[38;5;241m=\u001b[39m\u001b[38;5;124m\"\u001b[39m\u001b[38;5;124mabcd\u001b[39m\u001b[38;5;124m\"\u001b[39m\n\u001b[1;32m----> 2\u001b[0m s[\u001b[38;5;241m0\u001b[39m]\u001b[38;5;241m=\u001b[39m\u001b[38;5;124m'\u001b[39m\u001b[38;5;124mc\u001b[39m\u001b[38;5;124m'\u001b[39m\n\u001b[0;32m      3\u001b[0m \u001b[38;5;28mprint\u001b[39m(s)\n",
      "\u001b[1;31mTypeError\u001b[0m: 'str' object does not support item assignment"
     ]
    }
   ],
   "source": [
    "s=\"abcd\"\n",
    "s[0]='c'\n",
    "print(s) \n"
   ]
  },
  {
   "cell_type": "code",
   "execution_count": 25,
   "id": "4117681d",
   "metadata": {},
   "outputs": [
    {
     "name": "stdout",
     "output_type": "stream",
     "text": [
      "They are same\n"
     ]
    }
   ],
   "source": [
    "s =\"abcd\"\n",
    "a = \"abcd\"\n",
    "if id(s) == id(a):\n",
    "    print(\"They are same\")\n",
    "else:\n",
    "    print(\"They are not same\")"
   ]
  },
  {
   "cell_type": "code",
   "execution_count": 27,
   "id": "3f223056",
   "metadata": {},
   "outputs": [
    {
     "name": "stdout",
     "output_type": "stream",
     "text": [
      "c\n"
     ]
    }
   ],
   "source": [
    "s = \"abcd\"\n",
    "print(s[-2])"
   ]
  },
  {
   "cell_type": "code",
   "execution_count": 7,
   "id": "3b68a68e",
   "metadata": {},
   "outputs": [
    {
     "name": "stdout",
     "output_type": "stream",
     "text": [
      "str1 + str2 =  HelloWorld!\n"
     ]
    }
   ],
   "source": [
    "# Concatenation Of Strings\n",
    "str1 = 'Hello'\n",
    "str2 ='World!'\n",
    "print('str1 + str2 = ', str1 + str2)"
   ]
  },
  {
   "cell_type": "code",
   "execution_count": 9,
   "id": "ed4be720",
   "metadata": {},
   "outputs": [
    {
     "name": "stdout",
     "output_type": "stream",
     "text": [
      "hellohellohello\n"
     ]
    }
   ],
   "source": [
    "# Repeating/Replicating Strings\n",
    "s= \"hello\"\n",
    "print(s*3) #s*3 will produce a new string with s repeated thrice\n"
   ]
  },
  {
   "cell_type": "code",
   "execution_count": 28,
   "id": "6fef2dee",
   "metadata": {},
   "outputs": [
    {
     "name": "stdout",
     "output_type": "stream",
     "text": [
      "abcd\n"
     ]
    }
   ],
   "source": [
    "s = \"abcd\"\n",
    "b = s + \"ef\"\n",
    "print(s)"
   ]
  },
  {
   "cell_type": "code",
   "execution_count": 29,
   "id": "493c94c8",
   "metadata": {},
   "outputs": [
    {
     "ename": "TypeError",
     "evalue": "can only concatenate str (not \"int\") to str",
     "output_type": "error",
     "traceback": [
      "\u001b[1;31m---------------------------------------------------------------------------\u001b[0m",
      "\u001b[1;31mTypeError\u001b[0m                                 Traceback (most recent call last)",
      "Input \u001b[1;32mIn [29]\u001b[0m, in \u001b[0;36m<module>\u001b[1;34m\u001b[0m\n\u001b[0;32m      1\u001b[0m s \u001b[38;5;241m=\u001b[39m \u001b[38;5;124m\"\u001b[39m\u001b[38;5;124mabcd\u001b[39m\u001b[38;5;124m\"\u001b[39m\n\u001b[1;32m----> 2\u001b[0m b \u001b[38;5;241m=\u001b[39m \u001b[43ms\u001b[49m\u001b[43m \u001b[49m\u001b[38;5;241;43m+\u001b[39;49m\u001b[43m \u001b[49m\u001b[38;5;241;43m2\u001b[39;49m\n\u001b[0;32m      3\u001b[0m \u001b[38;5;28mprint\u001b[39m(b)\n",
      "\u001b[1;31mTypeError\u001b[0m: can only concatenate str (not \"int\") to str"
     ]
    }
   ],
   "source": [
    "s = \"abcd\"\n",
    "b = s + 2\n",
    "print(b)"
   ]
  },
  {
   "cell_type": "code",
   "execution_count": 12,
   "id": "e3b9273b",
   "metadata": {},
   "outputs": [
    {
     "name": "stdout",
     "output_type": "stream",
     "text": [
      "ceg\n",
      "cdefg\n"
     ]
    }
   ],
   "source": [
    "# String Slicing\n",
    "# slice= <String Name>[StartIndex : StopIndex : Steps]\n",
    "\n",
    "s = \"abcdefghi\"\n",
    "print(s[2:7:2])\n",
    "print(s[2:7:1])\n"
   ]
  },
  {
   "cell_type": "code",
   "execution_count": 16,
   "id": "d0bd92c4",
   "metadata": {},
   "outputs": [
    {
     "name": "stdout",
     "output_type": "stream",
     "text": [
      "cdefg\n",
      "ceg\n",
      "gec\n"
     ]
    }
   ],
   "source": [
    "# Slice Using Negative Indices\n",
    "s = \"abcdefghi\"\n",
    "print(s[-7:-2])\n",
    "print(s[-7:-2: 2]) # Specify Step of the Slicing\n",
    "\n",
    "print(s[6:1:-2]) # negative step size:\n"
   ]
  },
  {
   "cell_type": "code",
   "execution_count": 59,
   "id": "677aeeb5",
   "metadata": {},
   "outputs": [
    {
     "name": "stdout",
     "output_type": "stream",
     "text": [
      "abc\n"
     ]
    }
   ],
   "source": [
    "# Slice the first three items from the string\n",
    "s = \"abcdefghi\"\n",
    "print(s[:3])"
   ]
  },
  {
   "cell_type": "code",
   "execution_count": 60,
   "id": "ce1d509e",
   "metadata": {},
   "outputs": [
    {
     "name": "stdout",
     "output_type": "stream",
     "text": [
      "i\n"
     ]
    }
   ],
   "source": [
    "# Slice the first three items from the string\n",
    "s = \"abcdefghi\"\n",
    "print(s[-1])"
   ]
  },
  {
   "cell_type": "code",
   "execution_count": 71,
   "id": "2a7e65ad",
   "metadata": {},
   "outputs": [
    {
     "name": "stdout",
     "output_type": "stream",
     "text": [
      "ihgfedcba\n"
     ]
    }
   ],
   "source": [
    "# Slice the first three items from the string\n",
    "s = \"abcdefghi\"\n",
    "print(s[::-1])"
   ]
  },
  {
   "cell_type": "code",
   "execution_count": 17,
   "id": "a0e3be0a",
   "metadata": {},
   "outputs": [
    {
     "name": "stdout",
     "output_type": "stream",
     "text": [
      "ghi\n"
     ]
    }
   ],
   "source": [
    "# Slice the last three items from the string\n",
    "s = \"abcdefghi\"\n",
    "print(s[6:])"
   ]
  },
  {
   "cell_type": "code",
   "execution_count": null,
   "id": "88f4932f",
   "metadata": {},
   "outputs": [],
   "source": [
    "# Comparing Strings"
   ]
  },
  {
   "cell_type": "code",
   "execution_count": 35,
   "id": "16441e10",
   "metadata": {},
   "outputs": [
    {
     "name": "stdout",
     "output_type": "stream",
     "text": [
      "1\n",
      "3\n",
      "5\n",
      "7\n",
      "9\n"
     ]
    }
   ],
   "source": [
    "# Iterating On Strings\n",
    "s=\"13579\"\n",
    "# Using for loop\n",
    "for i in s:\n",
    "    print(i) #Print the character in the string\n"
   ]
  },
  {
   "cell_type": "code",
   "execution_count": 37,
   "id": "10e37cf7",
   "metadata": {},
   "outputs": [
    {
     "name": "stdout",
     "output_type": "stream",
     "text": [
      "1\n",
      "3\n",
      "5\n",
      "7\n",
      "9\n"
     ]
    }
   ],
   "source": [
    "# Using for loop and range()\n",
    "\n",
    "s=\"13579\"\n",
    "length = len(s) #Getting the length of the string\n",
    "for i in range(length): #Iterations from 0 to (length-1)\n",
    " print(s[i])"
   ]
  },
  {
   "cell_type": "code",
   "execution_count": 40,
   "id": "2cd46994",
   "metadata": {},
   "outputs": [],
   "source": [
    "str = \"hello world\""
   ]
  },
  {
   "cell_type": "code",
   "execution_count": 42,
   "id": "9f59713a",
   "metadata": {},
   "outputs": [
    {
     "name": "stdout",
     "output_type": "stream",
     "text": [
      "3\n"
     ]
    }
   ],
   "source": [
    "count = 0\n",
    "for letter in str:\n",
    "    if(letter == \"l\"):\n",
    "        count+=1\n",
    "print(count)\n"
   ]
  },
  {
   "cell_type": "code",
   "execution_count": 44,
   "id": "37dd05fb",
   "metadata": {},
   "outputs": [
    {
     "name": "stdout",
     "output_type": "stream",
     "text": [
      "3\n"
     ]
    }
   ],
   "source": [
    "count = 0\n",
    "for letter in range(len(str)):\n",
    "    if(str[letter] == \"l\"):\n",
    "        count+=1\n",
    "print(count)"
   ]
  },
  {
   "cell_type": "code",
   "execution_count": 45,
   "id": "9fef4fcd",
   "metadata": {},
   "outputs": [
    {
     "name": "stdout",
     "output_type": "stream",
     "text": [
      "Yes it is a substring\n"
     ]
    }
   ],
   "source": [
    "if \"hel\" in str:\n",
    "    print(\"Yes it is a substring\")\n",
    "else:\n",
    "    print(\"Not a substring\")"
   ]
  },
  {
   "cell_type": "code",
   "execution_count": 46,
   "id": "9791c314",
   "metadata": {},
   "outputs": [
    {
     "name": "stdout",
     "output_type": "stream",
     "text": [
      "Yes it is not a substring\n"
     ]
    }
   ],
   "source": [
    "if \"heo\" not in str:\n",
    "    print(\"Yes it is not a substring\")\n",
    "else:\n",
    "    print(\"No it is a substring\")"
   ]
  },
  {
   "cell_type": "code",
   "execution_count": 48,
   "id": "a033ec64",
   "metadata": {},
   "outputs": [
    {
     "data": {
      "text/plain": [
       "True"
      ]
     },
     "execution_count": 48,
     "metadata": {},
     "output_type": "execute_result"
    }
   ],
   "source": [
    "# comparison operator on string\n",
    "a = \"vinay\" == \"vinay\"\n",
    "a"
   ]
  },
  {
   "cell_type": "code",
   "execution_count": 49,
   "id": "f674832b",
   "metadata": {},
   "outputs": [
    {
     "data": {
      "text/plain": [
       "False"
      ]
     },
     "execution_count": 49,
     "metadata": {},
     "output_type": "execute_result"
    }
   ],
   "source": [
    "a = \"vinay\" != \"vinay\"\n",
    "a"
   ]
  },
  {
   "cell_type": "code",
   "execution_count": 51,
   "id": "1a163f3c",
   "metadata": {},
   "outputs": [
    {
     "data": {
      "text/plain": [
       "True"
      ]
     },
     "execution_count": 51,
     "metadata": {},
     "output_type": "execute_result"
    }
   ],
   "source": [
    "a = \"vinay\" >= \"vinay\"\n",
    "a"
   ]
  },
  {
   "cell_type": "code",
   "execution_count": 52,
   "id": "72391608",
   "metadata": {},
   "outputs": [
    {
     "data": {
      "text/plain": [
       "True"
      ]
     },
     "execution_count": 52,
     "metadata": {},
     "output_type": "execute_result"
    }
   ],
   "source": [
    "a = \"vinay\" <= \"vinay\"\n",
    "a"
   ]
  },
  {
   "cell_type": "code",
   "execution_count": 53,
   "id": "7789cfa0",
   "metadata": {},
   "outputs": [
    {
     "data": {
      "text/plain": [
       "False"
      ]
     },
     "execution_count": 53,
     "metadata": {},
     "output_type": "execute_result"
    }
   ],
   "source": [
    "a = \"vinay\" > \"vinay\"\n",
    "a"
   ]
  },
  {
   "cell_type": "code",
   "execution_count": 54,
   "id": "6382e803",
   "metadata": {},
   "outputs": [
    {
     "data": {
      "text/plain": [
       "False"
      ]
     },
     "execution_count": 54,
     "metadata": {},
     "output_type": "execute_result"
    }
   ],
   "source": [
    "a = \"vinay\" < \"vinay\"\n",
    "a"
   ]
  },
  {
   "cell_type": "code",
   "execution_count": 76,
   "id": "26f2f245",
   "metadata": {},
   "outputs": [
    {
     "name": "stdout",
     "output_type": "stream",
     "text": [
      "viv\n",
      "true\n"
     ]
    }
   ],
   "source": [
    "def checkPalindrome(num):\n",
    "    temp = num\n",
    "    rev  = num[::-1]\n",
    "    if(rev == temp):\n",
    "        return True\n",
    "    else:\n",
    "        return False\n",
    "\n",
    "num = input()\n",
    "isPalindrome = checkPalindrome(num)\n",
    "if(isPalindrome):\n",
    "    print('true')\n",
    "else:\n",
    "    print('false')"
   ]
  },
  {
   "cell_type": "code",
   "execution_count": 85,
   "id": "f723efb4",
   "metadata": {},
   "outputs": [
    {
     "name": "stdout",
     "output_type": "stream",
     "text": [
      "n\n"
     ]
    }
   ],
   "source": [
    "str = \"vinay\"\n",
    "print(str[2])"
   ]
  },
  {
   "cell_type": "code",
   "execution_count": 107,
   "id": "0c60e2f5",
   "metadata": {},
   "outputs": [
    {
     "name": "stdout",
     "output_type": "stream",
     "text": [
      "True\n"
     ]
    }
   ],
   "source": [
    "a_string = 'Was it a car or a cat I saw'\n",
    "\n",
    "def palindrome(string):\n",
    "    string = string.lower().replace(' ', '')\n",
    "    reversed_string = ''.join(reversed(string))\n",
    "    return string == reversed_string\n",
    "print(palindrome(a_string))"
   ]
  },
  {
   "cell_type": "code",
   "execution_count": 108,
   "id": "1d9fac12",
   "metadata": {},
   "outputs": [
    {
     "name": "stdout",
     "output_type": "stream",
     "text": [
      "True\n"
     ]
    }
   ],
   "source": [
    "a_string = 'Was it a car or a cat I saw'\n",
    "def palindrome(string):\n",
    "    string = string.lower().replace(' ', '')\n",
    "    reversed = ''\n",
    "    for i in range(len(string), 0, -1):\n",
    "        reversed += string[i-1]\n",
    "    return string == reversed\n",
    "print(palindrome(a_string))"
   ]
  },
  {
   "cell_type": "code",
   "execution_count": 109,
   "id": "635dabf8",
   "metadata": {},
   "outputs": [
    {
     "name": "stdout",
     "output_type": "stream",
     "text": [
      "True\n"
     ]
    }
   ],
   "source": [
    "a_string = 'Was it a car or a cat I saw'\n",
    "def palindrome(string):\n",
    "    string = string.lower().replace(' ', '')\n",
    "    first, last = 0, len(string) - 1\n",
    "    while(first < last):\n",
    "        if(string[first] == string[last]):\n",
    "            first += 1\n",
    "            last -= 1\n",
    "        else:\n",
    "            return False\n",
    "    return True\n",
    "\n",
    "print(palindrome(a_string))"
   ]
  },
  {
   "cell_type": "code",
   "execution_count": 111,
   "id": "4a735166",
   "metadata": {},
   "outputs": [
    {
     "name": "stdout",
     "output_type": "stream",
     "text": [
      "True\n"
     ]
    }
   ],
   "source": [
    "a_string = 'Was it a car or a cat I saw'\n",
    "def palindrome(string):\n",
    "#     string = string.lower().replace(' ', '')\n",
    "    first, last = 0, len(string) - 1\n",
    "    while(first < last):\n",
    "        if(string[first] == string[last]):\n",
    "            first += 1\n",
    "            last -= 1\n",
    "        else:\n",
    "            return False\n",
    "    return True\n",
    "\n",
    "print(palindrome(a_string))"
   ]
  },
  {
   "cell_type": "code",
   "execution_count": 112,
   "id": "2d98be70",
   "metadata": {},
   "outputs": [
    {
     "name": "stdout",
     "output_type": "stream",
     "text": [
      "True\n"
     ]
    }
   ],
   "source": [
    "a = \"abce\" >= \"abcdef\"\n",
    "print(a)"
   ]
  },
  {
   "cell_type": "code",
   "execution_count": 115,
   "id": "ff474bf8",
   "metadata": {},
   "outputs": [
    {
     "name": "stdout",
     "output_type": "stream",
     "text": [
      "4 6\n"
     ]
    }
   ],
   "source": [
    "a = \"abce\" >= \"abcdef\"\n",
    "print(len(\"abce\"), len(\"abcdef\"))"
   ]
  },
  {
   "cell_type": "markdown",
   "id": "86cbcfaf",
   "metadata": {},
   "source": [
    "## split"
   ]
  },
  {
   "cell_type": "code",
   "execution_count": 116,
   "id": "8f9bd770",
   "metadata": {},
   "outputs": [
    {
     "name": "stdout",
     "output_type": "stream",
     "text": [
      "['my', 'name', 'is', 'Viany']\n"
     ]
    }
   ],
   "source": [
    "str = \" my name is Viany\"\n",
    "li =  str.split()\n",
    "print(li)"
   ]
  },
  {
   "cell_type": "code",
   "execution_count": 118,
   "id": "5375a8d2",
   "metadata": {},
   "outputs": [
    {
     "name": "stdout",
     "output_type": "stream",
     "text": [
      "[' my', 'name', 'is', 'Viany']\n"
     ]
    }
   ],
   "source": [
    "str = \" my,name,is,Viany\"\n",
    "li =  str.split(\",\")\n",
    "print(li)"
   ]
  },
  {
   "cell_type": "markdown",
   "id": "3c32d30e",
   "metadata": {},
   "source": [
    "## replace"
   ]
  },
  {
   "cell_type": "code",
   "execution_count": 120,
   "id": "545ef5d2",
   "metadata": {},
   "outputs": [
    {
     "name": "stdout",
     "output_type": "stream",
     "text": [
      " my name is Archana\n"
     ]
    }
   ],
   "source": [
    "str = \" my name is Viany\"\n",
    "li =  str.replace(\"Viany\", \"Archana\")\n",
    "print(li)"
   ]
  },
  {
   "cell_type": "code",
   "execution_count": 121,
   "id": "4db77afc",
   "metadata": {},
   "outputs": [
    {
     "name": "stdout",
     "output_type": "stream",
     "text": [
      " my name is  Archana Archana Archana Archana\n"
     ]
    }
   ],
   "source": [
    "str = \" my name is  Viany Viany Viany Viany\"\n",
    "li =  str.replace(\"Viany\", \"Archana\")\n",
    "print(li)"
   ]
  },
  {
   "cell_type": "code",
   "execution_count": 122,
   "id": "f7f5feb0",
   "metadata": {},
   "outputs": [
    {
     "name": "stdout",
     "output_type": "stream",
     "text": [
      " my name is  Archana Archana Viany Viany\n"
     ]
    }
   ],
   "source": [
    "str = \" my name is  Viany Viany Viany Viany\"\n",
    "li =  str.replace(\"Viany\", \"Archana\", 2)\n",
    "print(li)"
   ]
  },
  {
   "cell_type": "code",
   "execution_count": 133,
   "id": "0aea5511",
   "metadata": {},
   "outputs": [
    {
     "name": "stdout",
     "output_type": "stream",
     "text": [
      " my name is  Vinay Vinay Vinay Vinay\n"
     ]
    }
   ],
   "source": [
    "str = \" my name is  Vinay Vinay Vinay Vinay\"\n",
    "li =  str.replace(\"vinay\", \"Archana\")\n",
    "print(li)"
   ]
  },
  {
   "cell_type": "markdown",
   "id": "7b561e0a",
   "metadata": {},
   "source": [
    "## Find"
   ]
  },
  {
   "cell_type": "code",
   "execution_count": 134,
   "id": "b7b62888",
   "metadata": {},
   "outputs": [
    {
     "name": "stdout",
     "output_type": "stream",
     "text": [
      "3\n"
     ]
    }
   ],
   "source": [
    "str = \"my name is  Vinay\"\n",
    "li =  str.find(\"n\")\n",
    "print(li)"
   ]
  },
  {
   "cell_type": "code",
   "execution_count": 135,
   "id": "b74d2d0e",
   "metadata": {},
   "outputs": [
    {
     "name": "stdout",
     "output_type": "stream",
     "text": [
      "-1\n"
     ]
    }
   ],
   "source": [
    "str = \"my name is  Vinay\"\n",
    "li =  str.find(\"nm\") #no match\n",
    "print(li)"
   ]
  },
  {
   "cell_type": "code",
   "execution_count": 137,
   "id": "8237e4fc",
   "metadata": {},
   "outputs": [
    {
     "name": "stdout",
     "output_type": "stream",
     "text": [
      "-1\n"
     ]
    }
   ],
   "source": [
    "str = \"my name is Vinay\"\n",
    "li =  str.find(\"Vinay\", 10 , 15)\n",
    "print(li)"
   ]
  },
  {
   "cell_type": "code",
   "execution_count": 146,
   "id": "9de9f88a",
   "metadata": {},
   "outputs": [
    {
     "name": "stdout",
     "output_type": "stream",
     "text": [
      "11\n"
     ]
    }
   ],
   "source": [
    "str = \"my name is Vinay\"\n",
    "li =  str.find(\"Vinay\", 11, 16)\n",
    "print(li)"
   ]
  },
  {
   "cell_type": "markdown",
   "id": "6eb2ef72",
   "metadata": {},
   "source": [
    "##  Lower and Upper"
   ]
  },
  {
   "cell_type": "code",
   "execution_count": 148,
   "id": "09db4c69",
   "metadata": {},
   "outputs": [
    {
     "name": "stdout",
     "output_type": "stream",
     "text": [
      "my name is vinay\n"
     ]
    }
   ],
   "source": [
    "str = \"my name is Vinay\"\n",
    "li =  str.lower()\n",
    "print(li)"
   ]
  },
  {
   "cell_type": "code",
   "execution_count": 149,
   "id": "9f8b18b2",
   "metadata": {},
   "outputs": [
    {
     "name": "stdout",
     "output_type": "stream",
     "text": [
      "MY NAME IS VINAY\n"
     ]
    }
   ],
   "source": [
    "str = \"my name is Vinay\"\n",
    "li =  str.upper()\n",
    "print(li)"
   ]
  },
  {
   "cell_type": "code",
   "execution_count": null,
   "id": "0a1d41b3",
   "metadata": {},
   "outputs": [],
   "source": [
    "str = \"my name is Vinay\"\n",
    "li =  str.find(\"Vinay\", 8 , 15)\n",
    "print(li)"
   ]
  },
  {
   "cell_type": "markdown",
   "id": "d10001f2",
   "metadata": {},
   "source": [
    "## Startwith"
   ]
  },
  {
   "cell_type": "code",
   "execution_count": 151,
   "id": "cfbaa79c",
   "metadata": {},
   "outputs": [
    {
     "name": "stdout",
     "output_type": "stream",
     "text": [
      "False\n"
     ]
    }
   ],
   "source": [
    "str = \"my name is Vinay\"\n",
    "li =  str.startswith(\"Vinay\")\n",
    "print(li)"
   ]
  },
  {
   "cell_type": "code",
   "execution_count": 152,
   "id": "adae90eb",
   "metadata": {},
   "outputs": [
    {
     "name": "stdout",
     "output_type": "stream",
     "text": [
      "True\n"
     ]
    }
   ],
   "source": [
    "str = \"my name is Vinay\"\n",
    "li =  str.startswith(\"my\")\n",
    "print(li)"
   ]
  },
  {
   "cell_type": "code",
   "execution_count": 154,
   "id": "b182d934",
   "metadata": {},
   "outputs": [
    {
     "name": "stdout",
     "output_type": "stream",
     "text": [
      "False\n"
     ]
    }
   ],
   "source": [
    "str = \"my name is Vinay\"\n",
    "li =  str.startswith(\"My nam\")\n",
    "print(li)"
   ]
  },
  {
   "cell_type": "code",
   "execution_count": 155,
   "id": "0f70a606",
   "metadata": {},
   "outputs": [
    {
     "name": "stdout",
     "output_type": "stream",
     "text": [
      "True\n"
     ]
    }
   ],
   "source": [
    "str = \"my name is Vinay\"\n",
    "li =  str.startswith(\"my nam\")\n",
    "print(li)"
   ]
  },
  {
   "cell_type": "code",
   "execution_count": 157,
   "id": "6a68f3ed",
   "metadata": {},
   "outputs": [
    {
     "name": "stdout",
     "output_type": "stream",
     "text": [
      "True\n"
     ]
    }
   ],
   "source": [
    "str = \"my name is Vinay\"\n",
    "li =  str.startswith(\"Vinay\", 11, 20)\n",
    "print(li)"
   ]
  },
  {
   "cell_type": "markdown",
   "id": "c100dd7a",
   "metadata": {},
   "source": [
    "## replaceChar"
   ]
  },
  {
   "cell_type": "code",
   "execution_count": 176,
   "id": "47a72244",
   "metadata": {},
   "outputs": [
    {
     "name": "stdout",
     "output_type": "stream",
     "text": [
      "Hello_Hello_Hello_Hello_Hello_\n"
     ]
    }
   ],
   "source": [
    "def replaceChar(str, char1, char2):\n",
    "    newstr = \"\"\n",
    "    for char in str:\n",
    "        if(char == char1):\n",
    "            newstr = newstr + char2\n",
    "        else:\n",
    "            newstr = newstr + char\n",
    "    return newstr\n",
    "            \n",
    "        \n",
    "\n",
    "\n",
    "str = \"hello_hello_hello_hello_hello_\"\n",
    "print(replaceChar(str, \"h\", \"H\"))"
   ]
  },
  {
   "cell_type": "code",
   "execution_count": 55,
   "id": "3e80adac",
   "metadata": {},
   "outputs": [
    {
     "data": {
      "text/plain": [
       "['g', 'e', 'e', 'k', 's', 'f', 'o', 'r', 'g', 'e', 'e', 'k', 's']"
      ]
     },
     "execution_count": 55,
     "metadata": {},
     "output_type": "execute_result"
    }
   ],
   "source": [
    "S1 = \"geeksforgeeks\"\n",
    "S1 = list(S1.rstrip())\n",
    "S1"
   ]
  },
  {
   "cell_type": "markdown",
   "id": "b4df0bed",
   "metadata": {},
   "source": [
    "## count number of vowels, consonants, digits, special characters in string"
   ]
  },
  {
   "cell_type": "code",
   "execution_count": 238,
   "id": "db4a6e41",
   "metadata": {},
   "outputs": [
    {
     "name": "stdout",
     "output_type": "stream",
     "text": [
      "10 15 5 10\n"
     ]
    }
   ],
   "source": [
    "def countInStr(str):\n",
    "    v, c, d, s = 0, 0, 0, 0\n",
    "    \n",
    "    for char in str:\n",
    "        if ((char >='a' and char <= \"z\") or (char >='A' and char <= \"Z\")):\n",
    "            char = char.lower()\n",
    "            if (char == 'a' or char == \"e\" or char == 'i' or char == \"o\" or char == 'u'):\n",
    "                v+=1\n",
    "            else:\n",
    "                c+=1\n",
    "        elif(char >='0' and char <= \"9\"):\n",
    "            d+=1\n",
    "        else:\n",
    "            s+=1\n",
    "    return v,c,d,s \n",
    "\n",
    "\n",
    "\n",
    "str = \"hello_2@hello_2@hello_2@hello_2@hello_2@\"\n",
    "v, c, d, s = countInStr(str)\n",
    "print(v, c, d, s)\n",
    "# print(countInStr(str))"
   ]
  },
  {
   "cell_type": "markdown",
   "id": "f3e482ef",
   "metadata": {},
   "source": [
    "## arePermutation"
   ]
  },
  {
   "cell_type": "code",
   "execution_count": 239,
   "id": "05d8dec1",
   "metadata": {},
   "outputs": [
    {
     "name": "stdout",
     "output_type": "stream",
     "text": [
      "No\n"
     ]
    }
   ],
   "source": [
    "def arePermutation(str1, str2):\n",
    "    n1 = len(str1)\n",
    "    n2 = len(str2)\n",
    "\n",
    "    if (n1 != n2):\n",
    "        return False\n",
    "\n",
    "    a = sorted(str1)\n",
    "    str1 = \" \".join(a)\n",
    "    b = sorted(str2)\n",
    "    str2 = \" \".join(b)\n",
    "\n",
    "\t# Compare sorted strings\n",
    "\tfor i in range(0, n1, 1):\n",
    "\t\tif (str1[i] != str2[i]):\n",
    "\t\t\treturn False\n",
    "\n",
    "\treturn True\n",
    "\n",
    "# Driver Code\n",
    "if __name__ == '__main__':\n",
    "\tstr1 = \"test\"\n",
    "\tstr2 = \"ttew\"\n",
    "\tif (arePermutation(str1, str2)):\n",
    "\t\tprint(\"Yes\")\n",
    "\telse:\n",
    "\t\tprint(\"No\")\n",
    "\n",
    "# This code is contributed by\n",
    "# Sahil_Shelangia\n"
   ]
  },
  {
   "cell_type": "code",
   "execution_count": 264,
   "id": "db8531a8",
   "metadata": {},
   "outputs": [
    {
     "data": {
      "text/plain": [
       "True"
      ]
     },
     "execution_count": 264,
     "metadata": {},
     "output_type": "execute_result"
    }
   ],
   "source": [
    "def fg(string1, string2, n1, n2):\n",
    "    string1 = sorted(string1)\n",
    "    string2 = sorted(string2)\n",
    "    for i in range(0, n1, 1):\n",
    "        if (string1[i] != string2[i]):\n",
    "            return False\n",
    "\n",
    "        return True\n",
    "    \n",
    "    \n",
    "str1 = \"test\"\n",
    "str2 = \"estt\"\n",
    "\n",
    "n1 = len(str1)\n",
    "n2 = len(str2)\n",
    "\n",
    "fg(str1, str2, n1, n2)"
   ]
  },
  {
   "cell_type": "markdown",
   "id": "11942012",
   "metadata": {},
   "source": [
    "## Remove Consecutive Duplicates"
   ]
  },
  {
   "cell_type": "code",
   "execution_count": 58,
   "id": "b38301b2",
   "metadata": {},
   "outputs": [
    {
     "name": "stdout",
     "output_type": "stream",
     "text": [
      "geksforgeks\n"
     ]
    }
   ],
   "source": [
    "def removeDuplicates(S):\n",
    "    n = len(S)\n",
    "    if (n < 2) :\n",
    "        return\n",
    "    j = 0\n",
    "    for i in range(n):\n",
    "        if (S[j] != S[i]):\n",
    "            j += 1\n",
    "            S[j] = S[i]\n",
    "    j += 1\n",
    "    S = S[:j]\n",
    "    return S\n",
    "    \n",
    "\n",
    "S1 = \"aabccbaa\"\n",
    "S1 = list(S1.rstrip())\n",
    "S1 = removeDuplicates(S1)\n",
    "print(*S1, sep = \"\")"
   ]
  },
  {
   "cell_type": "markdown",
   "id": "1c570977",
   "metadata": {},
   "source": [
    "##  Reverse Each Word"
   ]
  },
  {
   "cell_type": "code",
   "execution_count": 314,
   "id": "a16e64c9",
   "metadata": {},
   "outputs": [
    {
     "data": {
      "text/plain": [
       "'emocleW ot gnidoC sajniN '"
      ]
     },
     "execution_count": 314,
     "metadata": {},
     "output_type": "execute_result"
    }
   ],
   "source": [
    "def reverseEachWord(string) :\n",
    "\t# Your code goes here\n",
    "    string = str1.split()\n",
    "    newstr = \"\"\n",
    "    for i in string:\n",
    "        string = i[::-1]\n",
    "        newstr = newstr + string + \" \"\n",
    "    return newstr\n",
    "\n",
    "\n",
    "# str = \"test, i am Vinay\"\n",
    "str1 = \"Welcome to Coding Ninjas\"\n",
    "reverseEachWord(str1)"
   ]
  },
  {
   "cell_type": "markdown",
   "id": "449838a8",
   "metadata": {},
   "source": [
    "## Remove character"
   ]
  },
  {
   "cell_type": "code",
   "execution_count": 321,
   "id": "86b1efa8",
   "metadata": {},
   "outputs": [
    {
     "name": "stdout",
     "output_type": "stream",
     "text": [
      "bccb\n"
     ]
    }
   ],
   "source": [
    "def removeCharacter(string, ch):\n",
    "\n",
    "    newstr = \"\"\n",
    "    \n",
    "    for i in string:\n",
    "        if ch != i:\n",
    "            newstr+=i\n",
    "    return newstr\n",
    "    \n",
    "    \n",
    "    \n",
    "str = \"aabccbaa\"\n",
    "r = 'a'http://localhost:8888/notebooks/Python_Notebook_10.%20String.ipynb#Highest-Occuring-Character\n",
    "removeCharacter(str, r)"
   ]
  },
  {
   "cell_type": "markdown",
   "id": "eb7bb329",
   "metadata": {},
   "source": [
    "## Highest Occuring Character"
   ]
  },
  {
   "cell_type": "code",
   "execution_count": 324,
   "id": "c65aff64",
   "metadata": {},
   "outputs": [
    {
     "name": "stdout",
     "output_type": "stream",
     "text": [
      "97 a\n",
      "98 b\n",
      "100 d\n",
      "101 e\n",
      "102 f\n",
      "103 g\n",
      "98 b\n",
      "97 a\n",
      "98 b\n",
      "102 f\n",
      "98 b\n",
      "97 a\n"
     ]
    }
   ],
   "source": [
    "def highestOccuringCharacter(string):\n",
    "    \n",
    "    count = 0\n",
    "    for i in string:\n",
    "        print(ord(i), i)\n",
    "        \n",
    "#         if ch != i:\n",
    "#             newstr+=i\n",
    "#     return newstr\n",
    "    \n",
    "    \n",
    "    \n",
    "str = \"abdefgbabfba\"\n",
    "r = 'a'\n",
    "highestOccuringCharacter(str)"
   ]
  },
  {
   "cell_type": "code",
   "execution_count": 301,
   "id": "7f2f318b",
   "metadata": {},
   "outputs": [
    {
     "name": "stdout",
     "output_type": "stream",
     "text": [
      "t\n",
      "e\n",
      "s\n",
      "t\n",
      ",\n",
      "i\n",
      "a\n",
      "m\n",
      "V\n",
      "i\n",
      "n\n",
      "a\n",
      "y\n"
     ]
    }
   ],
   "source": [
    "\n",
    "string = \"test, i am Vinay\"\n",
    "\n",
    "\n",
    "for i in range(len(string)):\n",
    "    if string[i] != \" \":\n",
    "            print( string[i])\n",
    "#             st.append(string[i])\n",
    " "
   ]
  },
  {
   "cell_type": "code",
   "execution_count": 47,
   "id": "3332cf60",
   "metadata": {},
   "outputs": [
    {
     "ename": "TypeError",
     "evalue": "'list' object is not callable",
     "output_type": "error",
     "traceback": [
      "\u001b[1;31m---------------------------------------------------------------------------\u001b[0m",
      "\u001b[1;31mTypeError\u001b[0m                                 Traceback (most recent call last)",
      "Input \u001b[1;32mIn [47]\u001b[0m, in \u001b[0;36m<module>\u001b[1;34m\u001b[0m\n\u001b[0;32m     22\u001b[0m     \u001b[38;5;28;01mreturn\u001b[39;00m comp_str\n\u001b[0;32m     26\u001b[0m string \u001b[38;5;241m=\u001b[39m \u001b[38;5;124m\"\u001b[39m\u001b[38;5;124mwwwwaaadexxxxxxywww\u001b[39m\u001b[38;5;124m\"\u001b[39m\n\u001b[1;32m---> 27\u001b[0m \u001b[43mgen_compressed_str\u001b[49m\u001b[43m(\u001b[49m\u001b[43mstring\u001b[49m\u001b[43m)\u001b[49m\n",
      "Input \u001b[1;32mIn [47]\u001b[0m, in \u001b[0;36mgen_compressed_str\u001b[1;34m(string)\u001b[0m\n\u001b[0;32m     16\u001b[0m         comp_str \u001b[38;5;241m=\u001b[39m comp_str \u001b[38;5;241m+\u001b[39m \u001b[38;5;28mstr\u001b[39m(string[ind])\n\u001b[0;32m     17\u001b[0m     \u001b[38;5;28;01melse\u001b[39;00m:\n\u001b[1;32m---> 18\u001b[0m         comp_str \u001b[38;5;241m=\u001b[39m comp_str \u001b[38;5;241m+\u001b[39m \u001b[38;5;28;43mstr\u001b[39;49m\u001b[43m(\u001b[49m\u001b[43mstring\u001b[49m\u001b[43m[\u001b[49m\u001b[43mind\u001b[49m\u001b[43m]\u001b[49m\u001b[43m)\u001b[49m \u001b[38;5;241m+\u001b[39m \u001b[38;5;28mstr\u001b[39m(count)\n\u001b[0;32m     20\u001b[0m     ind \u001b[38;5;241m=\u001b[39m ind \u001b[38;5;241m+\u001b[39m \u001b[38;5;241m1\u001b[39m\n\u001b[0;32m     22\u001b[0m \u001b[38;5;28;01mreturn\u001b[39;00m comp_str\n",
      "\u001b[1;31mTypeError\u001b[0m: 'list' object is not callable"
     ]
    }
   ],
   "source": [
    "\n",
    "ind = 0\n",
    "\n",
    "def gen_compressed_str(string):\n",
    "    global ind\n",
    "    comp_str = \"\"\n",
    "    len_str = len(string)\n",
    "    while (ind <= len_str):\n",
    "        count = 1\n",
    "\n",
    "        while ((ind < (len_str-1)) and (string[ind] == string[ind+1])):\n",
    "            count = count + 1\n",
    "            ind = ind + 1\n",
    "\n",
    "\n",
    "        if (count == 1):\n",
    "            comp_str = comp_str + str(string[ind])\n",
    "        else:\n",
    "            comp_str = comp_str + str(string[ind]) + str(count)\n",
    "    \n",
    "        ind = ind + 1\n",
    "\n",
    "    return comp_str\n",
    "      \n",
    "\n",
    "\n",
    "string = \"wwwwaaadexxxxxxywww\"\n",
    "gen_compressed_str(string)"
   ]
  },
  {
   "cell_type": "code",
   "execution_count": null,
   "id": "7b78e31c",
   "metadata": {},
   "outputs": [],
   "source": []
  }
 ],
 "metadata": {
  "kernelspec": {
   "display_name": "Python 3 (ipykernel)",
   "language": "python",
   "name": "python3"
  },
  "language_info": {
   "codemirror_mode": {
    "name": "ipython",
    "version": 3
   },
   "file_extension": ".py",
   "mimetype": "text/x-python",
   "name": "python",
   "nbconvert_exporter": "python",
   "pygments_lexer": "ipython3",
   "version": "3.10.2"
  }
 },
 "nbformat": 4,
 "nbformat_minor": 5
}
