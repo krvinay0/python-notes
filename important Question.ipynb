{
 "cells": [
  {
   "cell_type": "markdown",
   "id": "08fc44b9",
   "metadata": {},
   "source": [
    "### Python:- \n",
    "###### *easy to learn  *powerful oop's *very HLL *easy to used *Expressive Language *Interpreted Language *most popular\n",
    "\n",
    "### work\n",
    "######  *Python’s interactive interpreter is also called Python Shell\n",
    "###### * Script Mode\n",
    "\n",
    "### Variables\n",
    "###### *represents a named location that refers to value \n",
    "###### *labels/names to which we can assign value\n",
    "###### *Variable names can contain letters, numbers, and underscores\n",
    "###### *case sensitive\n",
    "###### *not contain spaces\n",
    "###### *not start with a number"
   ]
  },
  {
   "cell_type": "code",
   "execution_count": 1,
   "id": "f4012196",
   "metadata": {},
   "outputs": [
    {
     "name": "stdout",
     "output_type": "stream",
     "text": [
      "5 is of type <class 'int'>\n",
      "2.0 is of type <class 'float'>\n",
      "(1+2j) is complex number? True\n"
     ]
    }
   ],
   "source": [
    "b = 5\n",
    "\n",
    "print(b, \"is of type\", type(b))\n",
    "\n",
    "b = 2.0\n",
    "\n",
    "print(b, \"is of type\", type(b))\n",
    "\n",
    "b = 1+2j\n",
    "\n",
    "print(b, \"is complex number?\", isinstance(b,complex))"
   ]
  },
  {
   "cell_type": "code",
   "execution_count": 2,
   "id": "79172787",
   "metadata": {},
   "outputs": [
    {
     "name": "stdout",
     "output_type": "stream",
     "text": [
      "1 is complex number? True\n"
     ]
    }
   ],
   "source": [
    "b = 1\n",
    "print(b, \"is complex number?\", isinstance(b,int))"
   ]
  },
  {
   "cell_type": "code",
   "execution_count": 3,
   "id": "20901943",
   "metadata": {},
   "outputs": [
    {
     "name": "stdout",
     "output_type": "stream",
     "text": [
      "1750030355984\n",
      "1750030355984\n"
     ]
    }
   ],
   "source": [
    "a = 106 \n",
    "b = 106\n",
    "print(id(a))\n",
    "print(id(b))\n",
    "#both are store same laction\n",
    "#(-5,-4,.......255,256)"
   ]
  },
  {
   "cell_type": "code",
   "execution_count": 4,
   "id": "9938500e",
   "metadata": {},
   "outputs": [
    {
     "name": "stdout",
     "output_type": "stream",
     "text": [
      "1750106610576\n",
      "1750106616048\n"
     ]
    }
   ],
   "source": [
    "a = 1060\n",
    "b = 1060\n",
    "print(id(a))\n",
    "print(id(b))"
   ]
  },
  {
   "cell_type": "code",
   "execution_count": 5,
   "id": "7fc99940",
   "metadata": {},
   "outputs": [
    {
     "name": "stdout",
     "output_type": "stream",
     "text": [
      "1750030352912\n",
      "1750030352912\n",
      "1750030352912\n",
      "1750030352912\n"
     ]
    }
   ],
   "source": [
    "a = 10\n",
    "id1 = id(a)\n",
    "b = a + 2-2\n",
    "id2 = id(b)\n",
    "\n",
    "print(id(a))\n",
    "print(id1)\n",
    "print(id(b))\n",
    "print(id2)"
   ]
  },
  {
   "cell_type": "code",
   "execution_count": 6,
   "id": "facfd1e2",
   "metadata": {},
   "outputs": [
    {
     "name": "stdout",
     "output_type": "stream",
     "text": [
      "1750030355984\n",
      "1750030355984\n",
      "1750030355984\n",
      "1750030355984\n"
     ]
    }
   ],
   "source": [
    "a = 106\n",
    "b = a + 9 - 2 - 7\n",
    "c = id(a)\n",
    "d = id(b)\n",
    "print(id(a))\n",
    "print(id(b))\n",
    "print(c)\n",
    "print(d)\n"
   ]
  },
  {
   "cell_type": "code",
   "execution_count": null,
   "id": "a161c7da",
   "metadata": {},
   "outputs": [],
   "source": [
    "def print_pascal_triangle(size):\n",
    "    for i in range(0, size):\n",
    "        for j in range(0, i + 1):\n",
    "            print(decide_number(i, j), end=\" \")\n",
    "        print()\n",
    "\n",
    "def decide_number(n, k):\n",
    "    num = 1\n",
    "    if k > n - k:\n",
    "        k = n - k\n",
    "    for i in range(0, k):\n",
    "        num = num * (n - i)\n",
    "        num = num // (i + 1)\n",
    "    return num\n",
    "\n",
    "# set rows\n",
    "rows = 7\n",
    "print_pascal_triangle(rows)"
   ]
  },
  {
   "cell_type": "code",
   "execution_count": null,
   "id": "95c1ad83",
   "metadata": {},
   "outputs": [],
   "source": []
  },
  {
   "cell_type": "code",
   "execution_count": null,
   "id": "25012ded",
   "metadata": {},
   "outputs": [],
   "source": [
    "n=int(input())\n",
    "flag=False\n",
    "for i in range(2, n, 1):\n",
    "    if n%i==0:\n",
    "        flag=True\n",
    "    \n",
    "if (flag):\n",
    "    print(\"not prime\")\n",
    "else:\n",
    "    print('prime')\n",
    "    \n",
    "    "
   ]
  },
  {
   "cell_type": "code",
   "execution_count": null,
   "id": "b9686685",
   "metadata": {},
   "outputs": [],
   "source": [
    "n=int(input())\n",
    "for i in range(1, n, 1):\n",
    "    flag=False\n",
    "\n",
    "    for j in range(2, i, 1):\n",
    "        if i%j==0:\n",
    "            flag=True\n",
    "    \n",
    "    if not(flag):\n",
    "        print(i)\n",
    "    \n",
    "    "
   ]
  },
  {
   "cell_type": "code",
   "execution_count": 26,
   "id": "4a1e4d09",
   "metadata": {},
   "outputs": [
    {
     "name": "stdout",
     "output_type": "stream",
     "text": [
      "1\n",
      "11\n",
      "202\n",
      "3003\n",
      "40004\n"
     ]
    }
   ],
   "source": [
    "n=5\n",
    "print(1)\n",
    "i=1\n",
    "while i<n:\n",
    "    j=0\n",
    "    while j<i+1:\n",
    "#         print(i-1, end='')\n",
    "        if i==j or j==0:\n",
    "            print(i, end='')\n",
    "        else:\n",
    "            print(0, end='')\n",
    "        j+=1\n",
    "    print()\n",
    "    i+=1\n",
    "    \n"
   ]
  },
  {
   "cell_type": "code",
   "execution_count": 88,
   "id": "fbdf1c25",
   "metadata": {
    "scrolled": true
   },
   "outputs": [
    {
     "name": "stdout",
     "output_type": "stream",
     "text": [
      "    *\n",
      "   **\n",
      "  ***\n",
      " ****\n",
      "*****\n"
     ]
    }
   ],
   "source": [
    "n=5\n",
    "i=1\n",
    "while i<=n:\n",
    "    space=1\n",
    "    while space<=n-i:\n",
    "        print(' ',end=\"\")\n",
    "        space+=1\n",
    "    \n",
    "    increase=1\n",
    "    while increase<=i:\n",
    "        print('*',end=\"\")\n",
    "        increase+=1\n",
    "        \n",
    "    print()\n",
    "    i+=1"
   ]
  },
  {
   "cell_type": "code",
   "execution_count": 129,
   "id": "53cf90b3",
   "metadata": {},
   "outputs": [
    {
     "name": "stdout",
     "output_type": "stream",
     "text": [
      "    1\n",
      "   121\n",
      "  12321\n",
      " 1234321\n",
      "123454321\n"
     ]
    }
   ],
   "source": [
    "n=5\n",
    "i=1\n",
    "while i<=n:\n",
    "    \n",
    "    space=1\n",
    "    while space<=n-i:\n",
    "        print(' ', end='')\n",
    "        space+=1\n",
    "    \n",
    "    start = 1\n",
    "    while start<=i:\n",
    "        print(start, end='')\n",
    "        start+=1\n",
    "\n",
    "    decrease = i-1\n",
    "    while decrease>0:\n",
    "        print(decrease, end='')\n",
    "        decrease-=1\n",
    "    \n",
    "    print()\n",
    "    i+=1\n",
    "    \n"
   ]
  },
  {
   "cell_type": "code",
   "execution_count": 2,
   "id": "a9ade6ac",
   "metadata": {},
   "outputs": [
    {
     "name": "stdout",
     "output_type": "stream",
     "text": [
      "    *\n",
      "   ***\n",
      "  *****\n",
      " *******\n",
      "*********\n"
     ]
    }
   ],
   "source": [
    "n=5 \n",
    "i=1\n",
    "\n",
    "while i<=n:\n",
    "    \n",
    "    space=1\n",
    "    while space<=n-i:\n",
    "        print(' ', end='')\n",
    "        space+=1\n",
    "    \n",
    "    increase=1\n",
    "    while increase<=i:\n",
    "        print('*', end='')\n",
    "        increase+=1\n",
    "        \n",
    "    decrease=i-1\n",
    "    while decrease>0:\n",
    "        print('*', end='')\n",
    "        decrease-=1\n",
    "    \n",
    "    print()\n",
    "    i+=1\n",
    "    "
   ]
  },
  {
   "cell_type": "code",
   "execution_count": 1,
   "id": "f31e22eb",
   "metadata": {},
   "outputs": [
    {
     "name": "stdout",
     "output_type": "stream",
     "text": [
      "    *\n",
      "   ***\n",
      "  *****\n",
      " *******\n",
      "  *****\n",
      "   ***\n",
      "    *\n"
     ]
    }
   ],
   "source": [
    "# print with  for loop\n",
    "\n",
    "n= 7\n",
    "p= (n+1)//2\n",
    "q= (n)//2\n",
    "j=q\n",
    "i=1\n",
    "while i<=p:\n",
    "    s=0\n",
    "    while s<=p-i:\n",
    "        print(\" \", end='')\n",
    "        s+=1\n",
    "    st=1\n",
    "    while st<=(2*i)-1:\n",
    "        print(\"*\", end='')\n",
    "        st+=1\n",
    "    i+=1\n",
    "    print()\n",
    "\n",
    "\n",
    "\n",
    "while j>0:\n",
    "    ss=1\n",
    "    while ss<=q-j+2:\n",
    "        print(\" \", end='')\n",
    "        ss+=1\n",
    "    star=1\n",
    "    while star<=2*j-1:\n",
    "        print(\"*\", end='')\n",
    "        star+=1\n",
    "    j-=1\n",
    "    print()  "
   ]
  },
  {
   "cell_type": "code",
   "execution_count": null,
   "id": "bf212cf4",
   "metadata": {},
   "outputs": [],
   "source": [
    " 5432*\n",
    " 543*1\n",
    " 54*21\n",
    " 5*321\n",
    " *4321"
   ]
  },
  {
   "cell_type": "code",
   "execution_count": 7,
   "id": "0568d199",
   "metadata": {},
   "outputs": [
    {
     "name": "stdout",
     "output_type": "stream",
     "text": [
      "5432*\n",
      "543*1\n",
      "54*21\n",
      "5*321\n",
      "*4321\n"
     ]
    }
   ],
   "source": [
    "n = 5\n",
    "i = 1\n",
    "while i<=n:\n",
    "    j = 1\n",
    "    while j<=n-i:\n",
    "        print(n-j+1, end='')\n",
    "        j = j + 1\n",
    "    k=i   \n",
    "    while k<=i:\n",
    "        print(\"*\", end='')\n",
    "        k = k + 1\n",
    "    \n",
    "    l=1\n",
    "    while l<i:\n",
    "        print(i-l, end='')\n",
    "        l = l + 1\n",
    "        \n",
    "    print()\n",
    "    i = i + 1\n",
    "    "
   ]
  },
  {
   "cell_type": "code",
   "execution_count": 59,
   "id": "059a428d",
   "metadata": {},
   "outputs": [
    {
     "name": "stdout",
     "output_type": "stream",
     "text": [
      "Enter your number: 9\n",
      "9 is an Armstrong number\n"
     ]
    }
   ],
   "source": [
    "def check_armstrong(num):\n",
    "\torder = len(str(num))\n",
    "\tsum = 0\n",
    "\ttemp = num\n",
    "\twhile temp > 0:\n",
    "\t\tdigit = temp % 10\n",
    "\t\tsum += digit ** order\n",
    "\t\ttemp //= 10\n",
    "\treturn num == sum\n",
    " \n",
    "num = int(input('Enter your number: '))\n",
    " \n",
    "if check_armstrong(num):\n",
    "\tprint(num,\"is an Armstrong number\")\n",
    "else:\n",
    "\tprint(num,\"is not an Armstrong number\")"
   ]
  },
  {
   "cell_type": "code",
   "execution_count": 9,
   "id": "a51942ba",
   "metadata": {},
   "outputs": [
    {
     "ename": "TabError",
     "evalue": "inconsistent use of tabs and spaces in indentation (3081516401.py, line 11)",
     "output_type": "error",
     "traceback": [
      "\u001b[1;36m  Input \u001b[1;32mIn [9]\u001b[1;36m\u001b[0m\n\u001b[1;33m    return True\u001b[0m\n\u001b[1;37m    ^\u001b[0m\n\u001b[1;31mTabError\u001b[0m\u001b[1;31m:\u001b[0m inconsistent use of tabs and spaces in indentation\n"
     ]
    }
   ],
   "source": [
    "def check_armstrong(num):\n",
    "\torder = len(str(num))\n",
    "\tsum = 0\n",
    "\ttemp = num\n",
    "\twhile temp > 0:\n",
    "\t\tdigit = temp % 10\n",
    "\t\tsum += digit ** order\n",
    "\t\ttemp //= 10\n",
    "        \n",
    "\tif (num == sum):\n",
    "        return True\n",
    " \n",
    "num = int(input())\n",
    "\n",
    "if check_armstrong(num):\n",
    "\tprint(\"True\")\n",
    "else:\n",
    "\tprint(\"False\")"
   ]
  },
  {
   "cell_type": "markdown",
   "id": "3daa010b",
   "metadata": {},
   "source": [
    "#### while loop And Nested Conditionals\n",
    "###### print sum of n\n"
   ]
  },
  {
   "cell_type": "code",
   "execution_count": 5,
   "id": "02bad31d",
   "metadata": {},
   "outputs": [
    {
     "name": "stdout",
     "output_type": "stream",
     "text": [
      "10\n",
      "55\n"
     ]
    }
   ],
   "source": [
    "n = int(input())\n",
    "count = 1\n",
    "sum = 0\n",
    "\n",
    "while count<=n:\n",
    "    sum +=count\n",
    "    count+=1\n",
    "print(sum)\n",
    "    \n",
    "    "
   ]
  },
  {
   "cell_type": "code",
   "execution_count": 15,
   "id": "382b17c1",
   "metadata": {},
   "outputs": [
    {
     "name": "stdout",
     "output_type": "stream",
     "text": [
      "5\n",
      "1\n",
      "5\n",
      "25\n",
      "125\n",
      "625\n",
      "3125\n"
     ]
    }
   ],
   "source": [
    "##### Find X raised to power N\n",
    "\n",
    "n = int(input())\n",
    "count = 1\n",
    "power = 1\n",
    "\n",
    "while count<=n:\n",
    "    print(power)\n",
    "    power *=n\n",
    "    \n",
    "    count+=1\n",
    "print(power)\n",
    "    "
   ]
  },
  {
   "cell_type": "code",
   "execution_count": 26,
   "id": "9b7a975b",
   "metadata": {},
   "outputs": [
    {
     "name": "stdout",
     "output_type": "stream",
     "text": [
      "5\n",
      "4\n",
      "1 x 5 = 1\n",
      "5 x 5 = 5\n",
      "25 x 5 = 25\n",
      "125 x 5 = 125\n",
      "625\n"
     ]
    }
   ],
   "source": [
    "\n",
    "n = int(input())\n",
    "x = int(input())\n",
    "count = 1\n",
    "power = 1\n",
    "\n",
    "while count<=x:\n",
    "    print(power, \"x\", n, \"=\", power)\n",
    "    power *=n\n",
    "    count+=1\n",
    "print(power)\n",
    "    "
   ]
  },
  {
   "cell_type": "code",
   "execution_count": 29,
   "id": "07dde3a7",
   "metadata": {},
   "outputs": [
    {
     "name": "stdout",
     "output_type": "stream",
     "text": [
      "3\n",
      "2\n",
      "5\n",
      "Not Commom difference\n"
     ]
    }
   ],
   "source": [
    "##### Arithmetic Progression (common difference)\n",
    "a = int(input())\n",
    "b = int(input())\n",
    "c = int(input())\n",
    "d=b-a;\n",
    "e= c-b;\n",
    "if (d==e):\n",
    "    print(d)\n",
    "else:\n",
    "    print(\"Not Commom difference\")"
   ]
  },
  {
   "cell_type": "code",
   "execution_count": 30,
   "id": "54caa3b1",
   "metadata": {},
   "outputs": [
    {
     "name": "stdout",
     "output_type": "stream",
     "text": [
      "1\n",
      "2\n",
      "2\n",
      "3\n",
      "1\n"
     ]
    }
   ],
   "source": [
    "# You are given a rectangle in a plane. The coordinates of one of its diagonals are provided to you. \n",
    "#You have to print the total area of the rectangle.\n",
    "#The coordinates of the rectangle are provided as four integral values: x1, y1, x2, y2. \n",
    "#It is given that x1 < x2 and y1 < y2.\n",
    "\n",
    "a1 = int(input())\n",
    "a2 = int(input())\n",
    "b1 = int(input())\n",
    "b2 = int(input())\n",
    " \n",
    "d = (b1-a1)*(b2-a2)\n",
    "\n",
    "print(d)"
   ]
  },
  {
   "cell_type": "markdown",
   "id": "55f12115",
   "metadata": {},
   "source": [
    "## prime number"
   ]
  },
  {
   "cell_type": "code",
   "execution_count": 52,
   "id": "200e16ea",
   "metadata": {},
   "outputs": [
    {
     "name": "stdout",
     "output_type": "stream",
     "text": [
      "8\n",
      "Not Prime\n"
     ]
    }
   ],
   "source": [
    "n = int(input())\n",
    "count=2\n",
    "flag = True\n",
    "while count<n:\n",
    "    if n%count==0:\n",
    "        flag = False\n",
    "    count+=1\n",
    "    \n",
    "if not flag:\n",
    "    print(\"Not Prime\")\n",
    "else:\n",
    "    print(\" Prime\")\n",
    "    "
   ]
  },
  {
   "cell_type": "code",
   "execution_count": 58,
   "id": "578cd547",
   "metadata": {},
   "outputs": [
    {
     "name": "stdout",
     "output_type": "stream",
     "text": [
      "34\n",
      "1\n",
      "2\n",
      "3\n",
      "5\n",
      "7\n",
      "11\n",
      "13\n",
      "17\n",
      "19\n",
      "23\n",
      "29\n",
      "31\n"
     ]
    }
   ],
   "source": [
    "n = int(input())\n",
    "count=1\n",
    "while count<n:\n",
    "    j=2\n",
    "    flag = True\n",
    "    while j<count:        \n",
    "        if count%j==0:\n",
    "            flag = False\n",
    "        j+=1           \n",
    "    if flag:\n",
    "        print(count)\n",
    "    count+=1\n",
    "    "
   ]
  },
  {
   "cell_type": "code",
   "execution_count": 85,
   "id": "4334e1e3",
   "metadata": {},
   "outputs": [
    {
     "name": "stdout",
     "output_type": "stream",
     "text": [
      "Enter dataVinay\n",
      "for(index = 0 ) = V\n",
      "for(index = 1 ) = i\n",
      "for(index = 2 ) = n\n",
      "for(index = 3 ) = a\n",
      "for(index = 4 ) = y\n",
      "list= ['V', 'i', 'n', 'a', 'y']\n"
     ]
    }
   ],
   "source": [
    "n= input(\"Enter data\")\n",
    "l=list(n)\n",
    "\n",
    "for i in range(0, len(l)):\n",
    "    print(\"for(index\", '=', i,\")\", \"=\",l[i])\n",
    "\n",
    "print(\"list=\",l)"
   ]
  },
  {
   "cell_type": "code",
   "execution_count": null,
   "id": "79147707",
   "metadata": {},
   "outputs": [],
   "source": [
    "while True:\n",
    "    n = int(input(\"Enter Condition 1.Add, 2.Sub, 3.mul, 4.div, 5.Mod, 6.exit\"))\n",
    "    while n:\n",
    "        if n==1:\n",
    "            a=int(input(\"Enter first number\"))\n",
    "            b=int(input(\"Enter second number\"))\n",
    "            print(\"Sum of\", a, \"and\", b , \"is\" ,a+b)\n",
    "            break            \n",
    "        elif n==2:\n",
    "            a=int(input(\"Enter first number\"))\n",
    "            b=int(input(\"Enter second number\"))\n",
    "            print(\"Sub of\", a, \"and\", b , \"is\" ,a-b)\n",
    "            break            \n",
    "        elif n==3:\n",
    "            a=int(input(\"Enter first number\"))\n",
    "            b=int(input(\"Enter second number\"))\n",
    "            print(\"Mul of\", a, \"and\", b , \"is\" ,a*b)\n",
    "            break        \n",
    "        elif n==4:\n",
    "            a=int(input(\"Enter first number\"))\n",
    "            b=int(input(\"Enter second number\"))\n",
    "            print(\"Div of\", a, \"and\", b , \"is\" ,a//b)\n",
    "            break        \n",
    "        elif n==5:\n",
    "            a=int(input(\"Enter first number\"))\n",
    "            b=int(input(\"Enter second number\"))\n",
    "            print(\"Remender of\", a, \"and\", b , \"is\" ,a%b)\n",
    "            break        \n",
    "        elif n==6:\n",
    "            exit()\n",
    "        else:\n",
    "            print(\"Invalid Operation\")\n",
    "            break;\n",
    "exit()"
   ]
  },
  {
   "cell_type": "markdown",
   "id": "7ae9f82f",
   "metadata": {},
   "source": [
    "# Reverse of a number"
   ]
  },
  {
   "cell_type": "code",
   "execution_count": 17,
   "id": "e2eff98d",
   "metadata": {},
   "outputs": [
    {
     "name": "stdout",
     "output_type": "stream",
     "text": [
      "987654321\n"
     ]
    }
   ],
   "source": [
    "n=1234567890\n",
    "rev=0\n",
    "while 0<n:\n",
    "    rem=n%10\n",
    "    rev = rev * 10 + rem\n",
    "    n=n//10\n",
    "print(rev)"
   ]
  },
  {
   "cell_type": "code",
   "execution_count": 14,
   "id": "dd6388f4",
   "metadata": {},
   "outputs": [
    {
     "name": "stdout",
     "output_type": "stream",
     "text": [
      "098765432"
     ]
    }
   ],
   "source": [
    "n=\"234567890\"\n",
    "rev=0\n",
    "for i in reversed(n):\n",
    "    print(i,end='')"
   ]
  },
  {
   "cell_type": "code",
   "execution_count": 18,
   "id": "e490a489",
   "metadata": {},
   "outputs": [
    {
     "name": "stdout",
     "output_type": "stream",
     "text": [
      "1234567890\n",
      "0987654321\n"
     ]
    }
   ],
   "source": [
    "num = input()\n",
    "print(num[::-1])"
   ]
  },
  {
   "cell_type": "markdown",
   "id": "0404797f",
   "metadata": {},
   "source": [
    "# Sum of even & odd"
   ]
  },
  {
   "cell_type": "code",
   "execution_count": 61,
   "id": "a446614a",
   "metadata": {},
   "outputs": [
    {
     "name": "stdout",
     "output_type": "stream",
     "text": [
      "1234556789\n",
      "20 30\n"
     ]
    }
   ],
   "source": [
    "n = input()\n",
    "even=0\n",
    "odd=0\n",
    "\n",
    "for i in reversed(n):\n",
    "    j = int(i)\n",
    "    \n",
    "    if j%2==0:\n",
    "        even+=j\n",
    "    else:\n",
    "        odd+=j\n",
    "        \n",
    "print(even, odd)  "
   ]
  },
  {
   "cell_type": "markdown",
   "id": "6e78ed47",
   "metadata": {},
   "source": [
    "# Nth Fibonacci Number"
   ]
  },
  {
   "cell_type": "code",
   "execution_count": null,
   "id": "06c335cc",
   "metadata": {},
   "outputs": [],
   "source": [
    "def Fibonacci(n):\n",
    "    if n<= 0:\n",
    "        print(\"Incorrect input\")\n",
    "    elif n == 1:\n",
    "        return 0\n",
    "    elif n == 2:\n",
    "        return 1\n",
    "    else:\n",
    "        return Fibonacci(n-1)+Fibonacci(n-2)\n",
    "print(Fibonacci(21))"
   ]
  },
  {
   "cell_type": "code",
   "execution_count": null,
   "id": "88adf543",
   "metadata": {},
   "outputs": [],
   "source": [
    "def fibonacci(n):\n",
    "    a = 0\n",
    "    b = 1\n",
    "    if n < 0:\n",
    "        print(\"Incorrect input\")\n",
    "    elif n == 0:\n",
    "        return a\n",
    "    elif n == 1:\n",
    "        return b\n",
    "    else:\n",
    "        for i in range(2, n):\n",
    "            c = a + b\n",
    "            a = b\n",
    "            b = c\n",
    "        return b\n",
    "        return a\n",
    "    \n",
    "n = int(input())\n",
    "print(fibonacci(n))\n"
   ]
  },
  {
   "cell_type": "markdown",
   "id": "2779bff8",
   "metadata": {},
   "source": [
    "# Palindrome number"
   ]
  },
  {
   "cell_type": "code",
   "execution_count": 66,
   "id": "b4e4bb13",
   "metadata": {},
   "outputs": [
    {
     "name": "stdout",
     "output_type": "stream",
     "text": [
      "121\n",
      "True\n"
     ]
    }
   ],
   "source": [
    "def palindrome(num):\n",
    "    tem = num\n",
    "    rev = 0\n",
    "    rem = 0\n",
    "    while 0<num:\n",
    "        rem = num%10\n",
    "        rev = rev * 10 + rem \n",
    "        num = num//10\n",
    "    if(rev == tem):\n",
    "        return True\n",
    "    else:\n",
    "        return False\n",
    "\n",
    "num = int(input()) \n",
    "isPalindrome = palindrome(num)\n",
    "\n",
    "if isPalindrome:\n",
    "    print('True')\n",
    "else: \n",
    "    print(\"False\")"
   ]
  }
 ],
 "metadata": {
  "kernelspec": {
   "display_name": "Python 3 (ipykernel)",
   "language": "python",
   "name": "python3"
  },
  "language_info": {
   "codemirror_mode": {
    "name": "ipython",
    "version": 3
   },
   "file_extension": ".py",
   "mimetype": "text/x-python",
   "name": "python",
   "nbconvert_exporter": "python",
   "pygments_lexer": "ipython3",
   "version": "3.10.2"
  }
 },
 "nbformat": 4,
 "nbformat_minor": 5
}
